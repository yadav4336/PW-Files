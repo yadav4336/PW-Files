{
 "cells": [
  {
   "cell_type": "code",
   "execution_count": 2,
   "id": "41104256-33a0-4cf4-81e2-f2e11bfcef2f",
   "metadata": {},
   "outputs": [],
   "source": [
    "#Assingment for data structures."
   ]
  },
  {
   "cell_type": "code",
   "execution_count": 3,
   "id": "72069834-56e0-4924-b46a-1b64c5c7878f",
   "metadata": {},
   "outputs": [],
   "source": [
    "#1.What are data structures, and why are they important?\n",
    "#Ans. Data structures are specialized formats for organizing, storing, and accessing collections of data. They provide efficient ways to manage\n",
    "# information based on its characteristics and intended use. \n",
    "# They are important due to their lot of characteristics some of them are\n",
    "# they are like caontainers which hold our data and determines how we interact with them, improves efficiency of our peogramm, simplfy data management and\n",
    "# manipulation and memory usage.\n"
   ]
  },
  {
   "cell_type": "code",
   "execution_count": 4,
   "id": "a6a1a906-0726-4d9a-bf2a-9ff39e32929a",
   "metadata": {},
   "outputs": [],
   "source": [
    "#2 Explain the difference between mutable and immutable data types with examples?\n",
    "#Ans. mutable data are those data which can be modified using various operations such as lists, disctionaries and sets while immutable data are those \n",
    "#data which can be modified using operations such as tuple, strings and numbers."
   ]
  },
  {
   "cell_type": "code",
   "execution_count": 5,
   "id": "78f07120-29e5-4b7d-9971-999c4d02f37d",
   "metadata": {},
   "outputs": [],
   "source": [
    "#3. What are the main differences between lists and tuples in Python\n",
    "#Ans. main difference between lists and tuple is that list is mutable data set while tuple is immutale data set i.e. lists can be modififed, altered \n",
    "# using operations and functions whioe tuple has fix value and cannot be modified or altered."
   ]
  },
  {
   "cell_type": "code",
   "execution_count": 6,
   "id": "7ef6febd-fff8-4310-804e-2071e4a771f9",
   "metadata": {},
   "outputs": [],
   "source": [
    "#4.  Describe how dictionaries store data?\n",
    "#Ans. Dictionaries stores data in key:value format, means every key saved in dictionay has a defined values which may be changed using definite\n",
    "# operation or function."
   ]
  },
  {
   "cell_type": "code",
   "execution_count": 7,
   "id": "d142bba0-d29e-4aff-ab21-a11ce2f87d3d",
   "metadata": {},
   "outputs": [],
   "source": [
    "#5.  Why might you use a set instead of a list in Python?\n",
    "#Ans. set stores data in unique manner that means their is no duplicate entry in set while in list can have duplicate data entry."
   ]
  },
  {
   "cell_type": "code",
   "execution_count": 8,
   "id": "c9a6d92b-d62c-43fd-afb7-a8dbbb1b03da",
   "metadata": {},
   "outputs": [],
   "source": [
    "#6. What is a string in Python, and how is it different from a list?\n",
    "#Ans. sting in python is an data structure used to store data in quotes or double quotes. they are primarly used to represt text. Strings are immutable\n",
    "# data type i.e. value of string cannot be modified once defined using different operations. list is mutable data type i.e. can be modofied using\n",
    "# different operations. List can store no. of strings which string is just single value data."
   ]
  },
  {
   "cell_type": "code",
   "execution_count": 9,
   "id": "e0173fec-ac4f-4aa3-898c-1915915f4e46",
   "metadata": {},
   "outputs": [],
   "source": [
    "#7. How do tuples ensure data integrity in Python?\n",
    "#Ans. tuples is one of data type used to store data. Tuples are immutable data types which can not be modified using dufferent operation or functions.\n",
    "#this property of tuple (immutability) ensures the data integrity which means data cannot be modified  once it defined."
   ]
  },
  {
   "cell_type": "code",
   "execution_count": 10,
   "id": "0cdac1cc-d1fc-4b55-b1d0-187b76b29088",
   "metadata": {},
   "outputs": [],
   "source": [
    "#8.  What is a hash table, and how does it relate to dictionaries in Python?\n",
    "#Ans.  hash table is an data type which stores data in form of key:value structure. An hash table is closely related to dictionaries in python as \n",
    "# when we use dictonay in python it is using hash table as its base."
   ]
  },
  {
   "cell_type": "code",
   "execution_count": 11,
   "id": "68a1bfa3-9c49-4fa2-81ae-c66a04f949f9",
   "metadata": {},
   "outputs": [],
   "source": [
    "#9. Can lists contain different data types in Python?\n",
    "#Ans. Lists can contains different data ttypes in python as it is heterogeneous in nature means can can store different types of data such as strigs,\n",
    "#integers, float and complex numbers."
   ]
  },
  {
   "cell_type": "code",
   "execution_count": 12,
   "id": "831d1e3d-2434-49c6-8ac0-7d57547ffec0",
   "metadata": {},
   "outputs": [],
   "source": [
    "#10. Explain why strings are immutable in Python?\n",
    "#Ans. Strings are immutable in python because their value cannot be changed using any operations."
   ]
  },
  {
   "cell_type": "code",
   "execution_count": 13,
   "id": "c913bbc8-7dbe-40e7-a934-b83f7e1464e8",
   "metadata": {},
   "outputs": [],
   "source": [
    "#11. What advantages do dictionaries offer over lists for certain tasks?\n",
    "#Ans. Dictionaries stores data in key:value data type that means any key stored in dictonary has its values defined while list only stors data in normal\n",
    "# form."
   ]
  },
  {
   "cell_type": "code",
   "execution_count": 14,
   "id": "9a4982f3-29fa-413b-b6c4-e80235845471",
   "metadata": {},
   "outputs": [],
   "source": [
    "#12.  Describe a scenario where using a tuple would be preferable over a list?\n",
    "#Ans. tuple are immutables data structures while lista are mutable data strucutures. That means tuples cannot be modofied wile kists can be modified.\n",
    "# tuples can be preferred where data integrity is to be maintained such as to store password and user names etc."
   ]
  },
  {
   "cell_type": "code",
   "execution_count": 15,
   "id": "881ec299-6fbf-48a1-bd0b-b7a091d91516",
   "metadata": {},
   "outputs": [],
   "source": [
    "#13.  How do sets handle duplicate values in Python?\n",
    "#Ans.  Sets in pythons only stores unique value that means any dublicate value which is made is disregraded."
   ]
  },
  {
   "cell_type": "code",
   "execution_count": 16,
   "id": "2cd9a140-f21d-4e9e-bd5c-2b29a089ab50",
   "metadata": {},
   "outputs": [],
   "source": [
    "#14.  How does the “in” keyword work differently for lists and dictionaries?\n",
    "#Ans. \"in\" keyword works for lists as it refers to a single data while same \"in\" keyword in dictoronaries refers to both the key as well as its defined\n",
    "# value."
   ]
  },
  {
   "cell_type": "code",
   "execution_count": 17,
   "id": "0f64c681-c38e-473b-9dd0-3dcb05b81c6c",
   "metadata": {},
   "outputs": [],
   "source": [
    "#15. Can you modify the elements of a tuple? Explain why or why not?\n",
    "#Ans. No, tuples cannot be modified. That means tuples once created cannot be changed or modified. As tuple is predefined in python programming\n",
    "# language their chacateritics of immutability is pre defined in language."
   ]
  },
  {
   "cell_type": "code",
   "execution_count": 18,
   "id": "c9017536-154e-486c-9f95-32159cb03259",
   "metadata": {},
   "outputs": [],
   "source": [
    "#16. What is a nested dictionary, and give an example of its use case?\n",
    "#Ans. Nested dictionary is data structure which contains dictionary inside a dictonary. Nested disctonary is used  where complex is stored such as '\n",
    "#JSON data file or emplyee informations and many more."
   ]
  },
  {
   "cell_type": "code",
   "execution_count": 19,
   "id": "460658ef-6dc8-410f-9819-afc7efc93176",
   "metadata": {},
   "outputs": [],
   "source": [
    "#17. Describe the time complexity of accessing elements in a dictionary?\n",
    "#Ans. ???"
   ]
  },
  {
   "cell_type": "code",
   "execution_count": 20,
   "id": "8b15fcd1-4b65-4ba8-8d31-ce85cb39292b",
   "metadata": {},
   "outputs": [],
   "source": [
    "#18. In what situations are lists preferred over dictionaries?\n",
    "#Ans. lists are preferred over dictionaries where a oredred sequence oda data is required as lists content ae indexed while dictonaries are used to\n",
    "# store data in key:value forms."
   ]
  },
  {
   "cell_type": "code",
   "execution_count": 22,
   "id": "8c01d837-09a7-4e01-9cf5-3d6541b05b8a",
   "metadata": {},
   "outputs": [],
   "source": [
    "#19. Why are dictionaries considered unordered, and how does that affect data retrieval?\n",
    "#Ans. dictnories are considered unordered as the data is stored in key:value form that means thier is no such indexzation of data that affects the\n",
    "# retrival of data as data can be only accsed as value of stored key not as indexaation."
   ]
  },
  {
   "cell_type": "code",
   "execution_count": 23,
   "id": "95403e42-91dd-40f1-8c98-c58064cfafc8",
   "metadata": {},
   "outputs": [],
   "source": [
    "#20.  Explain the difference between a list and a dictionary in terms of data retrieval?\n",
    "#Ans. Data which is stored in list can be accsed easily as data is stored with indexzation while tha data stored in dictonary is stored in form\n",
    "# of key:value sturucure that means data can be accesed only in form of value of stored key not as indexzation."
   ]
  },
  {
   "cell_type": "code",
   "execution_count": 24,
   "id": "7b9f6250-58c4-4702-8df3-76735c743d22",
   "metadata": {},
   "outputs": [],
   "source": [
    "#Practical Questions."
   ]
  },
  {
   "cell_type": "code",
   "execution_count": 30,
   "id": "dcc5e43b-1d04-4188-b7dd-287bf3294def",
   "metadata": {},
   "outputs": [
    {
     "name": "stdout",
     "output_type": "stream",
     "text": [
      "<class 'str'>\n",
      "Shubham\n"
     ]
    }
   ],
   "source": [
    "#1. Write a code to create a string with your name and print it?\n",
    "\"Shubham\"\n",
    "a= \"Shubham\"\n",
    "print(type(a))\n",
    "print(a)"
   ]
  },
  {
   "cell_type": "code",
   "execution_count": 32,
   "id": "155f64e1-e692-4589-8162-cf29cca3c226",
   "metadata": {},
   "outputs": [
    {
     "data": {
      "text/plain": [
       "11"
      ]
     },
     "execution_count": 32,
     "metadata": {},
     "output_type": "execute_result"
    }
   ],
   "source": [
    "#2. Write a code to find the length of the string \"Hello World\"?\n",
    "a = \"Hello World\"\n",
    "len(a)"
   ]
  },
  {
   "cell_type": "code",
   "execution_count": 35,
   "id": "6c05519f-6843-4353-bd8b-7fdc5b5c28fc",
   "metadata": {},
   "outputs": [
    {
     "data": {
      "text/plain": [
       "'Pyt'"
      ]
     },
     "execution_count": 35,
     "metadata": {},
     "output_type": "execute_result"
    }
   ],
   "source": [
    "#3.  Write a code to slice the first 3 characters from the string \"Python Programming\"?\n",
    "\"Python Programming\"\n",
    "a = \"Python Programming\"\n",
    "a[:3]"
   ]
  },
  {
   "cell_type": "code",
   "execution_count": 38,
   "id": "4056722a-fd9c-43e6-a03f-34da756d0ab9",
   "metadata": {},
   "outputs": [
    {
     "data": {
      "text/plain": [
       "'HELLO'"
      ]
     },
     "execution_count": 38,
     "metadata": {},
     "output_type": "execute_result"
    }
   ],
   "source": [
    "#4. Write a code to convert the string \"hello\" to uppercase?\n",
    "\"hello\"\n",
    "a = \"hello\"\n",
    "a.upper()"
   ]
  },
  {
   "cell_type": "code",
   "execution_count": 47,
   "id": "e0cdcf36-aca4-4d29-983b-f1f643c2aec9",
   "metadata": {},
   "outputs": [
    {
     "data": {
      "text/plain": [
       "'I like orange'"
      ]
     },
     "execution_count": 47,
     "metadata": {},
     "output_type": "execute_result"
    }
   ],
   "source": [
    "#5.  Write a code to replace the word \"apple\" with \"orange\" in the string \"I like apple\"?\n",
    "\"I like apple\"\n",
    "a = \"I like apple\"\n",
    "a.replace(\"apple\", \"orange\")"
   ]
  },
  {
   "cell_type": "code",
   "execution_count": 50,
   "id": "d3dac97c-5ab3-48dd-b3c2-04a27508f143",
   "metadata": {},
   "outputs": [
    {
     "name": "stdout",
     "output_type": "stream",
     "text": [
      "[1, 2, 3, 4, 5]\n"
     ]
    }
   ],
   "source": [
    "#6. Write a code to create a list with numbers 1 to 5 and print it?\n",
    "a = list(range(1,6))\n",
    "print(a)"
   ]
  },
  {
   "cell_type": "code",
   "execution_count": 57,
   "id": "5ca3fa8e-fbf1-448f-9351-0f3db2ae8b0e",
   "metadata": {},
   "outputs": [
    {
     "name": "stdout",
     "output_type": "stream",
     "text": [
      "[1, 2, 3, 4, 10]\n"
     ]
    }
   ],
   "source": [
    "#7. Write a code to append the number 10 to the list [1, 2, 3, 4]?\n",
    "a = [1, 2, 3, 4]\n",
    "a.append(10)\n",
    "print(a)"
   ]
  },
  {
   "cell_type": "code",
   "execution_count": 59,
   "id": "59252ec6-456a-4da9-a468-6e2ba3d30ef6",
   "metadata": {},
   "outputs": [
    {
     "name": "stdout",
     "output_type": "stream",
     "text": [
      "[1, 2, 4, 5]\n"
     ]
    }
   ],
   "source": [
    "#8.  Write a code to remove the number 3 from the list [1, 2, 3, 4, 5]?\n",
    "a = [1, 2, 3, 4, 5]\n",
    "a.remove(3)\n",
    "print(a)"
   ]
  },
  {
   "cell_type": "code",
   "execution_count": 62,
   "id": "c51b641c-2216-49a5-ab7d-59b130b6ea34",
   "metadata": {},
   "outputs": [
    {
     "data": {
      "text/plain": [
       "'b'"
      ]
     },
     "execution_count": 62,
     "metadata": {},
     "output_type": "execute_result"
    }
   ],
   "source": [
    "#9. Write a code to access the second element in the list ['a', 'b', 'c', 'd']?\n",
    "a = ['a', 'b', 'c', 'd']\n",
    "a[1]"
   ]
  },
  {
   "cell_type": "code",
   "execution_count": 66,
   "id": "32af2b73-2e08-467b-bd92-02cb5d1dbc5e",
   "metadata": {},
   "outputs": [
    {
     "data": {
      "text/plain": [
       "[50, 40, 30, 20, 10]"
      ]
     },
     "execution_count": 66,
     "metadata": {},
     "output_type": "execute_result"
    }
   ],
   "source": [
    "#10.  Write a code to reverse the list [10, 20, 30, 40, 50]?\n",
    "a = [10, 20, 30, 40, 50]\n",
    "a[::-1]"
   ]
  },
  {
   "cell_type": "code",
   "execution_count": 68,
   "id": "ad7f794f-c410-4bdf-a3f9-6eade99ad8ec",
   "metadata": {},
   "outputs": [
    {
     "data": {
      "text/plain": [
       "tuple"
      ]
     },
     "execution_count": 68,
     "metadata": {},
     "output_type": "execute_result"
    }
   ],
   "source": [
    "#11.  Write a code to create a tuple with the elements 100, 200, 300 and print it?\n",
    "a = (100, 200, 300)\n",
    "type(a)"
   ]
  },
  {
   "cell_type": "code",
   "execution_count": 70,
   "id": "10e3ef64-5df0-40e6-94c4-380fd73ac77d",
   "metadata": {},
   "outputs": [
    {
     "data": {
      "text/plain": [
       "'blue'"
      ]
     },
     "execution_count": 70,
     "metadata": {},
     "output_type": "execute_result"
    }
   ],
   "source": [
    "#12.  Write a code to access the second-to-last element of the tuple ('red', 'green', 'blue', 'yellow').?\n",
    "a = ('red', 'green', 'blue', 'yellow')\n",
    "a[-2]"
   ]
  },
  {
   "cell_type": "code",
   "execution_count": 76,
   "id": "2b7f61df-94da-4b90-8e3e-dfce5a34bb2f",
   "metadata": {},
   "outputs": [
    {
     "name": "stdout",
     "output_type": "stream",
     "text": [
      "5\n"
     ]
    }
   ],
   "source": [
    "#13.  Write a code to find the minimum number in the tuple (10, 20, 5, 15).?\n",
    "a = (10, 20, 5, 15)\n",
    "b = min(a)\n",
    "print(b)"
   ]
  },
  {
   "cell_type": "code",
   "execution_count": 78,
   "id": "baadcc8d-6bb1-4726-8034-5e8babd8df7c",
   "metadata": {},
   "outputs": [
    {
     "data": {
      "text/plain": [
       "1"
      ]
     },
     "execution_count": 78,
     "metadata": {},
     "output_type": "execute_result"
    }
   ],
   "source": [
    "#14. . Write a code to find the index of the element \"cat\" in the tuple ('dog', 'cat', 'rabbit').?\n",
    "a = ('dog', 'cat', 'rabbit')\n",
    "a.index(\"cat\")"
   ]
  },
  {
   "cell_type": "code",
   "execution_count": 82,
   "id": "9441eafc-9a62-4e57-9a72-894bddee58d6",
   "metadata": {},
   "outputs": [
    {
     "name": "stdout",
     "output_type": "stream",
     "text": [
      "kiwi is not in tuple\n"
     ]
    }
   ],
   "source": [
    "#15.  Write a code to create a tuple containing three different fruits and check if \"kiwi\" is in it.\n",
    "a = (\"mango\", \"orange\", \"banana\")\n",
    "if \"kiwi\" in a:\n",
    "    print(\"kiwi is in tuple\")\n",
    "else:\n",
    "    print(\"kiwi is not in tuple\")"
   ]
  },
  {
   "cell_type": "code",
   "execution_count": 84,
   "id": "597891c1-8419-434c-a894-e62da8bde18e",
   "metadata": {},
   "outputs": [
    {
     "name": "stdout",
     "output_type": "stream",
     "text": [
      "<class 'set'>\n",
      "{'c', 'b', 'a'}\n"
     ]
    }
   ],
   "source": [
    "#16.  Write a code to create a set with the elements 'a', 'b', 'c' and print it.?\n",
    "my_set = {\"a\", \"b\", \"c\"}\n",
    "print(type(my_set))\n",
    "print(my_set)"
   ]
  },
  {
   "cell_type": "code",
   "execution_count": 110,
   "id": "1270d6ac-510b-4f08-b308-69c1677b7781",
   "metadata": {},
   "outputs": [
    {
     "name": "stdout",
     "output_type": "stream",
     "text": [
      "set()\n"
     ]
    }
   ],
   "source": [
    "#17. Write a code to clear all elements from the set {1, 2, 3, 4, 5}.?\n",
    "a = {1, 2, 3, 4, 5}\n",
    "b = (1, 2, 3, 4, 5)\n",
    "for b in list(a):\n",
    "    a.remove(b)\n",
    "print(a)"
   ]
  },
  {
   "cell_type": "code",
   "execution_count": 111,
   "id": "58637530-9180-4591-bc6a-417b4147a1f6",
   "metadata": {},
   "outputs": [
    {
     "name": "stdout",
     "output_type": "stream",
     "text": [
      "{1, 2, 3}\n"
     ]
    }
   ],
   "source": [
    "#18. Write a code to remove the element 4 from the set {1, 2, 3, 4}.?\n",
    "a = {1, 2, 3, 4}\n",
    "a.remove(4)\n",
    "print(a)"
   ]
  },
  {
   "cell_type": "code",
   "execution_count": 113,
   "id": "9265fb21-b321-4ccf-b22b-c0d511fafc7e",
   "metadata": {},
   "outputs": [
    {
     "data": {
      "text/plain": [
       "{1, 2, 3, 4, 5}"
      ]
     },
     "execution_count": 113,
     "metadata": {},
     "output_type": "execute_result"
    }
   ],
   "source": [
    "#19. Write a code to find the union of two sets {1, 2, 3} and {3, 4, 5}.?\n",
    "a = {1, 2, 3}\n",
    "b = {3, 4, 5}\n",
    "a.union(b)"
   ]
  },
  {
   "cell_type": "code",
   "execution_count": 116,
   "id": "2ba58f34-dd2c-4b8c-97c1-242915580d27",
   "metadata": {},
   "outputs": [
    {
     "data": {
      "text/plain": [
       "{2, 3}"
      ]
     },
     "execution_count": 116,
     "metadata": {},
     "output_type": "execute_result"
    }
   ],
   "source": [
    "#20. Write a code to find the intersection of two sets {1, 2, 3} and {2, 3, 4}.?\n",
    "a = {1, 2, 3}\n",
    "b = {2, 3, 4}\n",
    "a.intersection(b)"
   ]
  },
  {
   "cell_type": "code",
   "execution_count": 118,
   "id": "63087edf-99d4-4e1f-ba31-10c8bbfba76c",
   "metadata": {},
   "outputs": [
    {
     "name": "stdout",
     "output_type": "stream",
     "text": [
      "{'name': 'shubham', 'age': 27, 'city': 'karad'}\n"
     ]
    }
   ],
   "source": [
    "#21. Write a code to create a dictionary with the keys \"name\", \"age\", and \"city\", and print it.?\n",
    "a = {\"name\":\"shubham\", \"age\":27, \"city\":\"karad\"}\n",
    "print(a)"
   ]
  },
  {
   "cell_type": "code",
   "execution_count": 121,
   "id": "947cbe2d-a769-4ac8-af1a-b664e1b2fe9a",
   "metadata": {},
   "outputs": [
    {
     "name": "stdout",
     "output_type": "stream",
     "text": [
      "{'name': 'John', 'age': 25, 'country': 'USA'}\n"
     ]
    }
   ],
   "source": [
    "#22.  Write a code to add a new key-value pair \"country\": \"USA\" to the dictionary {'name': 'John', 'age': 25}?\n",
    "a = {'name': 'John', 'age': 25}\n",
    "b = {\"country\": \"USA\"}\n",
    "a.update(b)\n",
    "print(a)"
   ]
  },
  {
   "cell_type": "code",
   "execution_count": 130,
   "id": "819b617c-b24e-4bab-8fd4-a8ae0dbaa360",
   "metadata": {},
   "outputs": [
    {
     "name": "stdout",
     "output_type": "stream",
     "text": [
      "Alice\n"
     ]
    }
   ],
   "source": [
    "#23.Write a code to access the value associated with the key \"name\" in the dictionary {'name': 'Alice', 'age': 30}?\n",
    "a = {'name': 'Alice', 'age': 30}\n",
    "print(a[\"name\"])"
   ]
  },
  {
   "cell_type": "code",
   "execution_count": 134,
   "id": "b5703baf-b1ab-48ee-9f33-73e60cf14ea6",
   "metadata": {},
   "outputs": [
    {
     "name": "stdout",
     "output_type": "stream",
     "text": [
      "{'name': 'Bob', 'city': 'New York'}\n"
     ]
    }
   ],
   "source": [
    "#24. Write a code to remove the key \"age\" from the dictionary {'name': 'Bob', 'age': 22, 'city': 'New York'}?\n",
    "a = {'name': 'Bob', 'age': 22, 'city': 'New York'}\n",
    "a.pop(\"age\")\n",
    "print(a)"
   ]
  },
  {
   "cell_type": "code",
   "execution_count": 137,
   "id": "19c50c1a-8271-4511-8c5c-4b9d1d589531",
   "metadata": {},
   "outputs": [
    {
     "name": "stdout",
     "output_type": "stream",
     "text": [
      "The key 'city' exists in the dictionary.\n"
     ]
    }
   ],
   "source": [
    "#25. Write a code to check if the key \"city\" exists in the dictionary {'name': 'Alice', 'city': 'Paris'}?\n",
    "a = {'name': 'Alice', 'city': 'Paris'}\n",
    "if \"city\" in a:\n",
    "    print(\"The key 'city' exists in the dictionary.\")\n",
    "else:\n",
    "    print(\"The key 'city' does not exist in the dictionary.\")"
   ]
  },
  {
   "cell_type": "code",
   "execution_count": 140,
   "id": "562e5279-f6ee-4302-a94d-f5358a9b7cbf",
   "metadata": {},
   "outputs": [
    {
     "name": "stdout",
     "output_type": "stream",
     "text": [
      "('shubham', 'yadav', 'karad')\n",
      "['shubham', 'yadav', 'karad']\n",
      "{'name': 'shubham', 'surname': 'yadav', 'city': 'karad'}\n"
     ]
    }
   ],
   "source": [
    "#26.  Write a code to create a list, a tuple, and a dictionary, and print them all.?\n",
    "a = (\"shubham\", \"yadav\", \"karad\")\n",
    "b = [\"shubham\", \"yadav\", \"karad\"]\n",
    "c = {\"name\":\"shubham\", \"surname\":\"yadav\", \"city\":\"karad\"}\n",
    "print(a)\n",
    "print(b)\n",
    "print(c)"
   ]
  },
  {
   "cell_type": "code",
   "execution_count": 154,
   "id": "f3cc8855-2231-41d3-bc28-c7b9c837088a",
   "metadata": {},
   "outputs": [
    {
     "name": "stdout",
     "output_type": "stream",
     "text": [
      "[4, 59, 94, 32, 5]\n"
     ]
    }
   ],
   "source": [
    "#27.  Write a code to create a list of 5 random numbers between 1 and 100, sort it in ascending order, and print the  result.(replaced)\n",
    "import random\n",
    "\n",
    "a = random.sample(range(1, 100), 5)\n",
    "\n",
    "print(a)"
   ]
  },
  {
   "cell_type": "code",
   "execution_count": 157,
   "id": "ca3b3801-1ce5-414f-9ef5-7133b0d269bd",
   "metadata": {},
   "outputs": [
    {
     "data": {
      "text/plain": [
       "'maharashtra'"
      ]
     },
     "execution_count": 157,
     "metadata": {},
     "output_type": "execute_result"
    }
   ],
   "source": [
    "#28.  Write a code to create a list with strings and print the element at the third index?\n",
    "a = [\"shubham\", \"yadav\", \"karad\", \"maharashtra\", \"india\"]\n",
    "a[3]"
   ]
  },
  {
   "cell_type": "code",
   "execution_count": 162,
   "id": "36b260a6-aa1c-49c3-bfad-c31b434b46bc",
   "metadata": {},
   "outputs": [
    {
     "name": "stdout",
     "output_type": "stream",
     "text": [
      "{'shubham': 'name', 'yadav': 'surname', 'karad': 'city', 'age': 27, 'gender': 'male'}\n"
     ]
    }
   ],
   "source": [
    "#29. Write a code to combine two dictionaries into one and print the result.?\n",
    "a = {\"shubham\":\"name\", \"yadav\":\"surname\", \"karad\":\"city\"}\n",
    "b = {\"age\":27, \"gender\":\"male\"}\n",
    "c = a | b\n",
    "print(c)"
   ]
  },
  {
   "cell_type": "code",
   "execution_count": 165,
   "id": "170023cf-dadf-4a61-b34f-6def73eb1b5b",
   "metadata": {},
   "outputs": [
    {
     "data": {
      "text/plain": [
       "{'karad', 'shubham', 'yadav'}"
      ]
     },
     "execution_count": 165,
     "metadata": {},
     "output_type": "execute_result"
    }
   ],
   "source": [
    "#30. Write a code to convert a list of strings into a set.?\n",
    "list_string = [\"shubham\",\"yadav\",\"karad\"]\n",
    "set(list_string)"
   ]
  }
 ],
 "metadata": {
  "kernelspec": {
   "display_name": "Python 3 (ipykernel)",
   "language": "python",
   "name": "python3"
  },
  "language_info": {
   "codemirror_mode": {
    "name": "ipython",
    "version": 3
   },
   "file_extension": ".py",
   "mimetype": "text/x-python",
   "name": "python",
   "nbconvert_exporter": "python",
   "pygments_lexer": "ipython3",
   "version": "3.13.5"
  },
  "widgets": {
   "application/vnd.jupyter.widget-state+json": {
    "state": {},
    "version_major": 2,
    "version_minor": 0
   }
  }
 },
 "nbformat": 4,
 "nbformat_minor": 5
}
