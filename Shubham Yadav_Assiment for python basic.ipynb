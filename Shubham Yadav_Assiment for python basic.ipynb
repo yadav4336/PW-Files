{
 "cells": [
  {
   "cell_type": "code",
   "execution_count": 3,
   "id": "4d533ad6-d093-4df9-b985-eecf1783c24c",
   "metadata": {},
   "outputs": [],
   "source": [
    "# Python Basics Questions"
   ]
  },
  {
   "cell_type": "code",
   "execution_count": 9,
   "id": "2e2cb006-3854-415b-9e21-2e7f0b7352ed",
   "metadata": {},
   "outputs": [],
   "source": [
    "# 1. What is Python, and why is it popular?\n",
    "#Ans. Python is programming language and its is popular due to easy to use & learn nature, large library, opne-souce and large user base."
   ]
  },
  {
   "cell_type": "code",
   "execution_count": 15,
   "id": "e53ba447-ac7a-4ef8-bc42-85976743bd24",
   "metadata": {},
   "outputs": [],
   "source": [
    "#2. What is an interpreter in Python?\n",
    "#Ans. Python interpreter is program that is used to run command using pre-defined keywords."
   ]
  },
  {
   "cell_type": "code",
   "execution_count": 14,
   "id": "56586099-b799-427a-9464-36fedebcbbae",
   "metadata": {},
   "outputs": [],
   "source": [
    "#3. What are pre-defined keywords in Python?\n",
    "#Ans. Pre-defined keywords in python are those whice are pre=defined with special functions such as if,else,contiue,break,etc. they are predefined and\n",
    "#     cannot be used as other fuctions such as variable or string."
   ]
  },
  {
   "cell_type": "code",
   "execution_count": 18,
   "id": "cecb5fc5-efe5-448b-a74a-4ea4c2ad40e3",
   "metadata": {},
   "outputs": [],
   "source": [
    "#4. Can keywords be used as variable names?\n",
    "#Ans. As keywrods are pre=-defined they canot be used as variable names."
   ]
  },
  {
   "cell_type": "code",
   "execution_count": 19,
   "id": "f8743711-ba80-451a-ae59-2dd27fdd9ffa",
   "metadata": {},
   "outputs": [],
   "source": [
    "#5.What is mutability in Python?\n",
    "#Ans. Mutability in python is property of an object that obeject can be changed or modified such as list which cam be modified or chnaged using \n",
    "# differenr operators, while some objets like string cannot be changed using operators."
   ]
  },
  {
   "cell_type": "code",
   "execution_count": 21,
   "id": "ecda3b5d-383b-4e01-b9a8-d476dc124e42",
   "metadata": {},
   "outputs": [],
   "source": [
    "#6. Why are lists mutable, but tuples are immutable?\n",
    "#Ans. Lists are mutable because they can be chnaged using different types of operators such extend, append and more, while tupple once created cannot \n",
    "# be altered."
   ]
  },
  {
   "cell_type": "code",
   "execution_count": 22,
   "id": "363f43dc-2901-452d-8789-e6d9ebec37d8",
   "metadata": {},
   "outputs": [],
   "source": [
    "#7. What is the difference between “==” and “is” operators in Python?\n",
    "#Ans. \"\"==\"\" is equlity operator and it defines eqaul value on both sides, while \"\"is\"\" is identity operator which defines location of object in code."
   ]
  },
  {
   "cell_type": "code",
   "execution_count": 23,
   "id": "7d1dd9e9-3837-4737-908d-e1916d9e6d11",
   "metadata": {},
   "outputs": [],
   "source": [
    "#8. What are logical operators in Python?\n",
    "#Ans. logical operators are operator which are used to combine statements based upon user input or next condition. basically, their are three logical\n",
    "# operator which are and, or, not."
   ]
  },
  {
   "cell_type": "code",
   "execution_count": 24,
   "id": "d0d7570d-4ae4-429e-899e-984e8443a346",
   "metadata": {},
   "outputs": [],
   "source": [
    "#9. What is type casting in Python?\n",
    "#Ans. type casting in python is process of converting type of an object to another type such as integer to an variable."
   ]
  },
  {
   "cell_type": "code",
   "execution_count": 25,
   "id": "f3a41c74-95a0-417c-aea4-c3593b298847",
   "metadata": {},
   "outputs": [],
   "source": [
    "#10. What is the difference between implicit and explicit type casting?\n",
    "#Ans. Implicit casting is type of casting that is done at machine end and its automatic as per need while explicit casting is user specified as per \n",
    "# requirement manually."
   ]
  },
  {
   "cell_type": "code",
   "execution_count": 26,
   "id": "ee5871ad-6cc0-4f40-b18e-0745c10f3e94",
   "metadata": {},
   "outputs": [],
   "source": [
    "#11. What is the purpose of conditional statements in Python?\n",
    "#Ans. Conditinal statements in python are used primary for certain conditions which consists of desicions, user input and many more."
   ]
  },
  {
   "cell_type": "code",
   "execution_count": 27,
   "id": "62320967-62a4-4178-a234-8ca0bffc9ce6",
   "metadata": {},
   "outputs": [],
   "source": [
    "#12. How does the elif statement work?\n",
    "#Ans. elif statement(else if) is an conditional statement and used to check certain condition and work according to them.\n",
    "#(take necessary actions as per defined in code). "
   ]
  },
  {
   "cell_type": "code",
   "execution_count": 28,
   "id": "90231885-5463-4f8b-a3e9-d016407f18ec",
   "metadata": {},
   "outputs": [],
   "source": [
    "#13. What is the difference between for and while loops?\n",
    "#Ans. For fuction is used for certain variables of stings while loops are used for certain conditions and unless and until certain conditions \n",
    "# which are specified by user are met loop continue to work."
   ]
  },
  {
   "cell_type": "code",
   "execution_count": null,
   "id": "ae578b9c-4bdb-4f53-881b-7e87f391724c",
   "metadata": {},
   "outputs": [],
   "source": [
    "#14.  Describe a scenario where a while loop is more suitable than a for loop.?\n",
    "#Ans. ???????"
   ]
  },
  {
   "cell_type": "code",
   "execution_count": 30,
   "id": "8e4d0e50-2dec-4650-aa2e-a74f1b33cecd",
   "metadata": {},
   "outputs": [
    {
     "name": "stdout",
     "output_type": "stream",
     "text": [
      "Hello, World!\n"
     ]
    }
   ],
   "source": [
    "#Practical Questions\n",
    "#1. Write a Python program to print \"Hello, World!\"?\n",
    "x=\"Hello, World!\"\n",
    "print(x)\n"
   ]
  },
  {
   "cell_type": "code",
   "execution_count": 36,
   "id": "34995e88-3ddf-4d51-85cb-03b010247475",
   "metadata": {},
   "outputs": [
    {
     "name": "stdout",
     "output_type": "stream",
     "text": [
      "My name is Shubham and my age is 27\n"
     ]
    }
   ],
   "source": [
    "#2.  Write a Python program that displays your name and age?\n",
    "name=\"Shubham\"\n",
    "age=27\n",
    "print(f\"My name is {name} and my age is {age}\")"
   ]
  },
  {
   "cell_type": "code",
   "execution_count": 47,
   "id": "35a0687f-7558-47ca-a2ca-cc6073fc8756",
   "metadata": {},
   "outputs": [
    {
     "name": "stdout",
     "output_type": "stream",
     "text": [
      "['False', 'None', 'True', 'and', 'as', 'assert', 'async', 'await', 'break', 'class', 'continue', 'def', 'del', 'elif', 'else', 'except', 'finally', 'for', 'from', 'global', 'if', 'import', 'in', 'is', 'lambda', 'nonlocal', 'not', 'or', 'pass', 'raise', 'return', 'try', 'while', 'with', 'yield']\n"
     ]
    }
   ],
   "source": [
    "#3. Write code to print all the pre-defined keywords in Python using the keyword library?import keyword?\n",
    "import keyword\n",
    "print(keyword.kwlist)"
   ]
  },
  {
   "cell_type": "code",
   "execution_count": 68,
   "id": "912ae418-6e1d-4824-a128-0b34ed3f4a75",
   "metadata": {},
   "outputs": [
    {
     "name": "stdin",
     "output_type": "stream",
     "text": [
      "Please, enter your word:  in\n"
     ]
    },
    {
     "data": {
      "text/plain": [
       "True"
      ]
     },
     "execution_count": 68,
     "metadata": {},
     "output_type": "execute_result"
    }
   ],
   "source": [
    "#4.  Write a program that checks if a given word is a Python keyword?\n",
    "import keyword\n",
    "list_python_keyword=list(keyword.kwlist)\n",
    "word=input(\"Please, enter your word: \")\n",
    "bool(word in list_python_keyword)\n",
    "\n"
   ]
  },
  {
   "cell_type": "code",
   "execution_count": 102,
   "id": "446e18cc-0021-4740-abb8-06203dd5e9ad",
   "metadata": {},
   "outputs": [
    {
     "name": "stdout",
     "output_type": "stream",
     "text": [
      "[0, 1, 2, 3, 4, 5, 6, 7, 8, 9, 10, 11, 12, 13, 14, 15, 16, 17, 18, 19, 20, 21, 22, 23, 24, 25, 26, 27, 28, 29, 30, 31, 32, 33, 34, 35, 36, 37, 38, 39, 40, 41, 42, 43, 44, 45, 46, 47, 48, 49, 50, 51, 52, 53, 54, 55, 56, 57, 58, 59, 60, 61, 62, 63, 64, 65, 66, 67, 68, 69, 70, 71, 72, 73, 74, 75, 76, 77, 78, 79, 80, 81, 82, 83, 84, 85, 86, 87, 88, 89, 90, 91, 92, 93, 94, 95, 96, 97, 98, 99, 100]\n",
      "('1', '0', '0')\n"
     ]
    },
    {
     "ename": "AttributeError",
     "evalue": "'tuple' object has no attribute 'append'",
     "output_type": "error",
     "traceback": [
      "\u001b[1;31m---------------------------------------------------------------------------\u001b[0m",
      "\u001b[1;31mAttributeError\u001b[0m                            Traceback (most recent call last)",
      "Cell \u001b[1;32mIn[102], line 10\u001b[0m\n\u001b[0;32m      7\u001b[0m \u001b[38;5;66;03m#updated list contains 100 added as list only conatins numbers from 0,1,2,3,.....,99.\u001b[39;00m\n\u001b[0;32m      8\u001b[0m \u001b[38;5;66;03m#now, trying to change tuple.\u001b[39;00m\n\u001b[0;32m      9\u001b[0m \u001b[38;5;28mprint\u001b[39m(y)\n\u001b[1;32m---> 10\u001b[0m y\u001b[38;5;241m.\u001b[39mappend(\u001b[38;5;124m\"\u001b[39m\u001b[38;5;124mram\u001b[39m\u001b[38;5;124m\"\u001b[39m)\n",
      "\u001b[1;31mAttributeError\u001b[0m: 'tuple' object has no attribute 'append'"
     ]
    }
   ],
   "source": [
    "#5. Create a list and tuple in Python, and demonstrate how attempting to change an element works differently for each?\n",
    "x=list(range(0,100))\n",
    "y=tuple(\"100\")\n",
    "#try to change list i.e. x\n",
    "x.append(100)\n",
    "print(x)\n",
    "#updated list contains 100 added as list only conatins numbers from 0,1,2,3,.....,99.\n",
    "#now, trying to change tuple.\n",
    "print(y)\n",
    "y.append(\"ram\")\n",
    "#an error was oserved confirms that tuples are not mutables."
   ]
  },
  {
   "cell_type": "code",
   "execution_count": 114,
   "id": "255e1b33-c0ff-4f6c-9c03-30f026a754a7",
   "metadata": {},
   "outputs": [],
   "source": [
    "#6.  Write a function to demonstrate the behavior of mutable and immutable arguments?\n",
    "#   mutable objects such as lists,\n",
    "#   while imutable objects such as strings and tuples,etc.\n",
    "   # ??????\n",
    "    "
   ]
  },
  {
   "cell_type": "code",
   "execution_count": 159,
   "id": "814ec869-552a-4c06-8b23-b9070626a8c1",
   "metadata": {},
   "outputs": [
    {
     "name": "stdin",
     "output_type": "stream",
     "text": [
      "enter value of x: 5500\n",
      "enter value of y: 1100\n",
      " select arithmetic operation (addition, subtraction, multiplication, division): addition\n"
     ]
    },
    {
     "name": "stdout",
     "output_type": "stream",
     "text": [
      "6600\n"
     ]
    }
   ],
   "source": [
    "#7.  Write a program that performs basic arithmetic operations on two user-input numbers?\n",
    "x=int(input(\"enter value of x:\"))\n",
    "y=int(input(\"enter value of y:\"))\n",
    "#basic arithmetic operation such as addition, substraction, multiplicatons.division.\n",
    "arithmetic_operation=input(\" select arithmetic operation (addition, subtraction, multiplication, division):\")\n",
    "if arithmetic_operation==\"addition\":\n",
    "    print(x + y)\n",
    "elif arithmetic_operation==\"sustraction\":\n",
    "    print(x-y)\n",
    "elif arithmetic_operation==\"multiplication\":\n",
    "    print(x*y)\n",
    "elif arithmetic_operation==\"division\":\n",
    "    if y!=0:\n",
    "        print(x/y)\n",
    "    else:\n",
    "        print(\"error:division by zero is not allowed.\")\n",
    "else:\n",
    "    print(\"Invalid arithmetic operation selected.\")"
   ]
  },
  {
   "cell_type": "code",
   "execution_count": 202,
   "id": "9eb013e9-815a-4aa0-9b05-eae90d7efa4a",
   "metadata": {},
   "outputs": [
    {
     "name": "stdout",
     "output_type": "stream",
     "text": [
      "any one of two or both numbers are less than 5\n",
      "numbers are greater than 5\n",
      "any one of two or both numbers are less than 5\n"
     ]
    }
   ],
   "source": [
    "#8. Write a program to demonstrate the use of logical operators?\n",
    "''' and, or, not are logical operators.'''\n",
    "x=7\n",
    "y=2\n",
    "if x>5 and y>3:\n",
    "    print(\"numbers are greater than 5\")\n",
    "else:\n",
    "    print(\"any one of two or both numbers are less than 5\")\n",
    "if x<10 or y<=1:\n",
    "    print(\"numbers are greater than 5\")\n",
    "else:\n",
    "    print(\"any one of two or both numbers are less than 5\")\n",
    "if not x<10 or y<=1:\n",
    "    print(\"numbers are greater than 5\")\n",
    "else:\n",
    "    print(\"any one of two or both numbers are less than 5\")"
   ]
  },
  {
   "cell_type": "code",
   "execution_count": 247,
   "id": "afcb89c0-62bf-49a0-8631-6ddd76fa695a",
   "metadata": {},
   "outputs": [
    {
     "name": "stdin",
     "output_type": "stream",
     "text": [
      "User input: 12\n"
     ]
    },
    {
     "name": "stdout",
     "output_type": "stream",
     "text": [
      "12\n",
      "<class 'str'>\n",
      "12\n",
      "<class 'int'>\n",
      "12.0\n",
      "<class 'float'>\n",
      "True\n",
      "<class 'bool'>\n"
     ]
    }
   ],
   "source": [
    "#9. Write a Python program to convert user input from string to integer, float, and boolean types.?\n",
    "x=input(\"User input:\")\n",
    "print(x)\n",
    "print(type(x))\n",
    "#converted x to integer by\n",
    "y=int(x)\n",
    "print(y)\n",
    "print(type(y))\n",
    "#conveted x to float by\n",
    "z=float(y)\n",
    "print(z)\n",
    "print(type(z))\n",
    "#convrted to booleann by\n",
    "a=bool(z)\n",
    "print(a)\n",
    "print(type(a))"
   ]
  },
  {
   "cell_type": "code",
   "execution_count": 249,
   "id": "3bbf7b2e-4a5f-4d3a-964f-3531d4817002",
   "metadata": {},
   "outputs": [],
   "source": [
    "#10. Write code to demonstrate type casting with list elements?\n",
    "#same as above"
   ]
  },
  {
   "cell_type": "code",
   "execution_count": 260,
   "id": "0ad47805-a8ce-4599-958d-15b55cea24c3",
   "metadata": {},
   "outputs": [
    {
     "name": "stdin",
     "output_type": "stream",
     "text": [
      "please, enter number: 55\n"
     ]
    },
    {
     "name": "stdout",
     "output_type": "stream",
     "text": [
      "55 is an positive number\n"
     ]
    }
   ],
   "source": [
    "#11. Write a program that checks if a number is positive, negative, or zero?\n",
    "x=int(input(\"please, enter number:\"))\n",
    "if x>0:\n",
    "    print(f\"{x} is an positive number\")\n",
    "elif x<0:\n",
    "    print(f\"{x} is an negative number\")\n",
    "else:\n",
    "    print(f\"{x} is zero\")"
   ]
  },
  {
   "cell_type": "code",
   "execution_count": 268,
   "id": "09619420-a1cf-48f3-ac25-562c9ccfca98",
   "metadata": {},
   "outputs": [
    {
     "name": "stdout",
     "output_type": "stream",
     "text": [
      "1\n",
      "2\n",
      "3\n",
      "4\n",
      "5\n",
      "6\n",
      "7\n",
      "8\n",
      "9\n",
      "10\n"
     ]
    }
   ],
   "source": [
    "#12. Write a for loop to print numbers from 1 to 10.?\n",
    "i=1\n",
    "while i<=10:\n",
    "  print(i)\n",
    "  i=i+1"
   ]
  },
  {
   "cell_type": "code",
   "execution_count": 288,
   "id": "183fbda6-0659-4ae0-9f8d-cdbddd1bb5c1",
   "metadata": {},
   "outputs": [
    {
     "name": "stdout",
     "output_type": "stream",
     "text": [
      "2\n",
      "4\n",
      "6\n",
      "8\n",
      "10\n",
      "12\n",
      "14\n",
      "16\n",
      "18\n",
      "20\n",
      "22\n",
      "24\n",
      "26\n",
      "28\n",
      "30\n",
      "32\n",
      "34\n",
      "36\n",
      "38\n",
      "40\n",
      "42\n",
      "44\n",
      "46\n",
      "48\n"
     ]
    }
   ],
   "source": [
    "#13. Write a Python program to find the sum of all even numbers between 1 and 50?\n",
    "x=list(range(1,50))\n",
    "for i in x:\n",
    "    if i%2==0:\n",
    "        print(i)"
   ]
  },
  {
   "cell_type": "code",
   "execution_count": 289,
   "id": "fa347431-c578-4ff9-b5b5-755b79214603",
   "metadata": {},
   "outputs": [],
   "source": [
    "#14. Write a program to reverse a string using a while loop?\n",
    "# ????"
   ]
  },
  {
   "cell_type": "code",
   "execution_count": null,
   "id": "4623e95b-8a06-43f5-a540-762f477a70df",
   "metadata": {},
   "outputs": [],
   "source": [
    "#15.  Write a Python program to calculate the factorial of a number provided by the user using a while loop?\n",
    "# ????"
   ]
  }
 ],
 "metadata": {
  "kernelspec": {
   "display_name": "Python 3 (ipykernel)",
   "language": "python",
   "name": "python3"
  },
  "language_info": {
   "codemirror_mode": {
    "name": "ipython",
    "version": 3
   },
   "file_extension": ".py",
   "mimetype": "text/x-python",
   "name": "python",
   "nbconvert_exporter": "python",
   "pygments_lexer": "ipython3",
   "version": "3.13.5"
  },
  "widgets": {
   "application/vnd.jupyter.widget-state+json": {
    "state": {},
    "version_major": 2,
    "version_minor": 0
   }
  }
 },
 "nbformat": 4,
 "nbformat_minor": 5
}
