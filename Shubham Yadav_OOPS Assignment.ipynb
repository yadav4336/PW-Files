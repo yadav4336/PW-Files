{
 "cells": [
  {
   "cell_type": "markdown",
   "metadata": {},
   "source": [
    "# Theory Questions"
   ]
  },
  {
   "cell_type": "markdown",
   "metadata": {
    "id": "qTopbsCYb_q5"
   },
   "source": [
    "### 1. What is Object-Oriented Programming (OOP)?"
   ]
  },
  {
   "cell_type": "markdown",
   "metadata": {},
   "source": [
    "Object-Oriented Programming (OOP) is a programming paradigm based on the concept of \"objects\", which can contain data in the form of attributes (variables) and behaviors in the form of methods (functions).\n",
    "\n",
    "### Key Features of OOP:\n",
    "- **Encapsulation**: Bundles data and methods that operate on the data within a single unit (class).\n",
    "- **Abstraction**: Hides complex implementation details and shows only the essential features.\n",
    "- **Inheritance**: Allows a class to inherit properties and behavior from another class.\n",
    "- **Polymorphism**: Allows objects to take on multiple forms through method overriding or operator overloading.\n",
    "\n",
    "### Benefits:\n",
    "- Promotes code reusability\n",
    "- Improves code organization and maintainability\n",
    "- Models real-world systems more effectively\n"
   ]
  },
  {
   "cell_type": "markdown",
   "metadata": {
    "id": "LLIHvQtdcfO8"
   },
   "source": [
    "### 2. What is a class in OOP?"
   ]
  },
  {
   "cell_type": "markdown",
   "metadata": {},
   "source": [
    "In object-oriented programming, a class is a blueprint or template for creating objects. It defines the structure and behavior of objects, which are instances of the class. A class specifies the data that an object of that class can hold (attributes) and the actions that it can perform (methods).\n",
    "\n",
    "### Key Features:\n",
    "- **Attributes**: Data stored in an object, which defines its state.\n",
    "- **Methods**: Functions associated with an object that define its behavior.\n",
    "- **Constructor**: A special method that is used to initialize the object's state when it is created (e.g., `__init__` in Python).\n"
   ]
  },
  {
   "cell_type": "markdown",
   "metadata": {
    "id": "0RsvRyQ7chQX"
   },
   "source": [
    "### 3.  What is an object in OOP?"
   ]
  },
  {
   "cell_type": "markdown",
   "metadata": {},
   "source": [
    "In object-oriented programming, an object is an instance of a class. It's a concrete entity with specific characteristics (attributes) and actions (methods) defined by the class. Objects are created using the class blueprint and have their own unique properties and behaviors.\n",
    "\n",
    "### Key Points:\n",
    "- **Objects are instances** of a class.\n",
    "- Objects have their own **state** (attributes) and **behavior** (methods).\n",
    "- Objects can **interact** with each other.\n"
   ]
  },
  {
   "cell_type": "markdown",
   "metadata": {
    "id": "4ORt5BMNcoxn"
   },
   "source": [
    "### 4. What is the difference between abstraction and encapsulation?"
   ]
  },
  {
   "cell_type": "markdown",
   "metadata": {},
   "source": [
    "Both abstraction and encapsulation are important concepts in object-oriented programming, but they serve different purposes:\n",
    "\n",
    "- **Abstraction** hides complexity by showing only essential information to the user. It focuses on **what** an object does, rather than **how** it does it.\n",
    "- **Encapsulation** bundles data and methods within a class, protecting the integrity of the data. It focuses on **how** an object performs its actions and **keeps data safe**.\n",
    "\n",
    "### Key Differences:\n",
    "- **Abstraction**: Hides complexity, focuses on essential features.\n",
    "- **Encapsulation**: Hides internal states, protects data integrity, and restricts unauthorized access.\n"
   ]
  },
  {
   "cell_type": "markdown",
   "metadata": {
    "id": "H7R3oCOcctwG"
   },
   "source": [
    "### 5. What are dunder methods in Python?"
   ]
  },
  {
   "cell_type": "markdown",
   "metadata": {},
   "source": [
    "In Python, dunder methods (also known as special methods or magic methods) are methods with double underscores (`__`) before and after their names. They are predefined methods that allow you to customize the behavior of your classes. Dunder methods are used to override operators and built-in functions.\n",
    "\n",
    "### Examples of common dunder methods:\n",
    "- **`__init__(self, ...)`**: The constructor, called when an object is created. Initializes the object's attributes.\n",
    "- **`__str__(self)`**: Returns a string representation of the object, used by `print()` and `str()`.\n",
    "- **`__repr__(self)`**: Returns an unambiguous string representation of the object, used by `repr()`.\n",
    "- **`__len__(self)`**: Returns the length of the object, used by `len()`.\n",
    "- **`__add__(self, other)`**: Defines the behavior of the `+` operator when used with objects of the class.\n",
    "- **`__eq__(self, other)`**: Defines the behavior of the `==` operator when used with objects of the class.\n"
   ]
  },
  {
   "cell_type": "markdown",
   "metadata": {
    "id": "rnWnZiT8c1oA"
   },
   "source": [
    "### 6. Explain the concept of inheritance in OOP."
   ]
  },
  {
   "cell_type": "markdown",
   "metadata": {},
   "source": [
    "Inheritance is one of the fundamental concepts in object-oriented programming. It allows you to create new classes (called derived classes or subclasses) that inherit properties and behaviors from existing classes (called base classes or superclasses). This promotes code reusability and reduces redundancy.\n",
    "\n",
    "### Key concepts:\n",
    "- **Base class (Superclass)**: The parent class from which properties and behaviors are inherited.\n",
    "- **Derived class (Subclass)**: The child class that inherits from the base class.\n",
    "- **Inheritance**: The process of creating a derived class from a base class.\n",
    "\n",
    "### Types of inheritance:\n",
    "- **Single inheritance**: A class inherits from only one base class.\n",
    "- **Multiple inheritance**: A class inherits from multiple base classes.\n",
    "- **Multilevel inheritance**: A class inherits from a derived class, which in turn inherits from another base class.\n"
   ]
  },
  {
   "cell_type": "markdown",
   "metadata": {
    "id": "n2gOK0jvc9at"
   },
   "source": [
    "### 7. What is polymorphism in OOP?"
   ]
  },
  {
   "cell_type": "markdown",
   "metadata": {},
   "source": [
    "Polymorphism, meaning \"many forms,\" is a fundamental concept in object-oriented programming. It allows objects of different classes to be treated as objects of a common type. This means that you can use the same method call on objects of different classes, and they will respond differently based on their individual implementations.\n",
    "\n",
    "### Key benefits of polymorphism:\n",
    "- **Flexibility**: Write code that can work with objects of various types without needing to know their specific class.\n",
    "- **Maintainability**: Easily add new types of objects without modifying existing code.\n",
    "- **Code reusability**: Reduce code duplication by using common interfaces for different objects.\n"
   ]
  },
  {
   "cell_type": "markdown",
   "metadata": {
    "id": "bzbfbGAcdCzf"
   },
   "source": [
    "### 8. How is encapsulation achieved in Python?"
   ]
  },
  {
   "cell_type": "markdown",
   "metadata": {},
   "source": [
    "Encapsulation in Python is primarily achieved using classes and objects, along with a naming convention for access control. By using private attributes (with double underscores) and providing getter/setter methods, you can control access to an object's internal data, protecting its integrity. This promotes code organization and flexibility.\n",
    "\n",
    "### Key points:\n",
    "- **Private Attributes**: Attributes that are not accessible directly from outside the class.\n",
    "- **Getter/Setter Methods**: Methods that allow access and modification of private attributes in a controlled way.\n",
    "\n",
    "Encapsulation helps ensure that data is not directly modified, allowing for better security and abstraction.\n"
   ]
  },
  {
   "cell_type": "markdown",
   "metadata": {
    "id": "oMgVcTbkdMuY"
   },
   "source": [
    "### 9. What is a constructor in Python?"
   ]
  },
  {
   "cell_type": "markdown",
   "metadata": {},
   "source": [
    "In Python, a constructor is a special method called `__init__` that is automatically executed when an object of a class is created. It is used to initialize the object's attributes with default or user-provided values.\n",
    "\n",
    "### Purpose of constructors:\n",
    "- **Initialize object attributes**: Assign values to the object's data members.\n",
    "- **Prepare the object for use**: Set up any necessary resources or connections.\n",
    "- **Perform initial setup**: Execute any code that needs to run when the object is created.\n",
    "\n",
    "### Key points:\n",
    "- Constructors are automatically called when an object is created.\n",
    "- They are used to initialize object attributes.\n",
    "- They can take arguments to customize the object's initial state.\n"
   ]
  },
  {
   "cell_type": "markdown",
   "metadata": {
    "id": "9CzEjLr2dbxq"
   },
   "source": [
    "### 10. What are class and static methods in Python?"
   ]
  },
  {
   "cell_type": "markdown",
   "metadata": {},
   "source": [
    "Both class and static methods are special types of methods that are associated with a class rather than an instance of the class. They are defined using decorators: `@classmethod` and `@staticmethod`.\n",
    "\n",
    "### Class Methods:\n",
    "- **Purpose**: Class methods operate on the class itself, not on instances of the class.\n",
    "- **Decorator**: `@classmethod`\n",
    "- **First argument**: `cls` (representing the class)\n",
    "- **Usage**: Class methods can access and modify class-level attributes.\n",
    "\n",
    "### Static Methods:\n",
    "- **Purpose**: Static methods are utility functions related to the class but don’t need access to class or instance attributes.\n",
    "- **Decorator**: `@staticmethod`\n",
    "- **First argument**: None (they don’t take `self` or `cls`)\n",
    "- **Usage**: Static methods are like regular functions but grouped with the class for organizational purposes.\n",
    "\n",
    "### In summary:\n",
    "- **Class methods** are like tools for working with the blueprint of a house (the class).\n",
    "- **Static methods** are like general-purpose tools that don't need to know anything about the specific house plan.\n"
   ]
  },
  {
   "cell_type": "markdown",
   "metadata": {
    "id": "--KCzcK2dklU"
   },
   "source": [
    "### 11. What is method overloading in Python?"
   ]
  },
  {
   "cell_type": "markdown",
   "metadata": {},
   "source": [
    "Method overloading is the ability to define multiple methods with the same name but with different parameters (number or types) within the same class. While Python doesn't support method overloading in the traditional sense (like in Java or C++), you can achieve similar functionality using default arguments and variable-length arguments."
   ]
  },
  {
   "cell_type": "markdown",
   "metadata": {
    "id": "MXSh9DQmdtUl"
   },
   "source": [
    "### 12. What is method overriding in OOP?"
   ]
  },
  {
   "cell_type": "markdown",
   "metadata": {},
   "source": [
    "Method overriding is a language feature that allows a subclass or child class to provide a specific implementation of a method that is already provided by one of its superclasses or parent classes.\n",
    "\n",
    "### How it works:\n",
    "- When a subclass defines a method with the same name, parameters, and return type as a method in its superclass, it is said to override the superclass's method.\n",
    "- When the overridden method is called on an object of the subclass, the subclass's implementation of the method is executed instead of the superclass's implementation.\n"
   ]
  },
  {
   "cell_type": "markdown",
   "metadata": {
    "id": "RfltUAkTd4EF"
   },
   "source": [
    "### 13. What is a property decorator in Python?"
   ]
  },
  {
   "cell_type": "markdown",
   "metadata": {},
   "source": [
    "In Python, the property decorator is a built-in decorator that allows you to define methods that behave like attributes. It provides a way to manage attribute access by defining getter, setter, and deleter methods.\n",
    "\n",
    "### Benefits of using property decorators:\n",
    "- **Encapsulation**: You can control how attributes are accessed and modified.\n",
    "- **Read-only attributes**: You can create read-only attributes by defining only a getter method.\n",
    "- **Computed attributes**: You can define attributes whose values are computed on-the-fly.\n",
    "- **Validation**: You can perform validation before setting attribute values.\n"
   ]
  },
  {
   "cell_type": "markdown",
   "metadata": {
    "id": "PDtdKvyTd_US"
   },
   "source": [
    "### 14. Why is polymorphism important in OOP?"
   ]
  },
  {
   "cell_type": "markdown",
   "metadata": {},
   "source": [
    "Polymorphism helps you write flexible and reusable code that can work with different types of objects in a consistent way. It makes your code easier to maintain and extend, as you can add new object types without changing the existing code.\n",
    "\n",
    "### Key reasons why polymorphism is important:\n",
    "- It makes code more flexible and reusable.\n",
    "- It simplifies maintenance and extensions of code.\n",
    "- It improves code organization and readability.\n",
    "- It promotes loose coupling, meaning different parts of the code work independently.\n",
    "- It helps model real-world scenarios more accurately.\n"
   ]
  },
  {
   "cell_type": "markdown",
   "metadata": {
    "id": "TiAlitIdeQjh"
   },
   "source": [
    "### 15. What is an abstract class in Python?"
   ]
  },
  {
   "cell_type": "markdown",
   "metadata": {},
   "source": [
    "In Python, an abstract class is a class that cannot be instantiated on its own. It is meant to be subclassed by other classes, which then provide concrete implementations of the abstract methods defined in the abstract class.\n",
    "\n",
    "### Key features of abstract classes:\n",
    "- **Cannot be instantiated**: You cannot create objects directly from an abstract class.\n",
    "- **Contains abstract methods**: Abstract methods are declared but have no implementation in the abstract class. They are meant to be implemented by concrete subclasses.\n",
    "- **Enforces a common interface**: Abstract classes define a common interface for all its subclasses, ensuring that they provide specific functionalities.\n"
   ]
  },
  {
   "cell_type": "markdown",
   "metadata": {
    "id": "3ifNJWREeVya"
   },
   "source": [
    "### 16. What are the advantages of OOP?"
   ]
  },
  {
   "cell_type": "markdown",
   "metadata": {},
   "source": [
    "Object-Oriented Programming (OOP) offers several advantages, making it a powerful and widely used approach for developing complex software systems.\n",
    "\n",
    "### Advantages of OOP:\n",
    "- **Increased code reusability and modularity**: Objects created for one program can be reused in other programs.\n",
    "- **Improved code maintainability**: Objects are self-contained, making it easier to update or fix code without affecting other parts of the program.\n",
    "- **Increased code flexibility**: Polymorphism allows objects to take on multiple forms, increasing code flexibility.\n",
    "- **Improved security**: Encapsulation protects data within objects, improving security.\n",
    "- **Better problem solving**: OOP allows you to break down complex problems into smaller, more manageable objects, making problem-solving easier.\n"
   ]
  },
  {
   "cell_type": "markdown",
   "metadata": {
    "id": "ffF2XvAaethS"
   },
   "source": [
    "### 17. What is the difference between a class variable and an instance variable?"
   ]
  },
  {
   "cell_type": "markdown",
   "metadata": {},
   "source": [
    "### Class Variables:\n",
    "- **Definition**: Class variables are declared within the class but outside of any methods. They are shared by all instances (objects) of the class.\n",
    "- **Access**: Class variables can be accessed using the class name or any instance of the class.\n",
    "- **Modification**: Modifying a class variable using the class name affects all instances of the class. Modifying it using an instance affects only that instance (creates a new instance variable).\n",
    "- **Purpose**: Used to store data that is common to all instances of the class, such as configuration settings or counters.\n",
    "\n",
    "### Instance Variables:\n",
    "- **Definition**: Instance variables are declared inside the constructor (`__init__`) or other methods and are unique to each instance of the class.\n",
    "- **Access**: Instance variables can be accessed using the instance of the class.\n",
    "- **Modification**: Modifying an instance variable affects only that instance.\n",
    "- **Purpose**: Used to store data that is specific to each instance, such as the name or age of a person.\n"
   ]
  },
  {
   "cell_type": "markdown",
   "metadata": {
    "id": "6_WUWnMte1tp"
   },
   "source": [
    "### 18.  What is multiple inheritance in Python?"
   ]
  },
  {
   "cell_type": "markdown",
   "metadata": {},
   "source": [
    "Multiple inheritance in Python allows a class to inherit from multiple base classes, combining their functionalities. This can lead to code reuse and flexibility but can also introduce complexities like the \"diamond problem\" when two base classes have a method with the same name.\n",
    "\n",
    "Think of it like a child inheriting traits from both parents - they get a mix of characteristics but might also have conflicting traits (diamond problem) that need to be resolved. Use multiple inheritance carefully, considering potential challenges.\n"
   ]
  },
  {
   "cell_type": "markdown",
   "metadata": {
    "id": "3HvI0hj_flNm"
   },
   "source": [
    "### 19. Explain the purpose of ‘’_ _ str_ _’ and ‘_ _ repr _ _’’ methods in Python."
   ]
  },
  {
   "cell_type": "markdown",
   "metadata": {},
   "source": [
    "Both `__str__` and `__repr__` are special methods (also known as \"dunder\" methods) in Python that are used to represent objects as strings. However, they have different purposes and are intended for different audiences:\n",
    "\n",
    "### `__str__` method\n",
    "- **Purpose**: To provide a user-friendly, informal string representation of an object. It's meant for the end-user to understand what the object is.\n",
    "- **Usage**: Called by the `str()` built-in function and used for printing objects with the `print()` function.\n",
    "\n",
    "### `__repr__` method\n",
    "- **Purpose**: To provide an unambiguous, formal string representation of an object. It's meant for developers to debug and understand the object's internal state. Ideally, the output of `__repr__` should be a valid Python expression that can be used to recreate the object.\n",
    "- **Usage**: Called by the `repr()` built-in function and used in interactive sessions and debuggers.\n"
   ]
  },
  {
   "cell_type": "markdown",
   "metadata": {
    "id": "cjd3H8KefxZ8"
   },
   "source": [
    "### 20.  What is the significance of the ‘super()’ function in Python?"
   ]
  },
  {
   "cell_type": "markdown",
   "metadata": {},
   "source": [
    "The `super()` function is used to call a method from a parent class. It is especially useful in inheritance scenarios when you want to extend the functionality of a parent class's method in a subclass.\n",
    "\n",
    "### Significance:## 21. What is the significance of the `__del__` method in Python?\n",
    "\n",
    "In Python, the `__del__` method is a special method (also known as a \"destructor\") that is called when an object is about to be destroyed or garbage collected. It is used to perform cleanup actions, such as releasing resources or closing connections, before the object is removed from memory.\n",
    "\n",
    "### Significance:\n",
    "\n",
    "- **Resource Management**: The `__del__` method allows you to release resources held by the object, such as file handles, network connections, or database cursors. This ensures that resources are properly cleaned up and prevents potential leaks or errors.\n",
    "- **Cleanup Actions**: You can use the `__del__` method to perform any necessary cleanup actions before the object is destroyed. This could include closing files, deleting temporary files, or notifying other objects about the object's destruction.\n",
    "- **Object Lifecycle Management**: The `__del__` method provides a way to manage the lifecycle of an object and ensure that it is properly disposed of when it is no longer needed.\n",
    "\n",
    "- **Avoiding Redundancy**: Instead of rewriting the entire method logic in the subclass, `super()` allows you to reuse the parent class's method and add or modify specific parts.\n",
    "- **Maintaining Inheritance Hierarchy**: `super()` ensures that the parent class's method is called as part of the subclass's method, preserving the intended inheritance behavior.\n",
    "- **Flexibility and Extensibility**: When changes are made to the parent class's method, they automatically reflect in the subclass's method through `super()`, promoting code maintainability and extensibility.\n"
   ]
  },
  {
   "cell_type": "markdown",
   "metadata": {
    "id": "yWt7KHAwgD2B"
   },
   "source": [
    "### 21. What is the significance of the _ _ del _ _ method in Python?"
   ]
  },
  {
   "cell_type": "markdown",
   "metadata": {},
   "source": [
    "In Python, the `__del__` method is a special method (also known as a \"destructor\") that is called when an object is about to be destroyed or garbage collected. It is used to perform cleanup actions, such as releasing resources or closing connections, before the object is removed from memory.\n",
    "\n",
    "### Significance:\n",
    "\n",
    "- **Resource Management**: The `__del__` method allows you to release resources held by the object, such as file handles, network connections, or database cursors. This ensures that resources are properly cleaned up and prevents potential leaks or errors.\n",
    "- **Cleanup Actions**: You can use the `__del__` method to perform any necessary cleanup actions before the object is destroyed. This could include closing files, deleting temporary files, or notifying other objects about the object's destruction.\n",
    "- **Object Lifecycle Management**: The `__del__` method provides a way to manage the lifecycle of an object and ensure that it is properly disposed of when it is no longer needed.\n"
   ]
  },
  {
   "cell_type": "markdown",
   "metadata": {
    "id": "rn3hmpqigLFL"
   },
   "source": [
    "### 22. What is the difference between @staticmethod and @classmethod in Python?"
   ]
  },
  {
   "cell_type": "markdown",
   "metadata": {},
   "source": [
    "Both `@staticmethod` and `@classmethod` are decorators used to define methods that are bound to a class rather than an instance of the class. However, they differ in how they are called and what they can access:\n",
    "\n",
    "### `@staticmethod`:\n",
    "\n",
    "- **Purpose**: Define utility functions related to the class but don't need access to class or instance attributes.\n",
    "- **Calling**: Can be called directly on the class or an instance.\n",
    "- **Access**: Doesn't have access to `cls` (class) or `self` (instance).\n",
    "\n",
    "### `@classmethod`:\n",
    "\n",
    "- **Purpose**: Operate on the class itself, often used for factory methods or to access/modify class-level attributes.\n",
    "- **Calling**: Can be called directly on the class or an instance.\n",
    "- **Access**: Has access to `cls` (class) but not `self` (instance).\n",
    "\n",
    "### In essence:\n",
    "\n",
    "- `@staticmethod` is like a regular function that happens to be grouped with a class for organizational purposes.\n",
    "- `@classmethod` is a method that operates on the class itself, allowing you to work with class-level attributes or create alternative constructors.\n"
   ]
  },
  {
   "cell_type": "markdown",
   "metadata": {
    "id": "IgQLzZcygRlT"
   },
   "source": [
    "### 23. How does polymorphism work in Python with inheritance?"
   ]
  },
  {
   "cell_type": "markdown",
   "metadata": {},
   "source": [
    "Polymorphism, meaning \"many forms,\" is a powerful concept in object-oriented programming that allows objects of different classes to be treated as objects of a common type. This is achieved through inheritance and method overriding.\n",
    "\n",
    "### Here's how it works:\n",
    "\n",
    "- **Inheritance**: A subclass inherits methods from its superclass. This establishes a relationship where the subclass can use the methods defined in the superclass.\n",
    "  \n",
    "- **Method Overriding**: The subclass can provide its own implementation of a method that is already defined in the superclass. This is called method overriding.\n",
    "  \n",
    "- **Polymorphic Behavior**: When a method is called on an object, Python determines the correct implementation to execute based on the object's actual class. If the object is an instance of the subclass, the overridden method in the subclass is executed. If the object is an instance of the superclass, the original method in the superclass is executed.\n"
   ]
  },
  {
   "cell_type": "markdown",
   "metadata": {
    "id": "-u5j_3gJgW3-"
   },
   "source": [
    "### 24.  What is method chaining in Python OOP?"
   ]
  },
  {
   "cell_type": "markdown",
   "metadata": {},
   "source": [
    "Method chaining is a technique where you call multiple methods on an object in a single line of code, one after the other. This is achieved by having each method return the object itself (`self`) so that the next method can be called on the returned object.\n",
    "\n",
    "### Benefits of method chaining:\n",
    "- **Improved Readability**: Makes code more concise and easier to read by avoiding the need for intermediate variables.\n",
    "- **Fluent Interface**: Creates a more natural and expressive way of interacting with objects.\n",
    "- **Reduced Code Duplication**: Avoids repeating the object name multiple times.\n"
   ]
  },
  {
   "cell_type": "markdown",
   "metadata": {
    "id": "gXXGzcYVgucc"
   },
   "source": [
    "### 25. What is the purpose of the _ _ call _ _ method in Python?"
   ]
  },
  {
   "cell_type": "markdown",
   "metadata": {},
   "source": [
    "In Python, the `__call__` method allows you to make an object callable like a function. When you define the `__call__` method in a class, you can then use instances of that class as if they were functions. This can be useful for creating objects that behave like functions or for encapsulating complex logic within an object.\n",
    "\n",
    "### Purpose:\n",
    "- **Make Objects Callable**: The primary purpose of the `__call__` method is to enable objects to be called like functions. This means you can use the object's name followed by parentheses to execute the code within the `__call__` method.\n",
    "- **Encapsulate Logic**: You can use the `__call__` method to encapsulate complex logic within an object, which can make your code more organized and easier to understand.\n",
    "- **Create Function-like Objects**: You can create objects that behave like functions by defining the `__call__` method. This can be useful for creating custom functions or for providing a more object-oriented way to represent functions.\n"
   ]
  },
  {
   "cell_type": "markdown",
   "metadata": {
    "id": "mhhT3oEtg11n"
   },
   "source": [
    "# Practical Questions"
   ]
  },
  {
   "cell_type": "markdown",
   "metadata": {
    "id": "w4pqI6AWg7m5"
   },
   "source": [
    "### 1. Create a parent class Animal with a method speak() that prints a generic message. Create a child class Dog that overrides the speak() method to print \"Bark!\"."
   ]
  },
  {
   "cell_type": "code",
   "execution_count": 1,
   "metadata": {
    "colab": {
     "base_uri": "https://localhost:8080/"
    },
    "id": "1cs29hLZSJzs",
    "outputId": "43860ebe-0fda-43be-f623-4f9fe164f442"
   },
   "outputs": [
    {
     "name": "stdout",
     "output_type": "stream",
     "text": [
      "Generic animal sound\n",
      "Bark!\n"
     ]
    }
   ],
   "source": [
    "class Animal:\n",
    "    def speak(self):\n",
    "        print(\"Generic animal sound\")\n",
    "\n",
    "class Dog(Animal):\n",
    "    def speak(self):\n",
    "        print(\"Bark!\")\n",
    "\n",
    "# Create objects of the classes\n",
    "animal = Animal()\n",
    "dog = Dog()\n",
    "\n",
    "# Call the speak method on each object\n",
    "animal.speak()  # Output: Generic animal sound\n",
    "dog.speak()    # Output: Bark!"
   ]
  },
  {
   "cell_type": "markdown",
   "metadata": {
    "id": "Fh2BSMKOPtf7"
   },
   "source": [
    "### 2. Write a program to create an abstract class Shape with a method area(). Derive classes Circle and Rectangle from it and implement the area() method in both."
   ]
  },
  {
   "cell_type": "code",
   "execution_count": 19,
   "metadata": {
    "colab": {
     "base_uri": "https://localhost:8080/"
    },
    "id": "ZALDFEfZTbRx",
    "outputId": "1e29ac83-94ca-499d-9f52-596d6c92288b"
   },
   "outputs": [
    {
     "name": "stdout",
     "output_type": "stream",
     "text": [
      "Circle area: 30790.723589999998\n",
      "Rectangle area: 3630\n"
     ]
    }
   ],
   "source": [
    "from abc import ABC, abstractmethod\n",
    "\n",
    "class Shape(ABC):\n",
    "    @abstractmethod\n",
    "    def area(self):\n",
    "        pass\n",
    "\n",
    "class Circle(Shape):\n",
    "    def __init__(self, radius):\n",
    "        self.radius = radius\n",
    "\n",
    "    def area(self):\n",
    "        return 3.14159 * self.radius * self.radius\n",
    "\n",
    "class Rectangle(Shape):\n",
    "    def __init__(self, length, width):\n",
    "        self.length = length\n",
    "        self.width = width\n",
    "\n",
    "    def area(self):\n",
    "        return self.length * self.width\n",
    "\n",
    "# Create objects and calculate areas\n",
    "circle = Circle(99)\n",
    "rectangle = Rectangle(55, 66)\n",
    "\n",
    "print(f\"Circle area: {circle.area()}\")  # Output: Circle area: 314.159\n",
    "print(f\"Rectangle area: {rectangle.area()}\")  # Output: Rectangle area: 50"
   ]
  },
  {
   "cell_type": "markdown",
   "metadata": {
    "id": "fa4dQAQEP12B"
   },
   "source": [
    "### 3.  Implement a multi-level inheritance scenario where a class Vehicle has an attribute type. Derive a class Car and further derive a class Electric Car that adds a battery attribute."
   ]
  },
  {
   "cell_type": "code",
   "execution_count": 3,
   "metadata": {
    "colab": {
     "base_uri": "https://localhost:8080/"
    },
    "id": "lJkINxHKUVFA",
    "outputId": "7e52aaab-3a67-4778-b3a1-5d4dec0ef5b5"
   },
   "outputs": [
    {
     "name": "stdout",
     "output_type": "stream",
     "text": [
      "Vehicle type: Truck\n",
      "Car type: Sedan, model: Toyota Camry\n",
      "Electric car type: SUV, model: Tesla Model X, battery: 120 kWh\n"
     ]
    }
   ],
   "source": [
    "class Vehicle:\n",
    "    def __init__(self, type):\n",
    "        self.type = type\n",
    "\n",
    "class Car(Vehicle):\n",
    "    def __init__(self, type, model):\n",
    "        super().__init__(type)  # Call Vehicle's __init__\n",
    "        self.model = model\n",
    "\n",
    "class ElectricCar(Car):\n",
    "    def __init__(self, type, model, battery):\n",
    "        super().__init__(type, model)  # Call Car's __init__\n",
    "        self.battery = battery\n",
    "\n",
    "# Create objects\n",
    "vehicle = Vehicle(\"Truck\")\n",
    "car = Car(\"Sedan\", \"Toyota Camry\")\n",
    "electric_car = ElectricCar(\"SUV\", \"Tesla Model X\", \"120 kWh\")\n",
    "\n",
    "# Access attributes\n",
    "print(f\"Vehicle type: {vehicle.type}\")  # Output: Vehicle type: Truck\n",
    "print(f\"Car type: {car.type}, model: {car.model}\")  # Output: Car type: Sedan, model: Toyota Camry\n",
    "print(f\"Electric car type: {electric_car.type}, model: {electric_car.model}, battery: {electric_car.battery}\")\n",
    "# Output: Electric car type: SUV, model: Tesla Model X, battery: 120 kWh"
   ]
  },
  {
   "cell_type": "markdown",
   "metadata": {
    "id": "FwCyojRKP6_v"
   },
   "source": [
    "### 4. Demonstrate polymorphism by creating a base class Bird with a method fly(). Create two derived classes Sparrow and Penguin that override the fly() method."
   ]
  },
  {
   "cell_type": "code",
   "execution_count": 4,
   "metadata": {
    "colab": {
     "base_uri": "https://localhost:8080/"
    },
    "id": "t-_pMETuU667",
    "outputId": "b5c146f4-0f85-442b-b298-dfdd933740f2"
   },
   "outputs": [
    {
     "name": "stdout",
     "output_type": "stream",
     "text": [
      "Generic bird flying\n",
      "Sparrow flying\n",
      "Penguins can't fly, but they can swim\n"
     ]
    }
   ],
   "source": [
    "class Bird:\n",
    "    def fly(self):\n",
    "        print(\"Generic bird flying\")\n",
    "\n",
    "class Sparrow(Bird):\n",
    "    def fly(self):\n",
    "        print(\"Sparrow flying\")\n",
    "\n",
    "class Penguin(Bird):\n",
    "    def fly(self):\n",
    "        print(\"Penguins can't fly, but they can swim\")\n",
    "\n",
    "# Create objects of different bird types\n",
    "generic_bird = Bird()\n",
    "sparrow = Sparrow()\n",
    "penguin = Penguin()\n",
    "\n",
    "# Demonstrate polymorphism by calling the fly method on different objects\n",
    "for bird in [generic_bird, sparrow, penguin]:\n",
    "    bird.fly()"
   ]
  },
  {
   "cell_type": "markdown",
   "metadata": {
    "id": "XOBifN2QQDzG"
   },
   "source": [
    "### 5.  Write a program to demonstrate encapsulation by creating a class BankAccount with private attributes balance and methods to deposit, withdraw, and check balance."
   ]
  },
  {
   "cell_type": "code",
   "execution_count": 20,
   "metadata": {
    "colab": {
     "base_uri": "https://localhost:8080/"
    },
    "id": "4ljHL7TRVPuM",
    "outputId": "5fd46e3c-52e4-4ae1-971c-9e2242f582d6"
   },
   "outputs": [
    {
     "name": "stdout",
     "output_type": "stream",
     "text": [
      "Deposited: 1000.00\n",
      "Withdrew: 300.00\n",
      "Current balance: 1700.00\n",
      "Withdrew: 1500.00\n"
     ]
    }
   ],
   "source": [
    "class BankAccount:\n",
    "    def __init__(self, initial_balance=0):\n",
    "        self.__balance = initial_balance  # Private attribute\n",
    "\n",
    "    def deposit(self, amount):\n",
    "        if amount > 0:\n",
    "            self.__balance += amount\n",
    "            print(f\"Deposited: {amount:.2f}\")\n",
    "        else:\n",
    "            print(\"Invalid deposit amount.\")\n",
    "\n",
    "    def withdraw(self, amount):\n",
    "        if amount > 0 and amount <= self.__balance:\n",
    "            self.__balance -= amount\n",
    "            print(f\"Withdrew: {amount:.2f}\")\n",
    "        else:\n",
    "            print(\"Invalid withdrawal amount or insufficient balance.\")\n",
    "\n",
    "    def check_balance(self):\n",
    "        print(f\"Current balance: {self.__balance:.2f}\")\n",
    "\n",
    "# Create an account\n",
    "account = BankAccount(1000)\n",
    "\n",
    "# Perform operations\n",
    "account.deposit(1000)\n",
    "account.withdraw(300)\n",
    "account.check_balance()\n",
    "account.withdraw(1500)  # Attempt to withdraw more than balance"
   ]
  },
  {
   "cell_type": "markdown",
   "metadata": {
    "id": "WgK_qFRpQFbw"
   },
   "source": [
    "### 6. Demonstrate runtime polymorphism using a method play() in a base class Instrument. Derive classes Guitar and Piano that implement their own version of play()."
   ]
  },
  {
   "cell_type": "code",
   "execution_count": 6,
   "metadata": {
    "colab": {
     "base_uri": "https://localhost:8080/"
    },
    "id": "oxg-G8ILWFy3",
    "outputId": "2a87a7ad-4637-4c4e-f9a5-501ca0c95f7b"
   },
   "outputs": [
    {
     "name": "stdout",
     "output_type": "stream",
     "text": [
      "Playing a generic instrument\n",
      "Strumming the guitar\n",
      "Playing the piano\n"
     ]
    }
   ],
   "source": [
    "class Instrument:\n",
    "    def play(self):\n",
    "        print(\"Playing a generic instrument\")\n",
    "\n",
    "class Guitar(Instrument):\n",
    "    def play(self):\n",
    "        print(\"Strumming the guitar\")\n",
    "\n",
    "class Piano(Instrument):\n",
    "    def play(self):\n",
    "        print(\"Playing the piano\")\n",
    "\n",
    "# Create objects of different instrument types\n",
    "instrument = Instrument()\n",
    "guitar = Guitar()\n",
    "piano = Piano()\n",
    "\n",
    "# Demonstrate polymorphism by calling the play method on different objects\n",
    "for instrument in [instrument, guitar, piano]:\n",
    "    instrument.play()"
   ]
  },
  {
   "cell_type": "markdown",
   "metadata": {
    "id": "_vQfy-p3QLxn"
   },
   "source": [
    "### 7.  Create a class MathOperations with a class method add_numbers() to add two numbers and a static method subtract_numbers() to subtract two numbers."
   ]
  },
  {
   "cell_type": "code",
   "execution_count": 23,
   "metadata": {
    "colab": {
     "base_uri": "https://localhost:8080/"
    },
    "id": "XSsIdZ09WazX",
    "outputId": "c03c3500-53e3-4eda-ae7c-27694d724f34"
   },
   "outputs": [
    {
     "name": "stdout",
     "output_type": "stream",
     "text": [
      "14\n",
      "-1\n"
     ]
    }
   ],
   "source": [
    "class MathOperations:\n",
    "    @classmethod\n",
    "    def add_numbers(cls, num1, num2):\n",
    "        return num1 + num2\n",
    "\n",
    "    @staticmethod\n",
    "    def subtract_numbers(num1, num2):\n",
    "        return num1 - num2\n",
    "\n",
    "# Using the class method\n",
    "result1 = MathOperations.add_numbers(6, 8)  # Output: 14\n",
    "\n",
    "# Using the static method\n",
    "result2 = MathOperations.subtract_numbers(4, 5)  # Output: -1\n",
    "\n",
    "# To see the output, add print statements\n",
    "print(result1)\n",
    "print(result2)"
   ]
  },
  {
   "cell_type": "markdown",
   "metadata": {
    "id": "sEji2_pAQSKl"
   },
   "source": [
    "### 8.  Implement a class Person with a class method to count the total number of persons created."
   ]
  },
  {
   "cell_type": "code",
   "execution_count": 8,
   "metadata": {
    "colab": {
     "base_uri": "https://localhost:8080/"
    },
    "id": "AVb5b8aQYmzW",
    "outputId": "8230ea47-6969-492d-8ad4-981d222854b2"
   },
   "outputs": [
    {
     "name": "stdout",
     "output_type": "stream",
     "text": [
      "Total persons created: 3\n"
     ]
    }
   ],
   "source": [
    "class Person:\n",
    "    count = 0  # Class variable to store the count\n",
    "\n",
    "    def __init__(self, name):\n",
    "        self.name = name\n",
    "        Person.count += 1  # Increment the count in the constructor\n",
    "\n",
    "    @classmethod\n",
    "    def get_total_persons(cls):\n",
    "        return cls.count\n",
    "\n",
    "# Create some Person objects\n",
    "person1 = Person(\"Ajay\")\n",
    "person2 = Person(\"Vijay\")\n",
    "person3 = Person(\"Satyam\")\n",
    "\n",
    "# Get the total number of persons created\n",
    "total_persons = Person.get_total_persons()\n",
    "print(f\"Total persons created: {total_persons}\")  # Output: Total persons created: 3"
   ]
  },
  {
   "cell_type": "markdown",
   "metadata": {
    "id": "oJc3fmGMQbvl"
   },
   "source": [
    "### 9. Write a class Fraction with attributes numerator and denominator. Override the str method to display the fraction as \"numerator/denominator\"."
   ]
  },
  {
   "cell_type": "code",
   "execution_count": 9,
   "metadata": {
    "colab": {
     "base_uri": "https://localhost:8080/"
    },
    "id": "92K1WNQXaZhH",
    "outputId": "175f5cf0-94df-4db9-a5d8-be0dcb582b36"
   },
   "outputs": [
    {
     "name": "stdout",
     "output_type": "stream",
     "text": [
      "8/4\n"
     ]
    }
   ],
   "source": [
    "class Fraction:\n",
    "    def __init__(self, numerator, denominator):\n",
    "        self.numerator = numerator\n",
    "        self.denominator = denominator\n",
    "\n",
    "    def __str__(self):\n",
    "        return f\"{self.numerator}/{self.denominator}\"\n",
    "\n",
    "# Create a Fraction object\n",
    "fraction = Fraction(8, 4)\n",
    "\n",
    "# Print the fraction (calls the __str__ method)\n",
    "print(fraction)  # Output: 8/4"
   ]
  },
  {
   "cell_type": "markdown",
   "metadata": {
    "id": "DLyUTZdCQom2"
   },
   "source": [
    "### 10.  Demonstrate operator overloading by creating a class Vector and overriding the add method to add two vectors."
   ]
  },
  {
   "cell_type": "code",
   "execution_count": 10,
   "metadata": {
    "colab": {
     "base_uri": "https://localhost:8080/"
    },
    "id": "mYjcM8cmaqYT",
    "outputId": "f81c6674-a3f0-4663-8574-8879aa1fafff"
   },
   "outputs": [
    {
     "name": "stdout",
     "output_type": "stream",
     "text": [
      "(13, 12)\n"
     ]
    }
   ],
   "source": [
    "class Vector:\n",
    "    def __init__(self, x, y):\n",
    "        self.x = x\n",
    "        self.y = y\n",
    "\n",
    "    def __add__(self, other):\n",
    "        return Vector(self.x + other.x, self.y + other.y)\n",
    "\n",
    "    def __str__(self):\n",
    "        return f\"({self.x}, {self.y})\"\n",
    "\n",
    "# Create two vectors\n",
    "v1 = Vector(5, 3)\n",
    "v2 = Vector(8, 9)\n",
    "\n",
    "# Add the vectors using the overloaded + operator\n",
    "v3 = v1 + v2\n",
    "\n",
    "# Print the resulting vector\n",
    "print(v3)  # Output: (13, 12)"
   ]
  },
  {
   "cell_type": "markdown",
   "metadata": {
    "id": "-A8jRHtEQtME"
   },
   "source": [
    "### 11.  Create a class Person with attributes name and age. Add a method greet() that prints \"Hello, my name is {name} and I am {age} years old.\""
   ]
  },
  {
   "cell_type": "code",
   "execution_count": 11,
   "metadata": {
    "colab": {
     "base_uri": "https://localhost:8080/"
    },
    "id": "61RSk6NGbV5r",
    "outputId": "01ac5a0a-5f85-4a7d-9c0b-ee9f5572b239"
   },
   "outputs": [
    {
     "name": "stdout",
     "output_type": "stream",
     "text": [
      "Hello, my name is Ajay and I am 21 years old.\n"
     ]
    }
   ],
   "source": [
    "class Person:\n",
    "    def __init__(self, name, age):\n",
    "        self.name = name\n",
    "        self.age = age\n",
    "\n",
    "    def greet(self):\n",
    "        print(f\"Hello, my name is {self.name} and I am {self.age} years old.\")\n",
    "\n",
    "# Create a Person object\n",
    "person = Person(\"Ajay\", 21)\n",
    "\n",
    "# Call the greet method\n",
    "person.greet()  # Output: Hello, my name is Ajay and I am 21 years old."
   ]
  },
  {
   "cell_type": "markdown",
   "metadata": {
    "id": "_fCLDAg_Qy-X"
   },
   "source": [
    "### 12.  Implement a class Student with attributes name and grades. Create a method average_grade() to compute the average of the grades."
   ]
  },
  {
   "cell_type": "code",
   "execution_count": 12,
   "metadata": {
    "colab": {
     "base_uri": "https://localhost:8080/"
    },
    "id": "LD29U-BTb0kP",
    "outputId": "ea10b307-1045-4cbb-d6c1-d7071caf1464"
   },
   "outputs": [
    {
     "name": "stdout",
     "output_type": "stream",
     "text": [
      "Ajay's average grade: 84.25\n"
     ]
    }
   ],
   "source": [
    "class Student:\n",
    "    def __init__(self, name, grades):\n",
    "        self.name = name\n",
    "        self.grades = grades\n",
    "\n",
    "    def average_grade(self):\n",
    "        if not self.grades:  # Check if grades list is empty\n",
    "            return 0  # Avoid division by zero\n",
    "        return sum(self.grades) / len(self.grades)\n",
    "\n",
    "# Create a Student object\n",
    "student = Student(\"Ajay\", [90, 80, 75, 92])\n",
    "\n",
    "# Calculate and print the average grade\n",
    "average = student.average_grade()\n",
    "print(f\"{student.name}'s average grade: {average}\")  # Output: Ajay's average grade: 84.25"
   ]
  },
  {
   "cell_type": "markdown",
   "metadata": {
    "id": "HiBVLSxgQ_-n"
   },
   "source": [
    "### 13. Create a class Rectangle with methods set_dimensions() to set the dimensions and area() to calculate the area."
   ]
  },
  {
   "cell_type": "code",
   "execution_count": 13,
   "metadata": {
    "colab": {
     "base_uri": "https://localhost:8080/"
    },
    "id": "dw6bUmPYcY3X",
    "outputId": "c7fe0028-b6ea-4f51-8463-9508c83717c3"
   },
   "outputs": [
    {
     "name": "stdout",
     "output_type": "stream",
     "text": [
      "The area of the rectangle is: 54\n"
     ]
    }
   ],
   "source": [
    "class Rectangle:\n",
    "    def __init__(self, length=0, width=0):  # Initialize with default values\n",
    "        self.length = length\n",
    "        self.width = width\n",
    "\n",
    "    def set_dimensions(self, length, width):\n",
    "        self.length = length\n",
    "        self.width = width\n",
    "\n",
    "    def area(self):\n",
    "        return self.length * self.width\n",
    "\n",
    "# Create a Rectangle object\n",
    "rectangle = Rectangle()\n",
    "\n",
    "# Set the dimensions\n",
    "rectangle.set_dimensions(6, 9)\n",
    "\n",
    "# Calculate and print the area\n",
    "area = rectangle.area()\n",
    "print(f\"The area of the rectangle is: {area}\")  # Output: The area of the rectangle is: 54"
   ]
  },
  {
   "cell_type": "markdown",
   "metadata": {
    "id": "5ubfbiOSRGUI"
   },
   "source": [
    "### 14.  Create a class Employee with a method calculate_salary() that computes the salary based on hours worked and hourly rate. Create a derived class Manager that adds a bonus to the salary."
   ]
  },
  {
   "cell_type": "code",
   "execution_count": 14,
   "metadata": {
    "colab": {
     "base_uri": "https://localhost:8080/"
    },
    "id": "9o1F3IH-dWPz",
    "outputId": "bd00d468-b9d5-4371-b740-348b38886260"
   },
   "outputs": [
    {
     "name": "stdout",
     "output_type": "stream",
     "text": [
      "Ajay's salary: $600\n",
      "Niraj's salary: $1800\n"
     ]
    }
   ],
   "source": [
    "class Employee:\n",
    "    def __init__(self, name, hours_worked, hourly_rate):\n",
    "        self.name = name\n",
    "        self.hours_worked = hours_worked\n",
    "        self.hourly_rate = hourly_rate\n",
    "\n",
    "    def calculate_salary(self):\n",
    "        return self.hours_worked * self.hourly_rate\n",
    "\n",
    "class Manager(Employee):\n",
    "    def __init__(self, name, hours_worked, hourly_rate, bonus):\n",
    "        super().__init__(name, hours_worked, hourly_rate)\n",
    "        self.bonus = bonus\n",
    "\n",
    "    def calculate_salary(self):\n",
    "        base_salary = super().calculate_salary()\n",
    "        return base_salary + self.bonus\n",
    "\n",
    "# Create an Employee object\n",
    "employee = Employee(\"Ajay\", 40, 15)\n",
    "\n",
    "# Create a Manager object\n",
    "manager = Manager(\"Niraj\", 40, 20, 1000)\n",
    "\n",
    "# Calculate and print salaries\n",
    "employee_salary = employee.calculate_salary()\n",
    "manager_salary = manager.calculate_salary()\n",
    "\n",
    "print(f\"{employee.name}'s salary: ${employee_salary}\")  # Output: Ajay's salary: $600\n",
    "print(f\"{manager.name}'s salary: ${manager_salary}\")  # Output: Niraj's salary: $1800"
   ]
  },
  {
   "cell_type": "markdown",
   "metadata": {
    "id": "WnTFZBUORXiQ"
   },
   "source": [
    "### 15. Create a class Product with attributes name, price, and quantity. Implement a method total_price() that calculates the total price of the product."
   ]
  },
  {
   "cell_type": "code",
   "execution_count": 15,
   "metadata": {
    "colab": {
     "base_uri": "https://localhost:8080/"
    },
    "id": "6L_2Jd-UeoFD",
    "outputId": "6c843a78-96a3-4030-9b18-6f2b8711f8b8"
   },
   "outputs": [
    {
     "name": "stdout",
     "output_type": "stream",
     "text": [
      "Total price of Laptop: $5000\n"
     ]
    }
   ],
   "source": [
    "class Product:\n",
    "    def __init__(self, name, price, quantity):\n",
    "        self.name = name\n",
    "        self.price = price\n",
    "        self.quantity = quantity\n",
    "\n",
    "    def total_price(self):\n",
    "        return self.price * self.quantity\n",
    "\n",
    "# Create a Product object\n",
    "product = Product(\"Laptop\", 1000, 5)\n",
    "\n",
    "# Calculate and print the total price\n",
    "total = product.total_price()\n",
    "print(f\"Total price of {product.name}: ${total}\")  # Output: Total price of Laptop: $5000"
   ]
  },
  {
   "cell_type": "markdown",
   "metadata": {
    "id": "P-kkz8JvRdOk"
   },
   "source": [
    "### 16. Create a class Animal with an abstract method sound(). Create two derived classes Cow and Sheep that implement the sound() method."
   ]
  },
  {
   "cell_type": "code",
   "execution_count": 24,
   "metadata": {
    "colab": {
     "base_uri": "https://localhost:8080/"
    },
    "id": "b_2Evw36e-ZF",
    "outputId": "1db9f0d4-ce95-49fc-b408-cae3036edc11"
   },
   "outputs": [
    {
     "name": "stdout",
     "output_type": "stream",
     "text": [
      "bhaww!\n",
      "meeee!\n"
     ]
    }
   ],
   "source": [
    "from abc import ABC, abstractmethod\n",
    "\n",
    "class Animal(ABC):\n",
    "    @abstractmethod\n",
    "    def sound(self):\n",
    "        pass\n",
    "\n",
    "class Cow(Animal):\n",
    "    def sound(self):\n",
    "        print(\"bhaww!\")\n",
    "\n",
    "class Sheep(Animal):\n",
    "    def sound(self):\n",
    "        print(\"meeee!\")\n",
    "\n",
    "# Create objects and call the sound method\n",
    "cow = Cow()\n",
    "sheep = Sheep()\n",
    "\n",
    "cow.sound()  # Output: Moo!\n",
    "sheep.sound() # Output: Baa!"
   ]
  },
  {
   "cell_type": "markdown",
   "metadata": {
    "id": "8HA184q7Riqb"
   },
   "source": [
    "### 17. Create a class Book with attributes title, author, and year_published. Add a method get_book_info() that returns a formatted string with the book's details."
   ]
  },
  {
   "cell_type": "code",
   "execution_count": 17,
   "metadata": {
    "colab": {
     "base_uri": "https://localhost:8080/"
    },
    "id": "vCYdtWo9fdRL",
    "outputId": "e3254b5b-20e5-488c-fe8e-32dcaf41e5ca"
   },
   "outputs": [
    {
     "name": "stdout",
     "output_type": "stream",
     "text": [
      "Title: The Hitchhiker's Guide to the Galaxy, Author: Douglas Adams, Year Published: 1979\n"
     ]
    }
   ],
   "source": [
    "class Book:\n",
    "    def __init__(self, title, author, year_published):\n",
    "        self.title = title\n",
    "        self.author = author\n",
    "        self.year_published = year_published\n",
    "\n",
    "    def get_book_info(self):\n",
    "        return f\"Title: {self.title}, Author: {self.author}, Year Published: {self.year_published}\"\n",
    "\n",
    "# Create a Book object\n",
    "book = Book(\"The Hitchhiker's Guide to the Galaxy\", \"Douglas Adams\", 1979)\n",
    "\n",
    "# Get and print the book's information\n",
    "book_info = book.get_book_info()\n",
    "print(book_info)  # Output: Title: The Hitchhiker's Guide to the Galaxy, Author: Douglas Adams, Year Published: 1979"
   ]
  },
  {
   "cell_type": "markdown",
   "metadata": {
    "id": "HC4CD5acRsvN"
   },
   "source": [
    "### 18.  Create a class House with attributes address and price. Create a derived class Mansion that adds an attribute number_of_rooms."
   ]
  },
  {
   "cell_type": "code",
   "execution_count": 25,
   "metadata": {
    "colab": {
     "base_uri": "https://localhost:8080/"
    },
    "id": "Czi9liWRfsGt",
    "outputId": "c610eed8-cc86-4551-b578-af5e8aef7926"
   },
   "outputs": [
    {
     "name": "stdout",
     "output_type": "stream",
     "text": [
      "House address: 123 Main St, price: 500000\n",
      "Mansion address: 456 Park Ave, price: 2000000, number of rooms: 10\n"
     ]
    }
   ],
   "source": [
    "class House:\n",
    "    def __init__(self, address, price):\n",
    "        self.address = address\n",
    "        self.price = price\n",
    "\n",
    "class Mansion(House):\n",
    "    def __init__(self, address, price, number_of_rooms):\n",
    "        super().__init__(address, price)\n",
    "        self.number_of_rooms = number_of_rooms\n",
    "\n",
    "# Create a House object\n",
    "house = House(\"123 Main St\", 500000)\n",
    "\n",
    "# Create a Mansion object\n",
    "mansion = Mansion(\"456 Park Ave\", 2000000, 10)\n",
    "\n",
    "# Access attributes\n",
    "print(f\"House address: {house.address}, price: {house.price}\")\n",
    "# Output: House address: 123 Main St, price: $500000\n",
    "\n",
    "print(f\"Mansion address: {mansion.address}, price: {mansion.price}, number of rooms: {mansion.number_of_rooms}\")\n",
    "# Output: Mansion address: 456 Park Ave, price: $2000000, number of rooms: 10"
   ]
  }
 ],
 "metadata": {
  "colab": {
   "authorship_tag": "ABX9TyM6O77RAi/R1W+1UBir70QB",
   "include_colab_link": true,
   "provenance": []
  },
  "kernelspec": {
   "display_name": "Python 3 (ipykernel)",
   "language": "python",
   "name": "python3"
  },
  "language_info": {
   "codemirror_mode": {
    "name": "ipython",
    "version": 3
   },
   "file_extension": ".py",
   "mimetype": "text/x-python",
   "name": "python",
   "nbconvert_exporter": "python",
   "pygments_lexer": "ipython3",
   "version": "3.13.5"
  },
  "widgets": {
   "application/vnd.jupyter.widget-state+json": {
    "state": {},
    "version_major": 2,
    "version_minor": 0
   }
  }
 },
 "nbformat": 4,
 "nbformat_minor": 4
}
