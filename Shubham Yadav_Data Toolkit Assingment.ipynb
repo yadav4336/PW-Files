{
 "cells": [
  {
   "cell_type": "markdown",
   "id": "13472f72-4989-406a-b1f1-fc319bea6d70",
   "metadata": {},
   "source": [
    "# 1. What is NumPy, and why is it widely used in Python?"
   ]
  },
  {
   "cell_type": "markdown",
   "id": "27db9f27-ff2a-46dc-b568-82652914fcd2",
   "metadata": {},
   "source": [
    "# 1. What is NumPy?"
   ]
  },
  {
   "cell_type": "markdown",
   "id": "be1bb6ff-5309-43fe-9f01-c061fb872713",
   "metadata": {},
   "source": [
    "- NumPy (Numerical Python) is a popular Python library used for numerical and scientific computing. It provides support for multi-dimensional arrays (ndarrays) and offers a wide range of mathematical functions to operate on these arrays efficiently."
   ]
  },
  {
   "cell_type": "markdown",
   "id": "d1920ce5-32c7-47ab-9b41-c43e4256f0e1",
   "metadata": {},
   "source": [
    "# 2. Why is NumPy Widely Used in Python?"
   ]
  },
  {
   "cell_type": "markdown",
   "id": "33fce663-c430-4088-a51a-a57e21c5aa0c",
   "metadata": {},
   "source": [
    "- Fast operations on arrays and matrices.\n",
    "\n",
    "- Memory-efficient compared to regular Python lists.\n",
    "\n",
    "- Supports broadcasting, which allows operations on arrays of different shapes.\n",
    "\n",
    "- Used as the foundation for many data science libraries like Pandas, SciPy, and scikit-learn.\n",
    "\n",
    "- Easy integration with C/C++ and Fortran code for high-performance computing."
   ]
  },
  {
   "cell_type": "markdown",
   "id": "ce4472f8-6d5e-4176-b4f3-ee170a18042c",
   "metadata": {},
   "source": [
    "# 2. How does broadcasting work in NumPy?"
   ]
  },
  {
   "cell_type": "markdown",
   "id": "ca79395f-7086-4e34-95b2-4e626af9fee1",
   "metadata": {},
   "source": [
    "- Broadcasting in NumPy allows you to perform arithmetic operations on arrays of different shapes and sizes without explicitly reshaping them."
   ]
  },
  {
   "cell_type": "markdown",
   "id": "97b386c7-fb59-4dbf-8ae4-7789298bfca4",
   "metadata": {},
   "source": [
    "### Key Idea:"
   ]
  },
  {
   "cell_type": "markdown",
   "id": "44947041-2097-4496-bb4a-c5dce0381e4e",
   "metadata": {},
   "source": [
    "- When performing operations between arrays, NumPy automatically expands the smaller array to match the shape of the larger array — without making actual copies, which makes it efficient."
   ]
  },
  {
   "cell_type": "markdown",
   "id": "7d7ea1ef-fd9a-4528-919e-7e95cece93e7",
   "metadata": {},
   "source": [
    "### Example 1: Adding a scalar to an array"
   ]
  },
  {
   "cell_type": "code",
   "execution_count": 1,
   "id": "c3bdf474-0640-4703-a1d8-b65102e7ab3c",
   "metadata": {},
   "outputs": [
    {
     "name": "stdout",
     "output_type": "stream",
     "text": [
      "[11 12 13]\n"
     ]
    }
   ],
   "source": [
    "import numpy as np\n",
    "\n",
    "a = np.array([1,2,3])\n",
    "\n",
    "b = 10\n",
    "\n",
    "result = a + b\n",
    "\n",
    "print(result)"
   ]
  },
  {
   "cell_type": "markdown",
   "id": "7a0aa778-9b6a-4318-bd36-d48e5178e64f",
   "metadata": {},
   "source": [
    "- Here, b (scalar) is broadcasted to [10, 10, 10] and added to a."
   ]
  },
  {
   "cell_type": "markdown",
   "id": "8e19c2e1-b8ea-4810-83c5-f2a73829f5c7",
   "metadata": {},
   "source": [
    "### Example 2: 2D and 1D array"
   ]
  },
  {
   "cell_type": "code",
   "execution_count": 2,
   "id": "860e4992-bd2d-48e0-a990-343fd845a368",
   "metadata": {},
   "outputs": [
    {
     "name": "stdout",
     "output_type": "stream",
     "text": [
      "[[11 22 33]\n",
      " [14 25 36]]\n"
     ]
    }
   ],
   "source": [
    "a = np.array([[1,2,3],[4,5,6]])\n",
    "\n",
    "b = np.array([10,20,30])\n",
    "\n",
    "result = a + b\n",
    "\n",
    "print(result)"
   ]
  },
  {
   "cell_type": "markdown",
   "id": "0b5a4e97-33aa-49ac-8813-f4052c2e8fe9",
   "metadata": {},
   "source": [
    "- b is broadcasted row-wise to match the shape of a."
   ]
  },
  {
   "cell_type": "markdown",
   "id": "1881c2af-af55-4fe8-ae59-0d7f76d62e9c",
   "metadata": {},
   "source": [
    "### Rules of Broadcasting:"
   ]
  },
  {
   "cell_type": "markdown",
   "id": "be9b8d37-56b2-4c2d-80e7-2618deb1d156",
   "metadata": {},
   "source": [
    "1. If arrays have different numbers of dimensions, prepend 1s to the smaller one.\n",
    "\n",
    "2. Two dimensions are compatible when:\n",
    "\n",
    "    - They are equal, or\n",
    "\n",
    "    - One of them is 1."
   ]
  },
  {
   "cell_type": "markdown",
   "id": "804ef554-55c2-4d2b-91cd-078beab39735",
   "metadata": {},
   "source": [
    "# 3. What is a Pandas DataFrame?"
   ]
  },
  {
   "cell_type": "markdown",
   "id": "e8b98cfd-bc47-45d6-a950-e506af1e2b11",
   "metadata": {},
   "source": [
    "- A Pandas DataFrame is a 2-dimensional, labeled data structure in Python, similar to a table in a database or an Excel spreadsheet."
   ]
  },
  {
   "cell_type": "markdown",
   "id": "5420493c-d8df-4682-9136-d58d744939ba",
   "metadata": {},
   "source": [
    "### Key Features:"
   ]
  },
  {
   "cell_type": "markdown",
   "id": "9d70a9ca-e057-4f83-83f0-cf29abffb732",
   "metadata": {},
   "source": [
    "- Consists of rows and columns.\n",
    "\n",
    "- Columns can hold different data types (e.g., int, float, string).\n",
    "\n",
    "- Allows easy data manipulation, filtering, and analysis.\n",
    "\n",
    "- Provides built-in functions for reading/writing data from files (CSV, Excel, etc.)."
   ]
  },
  {
   "cell_type": "markdown",
   "id": "1d1e939d-f40d-4bf5-996c-08b81483fa09",
   "metadata": {},
   "source": [
    "### Example:"
   ]
  },
  {
   "cell_type": "code",
   "execution_count": 3,
   "id": "d7543715-836c-4a37-91e0-7766a76af89a",
   "metadata": {},
   "outputs": [],
   "source": [
    "import pandas as pd"
   ]
  },
  {
   "cell_type": "code",
   "execution_count": 4,
   "id": "97198df6-cc81-4c2f-99f6-90925e027cd2",
   "metadata": {},
   "outputs": [
    {
     "name": "stdout",
     "output_type": "stream",
     "text": [
      "     name  Age         City\n",
      "0  Vishal   27       Rajkot\n",
      "1  Pratik   21     Jamnagar\n",
      "2   Vijay   26  Khambhaliya\n"
     ]
    }
   ],
   "source": [
    "data = {\n",
    "    \"name\" : [\"Vishal\",\"Pratik\",\"Vijay\"],\n",
    "    \"Age\" : [27,21,26],\n",
    "    \"City\" : [\"Rajkot\",\"Jamnagar\",\"Khambhaliya\"]\n",
    "}\n",
    "\n",
    "df = pd.DataFrame(data)\n",
    "print(df)"
   ]
  },
  {
   "cell_type": "markdown",
   "id": "4c864c4c-f841-4b38-83a2-080d15cd35f9",
   "metadata": {},
   "source": [
    "### Why it is used:"
   ]
  },
  {
   "cell_type": "markdown",
   "id": "5a98cc0b-eefe-4481-b27e-fc905746a3f4",
   "metadata": {},
   "source": [
    "- Makes data cleaning, analysis, and visualization much easier.\n",
    "\n",
    "- Core component of data analytics and data science in Python."
   ]
  },
  {
   "cell_type": "markdown",
   "id": "3fa47afe-d293-44d9-8413-bfd7a168078c",
   "metadata": {},
   "source": [
    "# 4. Explain the use of the groupby() method in Pandas."
   ]
  },
  {
   "cell_type": "markdown",
   "id": "5255f7f5-5cad-4465-81d2-ad7d809aeacb",
   "metadata": {},
   "source": [
    "- The groupby() method in Pandas is used to group data based on one or more columns. After grouping, you can perform aggregate operations like sum(), mean(), count(), etc., on each group."
   ]
  },
  {
   "cell_type": "markdown",
   "id": "5360a59b-3710-49d2-99d4-3761943d0760",
   "metadata": {},
   "source": [
    "### Purpose:"
   ]
  },
  {
   "cell_type": "markdown",
   "id": "22a4a59a-0dec-4e15-9b45-b93ad3312d4f",
   "metadata": {},
   "source": [
    "- Analyze data by categories or groups\n",
    "\n",
    "- Useful for tasks like:\n",
    "\n",
    "    - Total sales per region\n",
    "\n",
    "    - Average marks per student\n",
    "\n",
    "    - Count of items per category"
   ]
  },
  {
   "cell_type": "markdown",
   "id": "f693c242-c1a4-480a-ac55-e671889c510d",
   "metadata": {},
   "source": [
    "### Basic Syntax:"
   ]
  },
  {
   "cell_type": "code",
   "execution_count": 8,
   "id": "544691b0-2c70-4133-a0eb-d2ec642f8100",
   "metadata": {},
   "outputs": [
    {
     "data": {
      "text/plain": [
       "\"df.groupby('column_name').aggregation_function()\""
      ]
     },
     "execution_count": 8,
     "metadata": {},
     "output_type": "execute_result"
    }
   ],
   "source": [
    "\"\"\"df.groupby('column_name').aggregation_function()\"\"\""
   ]
  },
  {
   "cell_type": "markdown",
   "id": "109a376c-ba89-49cc-b87a-72f580d43c9d",
   "metadata": {},
   "source": [
    "### Example:"
   ]
  },
  {
   "cell_type": "code",
   "execution_count": null,
   "id": "1c66c2e3-abca-4661-b4d7-481412688192",
   "metadata": {},
   "outputs": [],
   "source": [
    "import pandas as pd\n",
    "\n",
    "data = {\n",
    "    'Department': ['HR', 'HR', 'IT', 'IT', 'Finance'],\n",
    "    'Salary': [30000, 35000, 60000, 65000, 70000]\n",
    "}\n",
    "\n",
    "df = pd.DataFrame(data)\n",
    "\n",
    "grouped = df.groupby('Department')['Salary'].mean()\n",
    "print(grouped)\n"
   ]
  },
  {
   "cell_type": "markdown",
   "id": "23061c50-d01c-4c72-94fa-375cf0ee794f",
   "metadata": {},
   "source": [
    "### Common Aggregations:"
   ]
  },
  {
   "cell_type": "markdown",
   "id": "81b23add-1b6d-428c-85d9-7e105c1aa546",
   "metadata": {},
   "source": [
    "- .sum() → Total of each group\n",
    "\n",
    "- .mean() → Average of each group\n",
    "\n",
    "- .count() → Number of entries per group\n",
    "\n",
    "- .max() / .min() → Maximum / minimum value per group"
   ]
  },
  {
   "cell_type": "markdown",
   "id": "935e9b8b-904a-44f3-9ff4-225e503f1813",
   "metadata": {},
   "source": [
    "### Summary:"
   ]
  },
  {
   "cell_type": "markdown",
   "id": "5420f206-3ee9-48ab-978b-60df094229d9",
   "metadata": {},
   "source": [
    "- groupby() is powerful for summarizing and analyzing data efficiently by grouping it based on specific criteria."
   ]
  },
  {
   "cell_type": "markdown",
   "id": "f9f46cdd-79f8-4999-a493-89c11ccb1b2b",
   "metadata": {},
   "source": [
    "# 5. Why is Seaborn preferred for statistical visualizations?"
   ]
  },
  {
   "cell_type": "markdown",
   "id": "769ab50a-eb3a-4f57-b752-f5d0cd835c25",
   "metadata": {},
   "source": [
    "- Seaborn is preferred for statistical visualizations in Python because it is built specifically for statistical plotting, offering simpler syntax and beautiful default styles. It is built on top of Matplotlib and integrates well with Pandas."
   ]
  },
  {
   "cell_type": "markdown",
   "id": "1837853d-cad3-42a6-a2c1-193319f01380",
   "metadata": {},
   "source": [
    "### Key Reasons Why Seaborn is Preferred:"
   ]
  },
  {
   "cell_type": "markdown",
   "id": "3ca36c7b-65f6-4290-a7c8-c4c198aa5cbb",
   "metadata": {},
   "source": [
    "### High-Level Interface"
   ]
  },
  {
   "cell_type": "markdown",
   "id": "59be7c85-aec0-492c-a03b-68b6311fcabe",
   "metadata": {},
   "source": [
    "- Easy to use with fewer lines of code\n",
    "\n",
    "- Handles complex plots like box plots, violin plots, and regression plots simply"
   ]
  },
  {
   "cell_type": "markdown",
   "id": "cbd4accf-35ca-42e3-9a77-cfcd3a17c8fe",
   "metadata": {},
   "source": [
    "### Beautiful Default Styles"
   ]
  },
  {
   "cell_type": "markdown",
   "id": "84441e83-147a-473a-ac79-1db396d4ceef",
   "metadata": {},
   "source": [
    "- Makes charts look professional with less effort\n",
    "\n",
    "- Built-in color palettes and themes"
   ]
  },
  {
   "cell_type": "markdown",
   "id": "c398f0f1-d533-4ed2-b03f-9352c460c551",
   "metadata": {},
   "source": [
    "### Built-in Statistical Support"
   ]
  },
  {
   "cell_type": "markdown",
   "id": "939cde8a-8d7e-4182-a398-0f5b3af03a99",
   "metadata": {},
   "source": [
    "- Automatically adds statistical elements (e.g., confidence intervals in regression)\n",
    "\n",
    "- Works great for visualizing distributions, categorical comparisons, and correlations"
   ]
  },
  {
   "cell_type": "markdown",
   "id": "78697fb5-ba50-487a-af72-898b278f4662",
   "metadata": {},
   "source": [
    "### Pandas Integration"
   ]
  },
  {
   "cell_type": "markdown",
   "id": "a4fdaa46-256e-459d-9af0-0797dfad8b97",
   "metadata": {},
   "source": [
    "- Works directly with DataFrames and column names\n",
    "\n",
    "- No need to manually extract data like in Matplotlib"
   ]
  },
  {
   "cell_type": "markdown",
   "id": "f891f2a5-3d4f-4cb2-934c-8ab91ba2bf5e",
   "metadata": {},
   "source": [
    "### Multiple Plot Types"
   ]
  },
  {
   "cell_type": "markdown",
   "id": "9b5d6719-337c-4dc6-9e51-44cfa7577ef1",
   "metadata": {},
   "source": [
    "- sns.histplot(), sns.boxplot(), sns.heatmap(), sns.pairplot(), sns.catplot() and many more\n",
    "\n",
    "- Great for EDA (Exploratory Data Analysis)"
   ]
  },
  {
   "cell_type": "markdown",
   "id": "6f62de06-c706-44e2-a91c-2779b05eb2d6",
   "metadata": {},
   "source": [
    "### Example:"
   ]
  },
  {
   "cell_type": "code",
   "execution_count": 9,
   "id": "25ed2516-485a-4276-b87e-ce0f9a3cf2b2",
   "metadata": {},
   "outputs": [
    {
     "data": {
      "text/html": [
       "<div>\n",
       "<style scoped>\n",
       "    .dataframe tbody tr th:only-of-type {\n",
       "        vertical-align: middle;\n",
       "    }\n",
       "\n",
       "    .dataframe tbody tr th {\n",
       "        vertical-align: top;\n",
       "    }\n",
       "\n",
       "    .dataframe thead th {\n",
       "        text-align: right;\n",
       "    }\n",
       "</style>\n",
       "<table border=\"1\" class=\"dataframe\">\n",
       "  <thead>\n",
       "    <tr style=\"text-align: right;\">\n",
       "      <th></th>\n",
       "      <th>total_bill</th>\n",
       "      <th>tip</th>\n",
       "      <th>sex</th>\n",
       "      <th>smoker</th>\n",
       "      <th>day</th>\n",
       "      <th>time</th>\n",
       "      <th>size</th>\n",
       "    </tr>\n",
       "  </thead>\n",
       "  <tbody>\n",
       "    <tr>\n",
       "      <th>0</th>\n",
       "      <td>16.99</td>\n",
       "      <td>1.01</td>\n",
       "      <td>Female</td>\n",
       "      <td>No</td>\n",
       "      <td>Sun</td>\n",
       "      <td>Dinner</td>\n",
       "      <td>2</td>\n",
       "    </tr>\n",
       "    <tr>\n",
       "      <th>1</th>\n",
       "      <td>10.34</td>\n",
       "      <td>1.66</td>\n",
       "      <td>Male</td>\n",
       "      <td>No</td>\n",
       "      <td>Sun</td>\n",
       "      <td>Dinner</td>\n",
       "      <td>3</td>\n",
       "    </tr>\n",
       "    <tr>\n",
       "      <th>2</th>\n",
       "      <td>21.01</td>\n",
       "      <td>3.50</td>\n",
       "      <td>Male</td>\n",
       "      <td>No</td>\n",
       "      <td>Sun</td>\n",
       "      <td>Dinner</td>\n",
       "      <td>3</td>\n",
       "    </tr>\n",
       "    <tr>\n",
       "      <th>3</th>\n",
       "      <td>23.68</td>\n",
       "      <td>3.31</td>\n",
       "      <td>Male</td>\n",
       "      <td>No</td>\n",
       "      <td>Sun</td>\n",
       "      <td>Dinner</td>\n",
       "      <td>2</td>\n",
       "    </tr>\n",
       "    <tr>\n",
       "      <th>4</th>\n",
       "      <td>24.59</td>\n",
       "      <td>3.61</td>\n",
       "      <td>Female</td>\n",
       "      <td>No</td>\n",
       "      <td>Sun</td>\n",
       "      <td>Dinner</td>\n",
       "      <td>4</td>\n",
       "    </tr>\n",
       "    <tr>\n",
       "      <th>...</th>\n",
       "      <td>...</td>\n",
       "      <td>...</td>\n",
       "      <td>...</td>\n",
       "      <td>...</td>\n",
       "      <td>...</td>\n",
       "      <td>...</td>\n",
       "      <td>...</td>\n",
       "    </tr>\n",
       "    <tr>\n",
       "      <th>239</th>\n",
       "      <td>29.03</td>\n",
       "      <td>5.92</td>\n",
       "      <td>Male</td>\n",
       "      <td>No</td>\n",
       "      <td>Sat</td>\n",
       "      <td>Dinner</td>\n",
       "      <td>3</td>\n",
       "    </tr>\n",
       "    <tr>\n",
       "      <th>240</th>\n",
       "      <td>27.18</td>\n",
       "      <td>2.00</td>\n",
       "      <td>Female</td>\n",
       "      <td>Yes</td>\n",
       "      <td>Sat</td>\n",
       "      <td>Dinner</td>\n",
       "      <td>2</td>\n",
       "    </tr>\n",
       "    <tr>\n",
       "      <th>241</th>\n",
       "      <td>22.67</td>\n",
       "      <td>2.00</td>\n",
       "      <td>Male</td>\n",
       "      <td>Yes</td>\n",
       "      <td>Sat</td>\n",
       "      <td>Dinner</td>\n",
       "      <td>2</td>\n",
       "    </tr>\n",
       "    <tr>\n",
       "      <th>242</th>\n",
       "      <td>17.82</td>\n",
       "      <td>1.75</td>\n",
       "      <td>Male</td>\n",
       "      <td>No</td>\n",
       "      <td>Sat</td>\n",
       "      <td>Dinner</td>\n",
       "      <td>2</td>\n",
       "    </tr>\n",
       "    <tr>\n",
       "      <th>243</th>\n",
       "      <td>18.78</td>\n",
       "      <td>3.00</td>\n",
       "      <td>Female</td>\n",
       "      <td>No</td>\n",
       "      <td>Thur</td>\n",
       "      <td>Dinner</td>\n",
       "      <td>2</td>\n",
       "    </tr>\n",
       "  </tbody>\n",
       "</table>\n",
       "<p>244 rows × 7 columns</p>\n",
       "</div>"
      ],
      "text/plain": [
       "     total_bill   tip     sex smoker   day    time  size\n",
       "0         16.99  1.01  Female     No   Sun  Dinner     2\n",
       "1         10.34  1.66    Male     No   Sun  Dinner     3\n",
       "2         21.01  3.50    Male     No   Sun  Dinner     3\n",
       "3         23.68  3.31    Male     No   Sun  Dinner     2\n",
       "4         24.59  3.61  Female     No   Sun  Dinner     4\n",
       "..          ...   ...     ...    ...   ...     ...   ...\n",
       "239       29.03  5.92    Male     No   Sat  Dinner     3\n",
       "240       27.18  2.00  Female    Yes   Sat  Dinner     2\n",
       "241       22.67  2.00    Male    Yes   Sat  Dinner     2\n",
       "242       17.82  1.75    Male     No   Sat  Dinner     2\n",
       "243       18.78  3.00  Female     No  Thur  Dinner     2\n",
       "\n",
       "[244 rows x 7 columns]"
      ]
     },
     "execution_count": 9,
     "metadata": {},
     "output_type": "execute_result"
    }
   ],
   "source": [
    "import seaborn as sns\n",
    "import pandas as pd\n",
    "\n",
    "# Sample data\n",
    "tips = sns.load_dataset(\"tips\")\n",
    "\n",
    "tips\n"
   ]
  },
  {
   "cell_type": "code",
   "execution_count": 10,
   "id": "37d8e020-7fb7-4e7e-87e6-3d82f8a9fc0c",
   "metadata": {},
   "outputs": [
    {
     "data": {
      "text/plain": [
       "<Axes: xlabel='day', ylabel='tip'>"
      ]
     },
     "execution_count": 10,
     "metadata": {},
     "output_type": "execute_result"
    },
    {
     "data": {
      "image/png": "[encoded data removed]",
      "text/plain": [
       "<Figure size 640x480 with 1 Axes>"
      ]
     },
     "metadata": {},
     "output_type": "display_data"
    }
   ],
   "source": [
    "sns.boxplot(x=\"day\", y=\"tip\", data=tips)"
   ]
  },
  {
   "cell_type": "markdown",
   "id": "d01fa475-3c6a-46a9-8cfa-3b58871ee017",
   "metadata": {},
   "source": [
    "- This one line of code gives a clean and informative plot—something that takes more code in Matplotlib."
   ]
  },
  {
   "cell_type": "markdown",
   "id": "9b1da855-50f6-4ebb-af08-0419e26d4a90",
   "metadata": {},
   "source": [
    "### Summary:"
   ]
  },
  {
   "cell_type": "markdown",
   "id": "29d1bec8-5303-4783-875d-6096225c49e2",
   "metadata": {},
   "source": [
    "- Seaborn is preferred because it makes statistical visualizations easier, cleaner, and more informative—perfect for data analysis and data science work."
   ]
  },
  {
   "cell_type": "markdown",
   "id": "c4b2bac3-14a1-4505-86f9-585a05f7b899",
   "metadata": {},
   "source": [
    "# 6. What are the differences between NumPy arrays and Python lists?"
   ]
  },
  {
   "cell_type": "markdown",
   "id": "511e6ce0-14a6-4e89-8493-39cfea17466a",
   "metadata": {},
   "source": [
    "- When working with data in Python, it's essential to understand the differences between NumPy arrays and Python lists. Although both are used to store collections of elements, they differ significantly in terms of performance, memory, and functionality."
   ]
  },
  {
   "cell_type": "markdown",
   "id": "46568265-4e08-4579-ad62-1667ba456866",
   "metadata": {},
   "source": [
    "### Performance"
   ]
  },
  {
   "cell_type": "markdown",
   "id": "f8331650-d209-4efa-8f29-b0ebd48155a0",
   "metadata": {},
   "source": [
    "- NumPy Array: Faster (uses C-level optimizations)\n",
    "\n",
    "- Python List: Slower (pure Python)\n",
    "\n",
    "-  Explanation: \n",
    "    - NumPy arrays are implemented in C and use optimized functions, making them much faster for numerical computations. Python lists, being high-level and written in pure Python, are slower for large-scale data operations."
   ]
  },
  {
   "cell_type": "markdown",
   "id": "a34ffbd3-2d7c-4552-8612-23afe545c724",
   "metadata": {},
   "source": [
    "### Memory Usage"
   ]
  },
  {
   "cell_type": "markdown",
   "id": "f44a521b-9d84-4256-88df-9813325ecdb5",
   "metadata": {},
   "source": [
    "- NumPy Array: Less memory\n",
    "\n",
    "- Python List: More memory\n",
    "\n",
    "- Explanation:\n",
    "\n",
    "    - NumPy arrays are more memory-efficient because they store data more compactly. Python lists have extra overhead since each element is a separate Python object."
   ]
  },
  {
   "cell_type": "markdown",
   "id": "9d081623-da48-4cdd-8554-9829dd2e6678",
   "metadata": {},
   "source": [
    "### Data Type"
   ]
  },
  {
   "cell_type": "markdown",
   "id": "b9718d7e-10e0-4ef8-9a01-3f11d4088711",
   "metadata": {},
   "source": [
    "- NumPy Array: Homogeneous (all elements same type)\n",
    "\n",
    "- Python List: Heterogeneous (can mix data types)\n",
    "\n",
    "- Explanation: \n",
    "    - In NumPy arrays, all elements must be of the same type, such as all integers or all floats. Python lists allow mixing data types like strings, integers, and booleans in a single list."
   ]
  },
  {
   "cell_type": "markdown",
   "id": "b67b02b0-2620-4b15-aaef-bddce6562715",
   "metadata": {},
   "source": [
    "### Operations"
   ]
  },
  {
   "cell_type": "markdown",
   "id": "2b6797d9-95b3-4039-965d-c4ccf931381c",
   "metadata": {},
   "source": [
    "- NumPy Array: Supports vectorized operations\n",
    "\n",
    "- Python List: Requires loops for element-wise operations\n",
    "\n",
    "- Explanation: \n",
    "    - NumPy supports vectorized operations that work on entire arrays at once, making code shorter and faster. In contrast, Python lists need manual loops to apply operations to each item."
   ]
  },
  {
   "cell_type": "markdown",
   "id": "c19d77ec-cbfd-4f41-9d45-33fc4d65e6c8",
   "metadata": {},
   "source": [
    "### Functionality"
   ]
  },
  {
   "cell_type": "markdown",
   "id": "c3cc466f-ddde-4715-8975-ec878e3c742c",
   "metadata": {},
   "source": [
    "- NumPy Array: Rich set of mathematical functions\n",
    "\n",
    "- Python List: Basic operations only\n",
    "\n",
    "- Explanation: \n",
    "    - NumPy comes with many built-in functions for mathematical and statistical analysis. Python lists are limited to basic methods like append, pop, and indexing."
   ]
  },
  {
   "cell_type": "markdown",
   "id": "694c670f-fdcf-402c-84ed-31f29acd881b",
   "metadata": {},
   "source": [
    "### Multidimensional Support"
   ]
  },
  {
   "cell_type": "markdown",
   "id": "1459dc5c-0a2c-41c3-8f45-d57ba1de0edd",
   "metadata": {},
   "source": [
    "- NumPy Array: Built-in support for multi-dimensional data\n",
    "\n",
    "- Python List: Must nest lists (harder to manage)\n",
    "\n",
    "- Explanation:\n",
    "    - NumPy makes it easy to work with matrices and higher-dimensional arrays. With Python lists, you have to manually nest lists inside other lists, which becomes complex and error-prone."
   ]
  },
  {
   "cell_type": "markdown",
   "id": "e084342a-6616-49d4-9d26-033118dc31c0",
   "metadata": {},
   "source": [
    "### Broadcasting"
   ]
  },
  {
   "cell_type": "markdown",
   "id": "2d31670f-4ba1-4558-ab07-f829c35b82ff",
   "metadata": {},
   "source": [
    "- NumPy Array: Supported\n",
    "\n",
    "- Python List: Not supported\n",
    "\n",
    "- Explanation:\n",
    "    - NumPy arrays support broadcasting, which allows arithmetic operations between arrays of different shapes. Python lists do not have this feature."
   ]
  },
  {
   "cell_type": "markdown",
   "id": "b0e2f26b-abac-42f9-aa77-e9d32c8eeb80",
   "metadata": {},
   "source": [
    "### Example:"
   ]
  },
  {
   "cell_type": "markdown",
   "id": "0039b6ac-c7e6-4be0-bbae-ca2d942994cb",
   "metadata": {},
   "source": [
    "#### NumPy array:"
   ]
  },
  {
   "cell_type": "code",
   "execution_count": 11,
   "id": "20c1f36a-5653-4500-8a2d-d1753405ff03",
   "metadata": {},
   "outputs": [
    {
     "name": "stdout",
     "output_type": "stream",
     "text": [
      "[2 4 6]\n"
     ]
    }
   ],
   "source": [
    "import numpy as np\n",
    "\n",
    "a = np.array([1, 2, 3])\n",
    "b = a * 2\n",
    "print(b) \n"
   ]
  },
  {
   "cell_type": "markdown",
   "id": "79bcc8bd-816f-4753-9967-363a31f5b162",
   "metadata": {},
   "source": [
    "#### Python list:"
   ]
  },
  {
   "cell_type": "code",
   "execution_count": 12,
   "id": "5372e339-625e-4620-a0c0-689c6767a1c3",
   "metadata": {},
   "outputs": [
    {
     "name": "stdout",
     "output_type": "stream",
     "text": [
      "[2, 4, 6]\n"
     ]
    }
   ],
   "source": [
    "a = [1, 2, 3]\n",
    "b = [x * 2 for x in a]\n",
    "print(b) \n"
   ]
  },
  {
   "cell_type": "markdown",
   "id": "3e2a72eb-a99d-4127-828c-52e699e25fd8",
   "metadata": {},
   "source": [
    "- NumPy does it faster and with simpler code."
   ]
  },
  {
   "cell_type": "markdown",
   "id": "743fe4de-dba4-4974-b55a-72f91d4ac862",
   "metadata": {},
   "source": [
    "### Summary:"
   ]
  },
  {
   "cell_type": "markdown",
   "id": "586b938b-46f9-43ab-832b-9174fddac8a2",
   "metadata": {},
   "source": [
    "- Use NumPy arrays when working with numerical data, large datasets, or doing scientific computing.\n",
    "\n",
    "- Use Python lists for general-purpose programming with mixed data types."
   ]
  },
  {
   "cell_type": "markdown",
   "id": "6e63592e-5844-4cc1-b714-eefc07e963a0",
   "metadata": {},
   "source": [
    "# 7. What is a heatmap, and when should it be used?"
   ]
  },
  {
   "cell_type": "markdown",
   "id": "aa169ae0-a671-4f44-a6fd-5decada16b3c",
   "metadata": {},
   "source": [
    "- A heatmap is a data visualization technique that uses color gradients to represent the magnitude or intensity of values in a matrix-like format. In Python, heatmaps are commonly created using libraries like Seaborn and Matplotlib."
   ]
  },
  {
   "cell_type": "markdown",
   "id": "3cf51c11-bc72-4e15-8c3d-7fee19f69cc5",
   "metadata": {},
   "source": [
    "### When Should a Heatmap Be Used?"
   ]
  },
  {
   "cell_type": "markdown",
   "id": "35ebc695-81db-4e30-990b-47ce45943d1e",
   "metadata": {},
   "source": [
    "- To visualize correlation between variables:\n",
    "    - Heatmaps are often used to display the correlation matrix in statistics and data analysis, helping identify relationships between features."
   ]
  },
  {
   "cell_type": "markdown",
   "id": "389a2813-3d4d-4525-a377-d17a451f4282",
   "metadata": {},
   "source": [
    "- To detect patterns in large datasets:\n",
    "    - They are useful for finding trends, hotspots, or outliers in large numerical datasets quickly."
   ]
  },
  {
   "cell_type": "markdown",
   "id": "d0c07128-0c62-4b78-a56c-c2b1a6b8e3c6",
   "metadata": {},
   "source": [
    "- For comparison of values:\n",
    "    - Easily compare values across rows and columns using color intensity instead of raw numbers."
   ]
  },
  {
   "cell_type": "markdown",
   "id": "40016d52-6fcb-4817-b313-e2ea71e9e3be",
   "metadata": {},
   "source": [
    "- For presenting data to non-technical audiences:\n",
    "    - The visual nature of heatmaps makes complex data more understandable for stakeholders or clients."
   ]
  },
  {
   "cell_type": "markdown",
   "id": "9b686c4c-80b3-4461-9ec3-b0f687c45387",
   "metadata": {},
   "source": [
    "### Example Use Case"
   ]
  },
  {
   "cell_type": "markdown",
   "id": "3c215dc6-e110-494f-abde-487b89bc1c3a",
   "metadata": {},
   "source": [
    "- In data analysis, you might use a heatmap to check which features (columns) in a DataFrame are strongly correlated, so you can select the most relevant ones for building a machine learning model."
   ]
  },
  {
   "cell_type": "markdown",
   "id": "4db45f87-791a-4d24-8cf5-5a11110189dd",
   "metadata": {},
   "source": [
    "# 8. What does the term “vectorized operation” mean in NumPy?"
   ]
  },
  {
   "cell_type": "markdown",
   "id": "9bbda41d-66cc-4992-9e24-80023cc268ca",
   "metadata": {},
   "source": [
    "- In NumPy, a vectorized operation refers to performing operations on entire arrays (vectors, matrices, etc.) without using explicit loops in Python."
   ]
  },
  {
   "cell_type": "markdown",
   "id": "18a3c962-5b0c-4840-895d-4d57c1915828",
   "metadata": {},
   "source": [
    "### Key Points:"
   ]
  },
  {
   "cell_type": "markdown",
   "id": "0db297ad-134a-4516-9778-972cd68844b7",
   "metadata": {},
   "source": [
    "- Faster execution:\n",
    "    - Vectorized operations are executed at low-level C speed, making them significantly faster than Python loops."
   ]
  },
  {
   "cell_type": "markdown",
   "id": "29a2c8cb-f370-4d5b-9e0d-c7e2a46c4134",
   "metadata": {},
   "source": [
    "- Cleaner code:\n",
    "    - Code using vectorized operations is shorter, easier to read, and less error-prone."
   ]
  },
  {
   "cell_type": "markdown",
   "id": "6ae9ef09-506b-4f3a-afe8-0f4d7dd6cd5f",
   "metadata": {},
   "source": [
    "- Applies operations element-wise:\n",
    "    - For example, adding two arrays or multiplying each element by a scalar happens element-wise automatically."
   ]
  },
  {
   "cell_type": "markdown",
   "id": "13d2846e-3a6a-447c-93c9-4f1ed02077b5",
   "metadata": {},
   "source": [
    "### Example:"
   ]
  },
  {
   "cell_type": "code",
   "execution_count": 13,
   "id": "136dde51-2c52-4240-894b-9191ea4fed06",
   "metadata": {},
   "outputs": [
    {
     "name": "stdout",
     "output_type": "stream",
     "text": [
      "[5 7 9]\n"
     ]
    }
   ],
   "source": [
    "import numpy as np\n",
    "\n",
    "a = np.array([1, 2, 3])\n",
    "b = np.array([4, 5, 6])\n",
    "\n",
    "# Vectorized addition\n",
    "c = a + b\n",
    "print(c)  \n"
   ]
  },
  {
   "cell_type": "markdown",
   "id": "2d28a623-0e0c-4be6-83a0-a95f53852512",
   "metadata": {},
   "source": [
    "- Instead of writing a loop to add each element, NumPy handles it internally using efficient vectorized code."
   ]
  },
  {
   "cell_type": "markdown",
   "id": "63d86f43-f484-43d4-82f5-273fc1411040",
   "metadata": {},
   "source": [
    "# 9. How does Matplotlib differ from Plotly?"
   ]
  },
  {
   "cell_type": "markdown",
   "id": "1ed1bafa-268c-4d24-b1b6-654df55d9528",
   "metadata": {},
   "source": [
    "- When working with data visualizations in Python, Matplotlib and Plotly are two commonly used libraries. Both are powerful, but they serve different purposes and offer different features."
   ]
  },
  {
   "cell_type": "markdown",
   "id": "0b6f301d-00de-4012-9d95-aa6786c97b8b",
   "metadata": {},
   "source": [
    "### Key Differences Between Matplotlib and Plotly:"
   ]
  },
  {
   "cell_type": "markdown",
   "id": "d0b249da-3ee1-4454-909a-3f4a72e00cc2",
   "metadata": {},
   "source": [
    "### 1. Interactivity"
   ]
  },
  {
   "cell_type": "markdown",
   "id": "409562a4-4718-4617-b472-a9045c17d4a7",
   "metadata": {},
   "source": [
    "- Matplotlib: Creates static plots (images). Limited interactivity unless used with add-ons.\n",
    "\n",
    "- Plotly: Designed for interactive plots—users can zoom, hover, and click on elements."
   ]
  },
  {
   "cell_type": "markdown",
   "id": "efeb4001-f9ac-48a0-a3fb-5e1e623fbf6e",
   "metadata": {},
   "source": [
    "### 2. Output Format"
   ]
  },
  {
   "cell_type": "markdown",
   "id": "f3ced43f-d6fc-440a-84dd-1946fb7f3faf",
   "metadata": {},
   "source": [
    "- Matplotlib: Outputs plots as static images (PNG, PDF, etc.).\n",
    "\n",
    "- Plotly: Outputs plots as interactive HTML or JavaScript-based visualizations."
   ]
  },
  {
   "cell_type": "markdown",
   "id": "a3d865bd-7843-4f2a-8bd0-5a2f69a34095",
   "metadata": {},
   "source": [
    "### 3. Ease of Use"
   ]
  },
  {
   "cell_type": "markdown",
   "id": "645464a2-a7ca-4084-a23f-ded9fd8dd433",
   "metadata": {},
   "source": [
    "- Matplotlib: More flexible but requires more code and setup.\n",
    "\n",
    "- Plotly: Easier to create interactive plots with less code."
   ]
  },
  {
   "cell_type": "markdown",
   "id": "4382009d-fb28-4429-9386-4938a2015367",
   "metadata": {},
   "source": [
    "### 4. Customization"
   ]
  },
  {
   "cell_type": "markdown",
   "id": "33e22983-43cb-47f9-affa-c4cb80d012f9",
   "metadata": {},
   "source": [
    "- Matplotlib: Very customizable but with a steeper learning curve.\n",
    "\n",
    "- Plotly: Provides many custom options out-of-the-box with simple syntax."
   ]
  },
  {
   "cell_type": "markdown",
   "id": "1d45cd31-b293-49f0-82be-6711b123a953",
   "metadata": {},
   "source": [
    "### 5. Use Case"
   ]
  },
  {
   "cell_type": "markdown",
   "id": "f6017da0-ea75-43ed-8418-2b85592b63b8",
   "metadata": {},
   "source": [
    "- Matplotlib: Good for academic papers, static reports, or basic plotting needs.\n",
    "\n",
    "- Plotly: Best for dashboards, web-based applications, and interactive data exploration."
   ]
  },
  {
   "cell_type": "markdown",
   "id": "5c8aa6a2-50fe-40f1-b752-789218a99cf1",
   "metadata": {},
   "source": [
    "### Conclusion:"
   ]
  },
  {
   "cell_type": "markdown",
   "id": "e74d90c2-2c6d-4b54-af4e-e0fc2f7e06c9",
   "metadata": {},
   "source": [
    "- Use Matplotlib when you need static, publication-quality visuals, and use Plotly when you need interactive, web-friendly visualizations."
   ]
  },
  {
   "cell_type": "markdown",
   "id": "6683b6aa-8098-4a12-a7e6-1fd7d551f6b5",
   "metadata": {},
   "source": [
    "# 10. What is the significance of hierarchical indexing in Pandas?"
   ]
  },
  {
   "cell_type": "markdown",
   "id": "ecd65a74-85cf-4754-9cfa-b89688bb58cf",
   "metadata": {},
   "source": [
    "- Hierarchical indexing, also known as multi-level indexing, is a powerful feature in Pandas that allows you to have multiple levels of indexes (row or column labels) on a single axis of a DataFrame or Series."
   ]
  },
  {
   "cell_type": "markdown",
   "id": "150aa6f8-83ed-46d8-9616-34fc344effe5",
   "metadata": {},
   "source": [
    "###  Significance and Benefits:"
   ]
  },
  {
   "cell_type": "markdown",
   "id": "9f1ed72d-ddc0-4611-ad4f-9e763d2bfc46",
   "metadata": {},
   "source": [
    "- Organizes complex data:\n",
    "    - Enables working with higher-dimensional data in a 2-dimensional structure, making it easier to represent and analyze grouped or nested data."
   ]
  },
  {
   "cell_type": "markdown",
   "id": "63df5fe6-3fdc-4506-81d6-850cffdbba8d",
   "metadata": {},
   "source": [
    "- Efficient data selection:\n",
    "    - Allows for more precise and flexible data selection, slicing, and aggregation at multiple levels of the index."
   ]
  },
  {
   "cell_type": "markdown",
   "id": "30e3910e-4ae6-4b9b-92de-e3d804abc430",
   "metadata": {},
   "source": [
    "- Simplifies data manipulation:\n",
    "    - Facilitates operations like grouping, pivoting, and reshaping data without losing important hierarchical context."
   ]
  },
  {
   "cell_type": "markdown",
   "id": "19e7b9f8-59e6-45df-acf7-713bc48df26f",
   "metadata": {},
   "source": [
    "- Improves readability:\n",
    "    - Presents data in a clear and structured way, especially when dealing with multi-dimensional datasets such as time series or panel data."
   ]
  },
  {
   "cell_type": "markdown",
   "id": "707f515f-4521-4dd4-aaf0-bc49b299a50e",
   "metadata": {},
   "source": [
    "### Example Use Case:"
   ]
  },
  {
   "cell_type": "markdown",
   "id": "82baddfa-4ff9-4a9f-8f9a-06e82719d60c",
   "metadata": {},
   "source": [
    "- Imagine sales data organized by Year and Region. Hierarchical indexing lets you easily access sales for a specific year or region without needing separate DataFrames."
   ]
  },
  {
   "cell_type": "markdown",
   "id": "8e50ad5d-ae24-4163-9931-f6bdf135da4c",
   "metadata": {},
   "source": [
    "# 11. What is the role of Seaborn’s pairplot() function?"
   ]
  },
  {
   "cell_type": "markdown",
   "id": "59517098-ea6e-4ddb-bf45-b2d7e2bda1bf",
   "metadata": {},
   "source": [
    "- The pairplot() function in Seaborn is used to create a matrix of scatter plots (and optionally histograms) for pairwise relationships between multiple variables in a dataset."
   ]
  },
  {
   "cell_type": "markdown",
   "id": "7df4b3fb-07c4-4812-ae87-d5574092f193",
   "metadata": {},
   "source": [
    "### Key Roles of pairplot():"
   ]
  },
  {
   "cell_type": "markdown",
   "id": "e9206e54-2bc9-4759-ad8f-481d6153765c",
   "metadata": {},
   "source": [
    "- Visualize relationships between variables:\n",
    "    - Helps to quickly see how every numerical variable relates to every other variable."
   ]
  },
  {
   "cell_type": "markdown",
   "id": "482344ac-deab-421c-84cb-22415d4b7f8b",
   "metadata": {},
   "source": [
    "- Explore distributions:\n",
    "    - Displays the distribution of each variable on the diagonal (usually as histograms or KDE plots)."
   ]
  },
  {
   "cell_type": "markdown",
   "id": "d67611f4-81a6-4008-9db5-a4fa09a93480",
   "metadata": {},
   "source": [
    "- Detect correlations and patterns:\n",
    "    - Useful for spotting trends, clusters, or outliers across variable pairs."
   ]
  },
  {
   "cell_type": "markdown",
   "id": "dc6ea0ae-9139-47af-9423-5c715d583afa",
   "metadata": {},
   "source": [
    "- Great for exploratory data analysis (EDA):\n",
    "    - Provides an overview of dataset features in a compact, visual format."
   ]
  },
  {
   "cell_type": "markdown",
   "id": "56c3b845-1283-4520-843e-e1149ff7d062",
   "metadata": {},
   "source": [
    "###  Example Use:"
   ]
  },
  {
   "cell_type": "code",
   "execution_count": 14,
   "id": "c09c00da-62df-47a2-b041-8c14ba9ce3f3",
   "metadata": {},
   "outputs": [
    {
     "data": {
      "text/plain": [
       "<seaborn.axisgrid.PairGrid at 0x20f4b3ab380>"
      ]
     },
     "execution_count": 14,
     "metadata": {},
     "output_type": "execute_result"
    },
    {
     "data": {
      "image/png": "[encoded data removed]",
      "text/plain": [
       "<Figure size 1117.75x1000 with 20 Axes>"
      ]
     },
     "metadata": {},
     "output_type": "display_data"
    }
   ],
   "source": [
    "import seaborn as sns\n",
    "import pandas as pd\n",
    "\n",
    "df = sns.load_dataset('iris')\n",
    "sns.pairplot(df, hue='species')\n"
   ]
  },
  {
   "cell_type": "markdown",
   "id": "d8e2d65e-f4d9-4a56-994f-314bb5a3c75a",
   "metadata": {},
   "source": [
    "# 12. What is the purpose of the describe() function in Pandas?"
   ]
  },
  {
   "cell_type": "markdown",
   "id": "8bf9de12-5888-431b-8ec7-5935744c7a32",
   "metadata": {},
   "source": [
    "- The describe() function in Pandas is used to generate descriptive statistics of a DataFrame or Series. It provides a quick summary of the central tendency, dispersion, and shape of the dataset’s distribution."
   ]
  },
  {
   "cell_type": "markdown",
   "id": "df8e5a01-2408-4fb4-a7b8-09597a49f497",
   "metadata": {},
   "source": [
    "### Purpose and Benefits:"
   ]
  },
  {
   "cell_type": "markdown",
   "id": "17b158ed-d40d-4a27-8653-85f923ae68ce",
   "metadata": {},
   "source": [
    "- Summarizes numerical data:\n",
    "    - Shows count, mean, standard deviation, minimum, maximum, and quartiles (25%, 50%, 75%) of numerical columns."
   ]
  },
  {
   "cell_type": "markdown",
   "id": "2021ce14-81f6-4968-ae2d-d82b8b67d83e",
   "metadata": {},
   "source": [
    "- Helps in understanding data:\n",
    "    - Gives a quick insight into the spread and central values of the data, which is helpful for data exploration."
   ]
  },
  {
   "cell_type": "markdown",
   "id": "70d6463c-ad96-4348-a860-b39a9350d16d",
   "metadata": {},
   "source": [
    "- Detects anomalies:\n",
    "    - By looking at min, max, and standard deviation, it helps spot unusual values or outliers."
   ]
  },
  {
   "cell_type": "markdown",
   "id": "a05b68c5-6c72-42bd-aef2-fe5cf5292bd0",
   "metadata": {},
   "source": [
    "- Works with categorical data (when specified):\n",
    "    - Can also summarize categorical columns by showing counts, unique values, top frequent value, and frequency."
   ]
  },
  {
   "cell_type": "markdown",
   "id": "aa394383-71f9-46b5-a726-f0f2fd5d2ae1",
   "metadata": {},
   "source": [
    "###  Example:"
   ]
  },
  {
   "cell_type": "code",
   "execution_count": 15,
   "id": "6fb328a6-6a13-449d-a7cf-631e81ebfc1a",
   "metadata": {},
   "outputs": [
    {
     "name": "stdout",
     "output_type": "stream",
     "text": [
      "             Age       Salary\n",
      "count   5.000000      5.00000\n",
      "mean   31.200000  53800.00000\n",
      "std     9.444575   4919.34955\n",
      "min    22.000000  49000.00000\n",
      "25%    23.000000  50000.00000\n",
      "50%    31.000000  52000.00000\n",
      "75%    35.000000  58000.00000\n",
      "max    45.000000  60000.00000\n"
     ]
    }
   ],
   "source": [
    "import pandas as pd\n",
    "\n",
    "df = pd.DataFrame({\n",
    "    'Age': [23, 45, 31, 35, 22],\n",
    "    'Salary': [50000, 60000, 52000, 58000, 49000]\n",
    "})\n",
    "\n",
    "print(df.describe())\n"
   ]
  },
  {
   "cell_type": "markdown",
   "id": "b93aa250-7326-48fc-9506-f197f64896a3",
   "metadata": {},
   "source": [
    "- This outputs a summary with count, mean, std, min, quartiles, and max for the Age and Salary columns."
   ]
  },
  {
   "cell_type": "markdown",
   "id": "4ad289ab-4d9e-4766-958e-3c1ff2800882",
   "metadata": {},
   "source": [
    "# 13. Why is handling missing data important in Pandas?"
   ]
  },
  {
   "cell_type": "markdown",
   "id": "eb73c5f7-b534-4743-8b0b-a48abdc431be",
   "metadata": {},
   "source": [
    "- Handling missing data is crucial because missing or incomplete data can significantly affect the accuracy and quality of data analysis and modeling."
   ]
  },
  {
   "cell_type": "markdown",
   "id": "0f2b4faf-2b4b-41d6-a043-2f56b8048abb",
   "metadata": {},
   "source": [
    "### Reasons why handling missing data is important:"
   ]
  },
  {
   "cell_type": "markdown",
   "id": "54d4d0e0-3b97-4cd6-a8df-e73f290b6cb7",
   "metadata": {},
   "source": [
    "- Prevents errors in calculations:\n",
    "    - Many functions and algorithms may fail or give incorrect results if missing values are not addressed."
   ]
  },
  {
   "cell_type": "markdown",
   "id": "19aed27f-52a0-4421-80b1-d04449416c16",
   "metadata": {},
   "source": [
    "- Improves data quality:\n",
    "    - Filling or removing missing values helps maintain the integrity of the dataset."
   ]
  },
  {
   "cell_type": "markdown",
   "id": "269e1389-0a17-4b90-9ef8-ed9d21b23a13",
   "metadata": {},
   "source": [
    "- Ensures accurate insights:\n",
    "    - Proper handling of missing data prevents biased or misleading analysis outcomes."
   ]
  },
  {
   "cell_type": "markdown",
   "id": "cc04fd64-55d9-4f22-b9ee-97af42c28cc7",
   "metadata": {},
   "source": [
    "- Supports better model performance:\n",
    "    - Machine learning models often require complete datasets; missing values can reduce model accuracy."
   ]
  },
  {
   "cell_type": "markdown",
   "id": "14ac94a4-742a-4c19-a77f-d2dbdd114510",
   "metadata": {},
   "source": [
    "- Maintains consistency:\n",
    "    - Consistent data format helps in smooth processing and visualization."
   ]
  },
  {
   "cell_type": "markdown",
   "id": "1f0000ce-78af-4261-be6f-85c384ab183f",
   "metadata": {},
   "source": [
    "### In Pandas, missing data can be handled by:"
   ]
  },
  {
   "cell_type": "markdown",
   "id": "c58037ba-c84c-4459-8ba5-64dfd12cc21d",
   "metadata": {},
   "source": [
    "- Dropping missing values (dropna())\n",
    "\n",
    "- Filling missing values (fillna())\n",
    "\n",
    "- Interpolating or using advanced imputation techniques"
   ]
  },
  {
   "cell_type": "markdown",
   "id": "9741256f-7de0-4dfa-9db7-18ced070254c",
   "metadata": {},
   "source": [
    "# 14. What are the benefits of using Plotly for data visualization?"
   ]
  },
  {
   "cell_type": "markdown",
   "id": "ba7ef44b-cea7-44eb-a03a-c7d0f7c60d8b",
   "metadata": {},
   "source": [
    "- Plotly is a powerful and interactive data visualization library in Python. It offers several benefits, making it a popular choice for modern data analysts and scientists."
   ]
  },
  {
   "cell_type": "markdown",
   "id": "a3888285-7d03-4921-87ce-7fb074f74d61",
   "metadata": {},
   "source": [
    "### Benefits of Using Plotly:"
   ]
  },
  {
   "cell_type": "markdown",
   "id": "d3225426-abb9-4d58-9001-f6fe949aaa50",
   "metadata": {},
   "source": [
    "- Interactive Visualizations:\n",
    "    - Unlike static charts, Plotly creates dynamic charts where users can zoom, pan, hover, and click for more details."
   ]
  },
  {
   "cell_type": "markdown",
   "id": "5b08f353-b8bb-4c9e-b4ad-d3f571d6cc0e",
   "metadata": {},
   "source": [
    "- High-Quality Aesthetics:\n",
    "    - Plotly charts are visually appealing and look professional, ideal for reports and dashboards."
   ]
  },
  {
   "cell_type": "markdown",
   "id": "64025021-e896-42e1-b0da-c7b2d9c3ccd3",
   "metadata": {},
   "source": [
    "- Wide Range of Charts:\n",
    "    - Supports many types of charts including bar charts, scatter plots, 3D plots, maps, heatmaps, and more."
   ]
  },
  {
   "cell_type": "markdown",
   "id": "78798ccc-7d3a-4749-acbe-1cb15e884b3b",
   "metadata": {},
   "source": [
    "- Web Integration:\n",
    "    - Plotly charts can be embedded into web applications using tools like Dash, making it ideal for real-time dashboards."
   ]
  },
  {
   "cell_type": "markdown",
   "id": "f467f16d-116b-42b4-8eec-711551161c11",
   "metadata": {},
   "source": [
    "- Export Options:\n",
    "    - Visuals can be easily exported to HTML, PNG, JPEG, SVG, and PDF formats."
   ]
  },
  {
   "cell_type": "markdown",
   "id": "026b0e42-fc45-4335-a7f1-502e10317bbc",
   "metadata": {},
   "source": [
    "- No Extra Setup for Basic Use:\n",
    "    - Works seamlessly in Jupyter notebooks and supports both online and offline modes."
   ]
  },
  {
   "cell_type": "markdown",
   "id": "000dc93e-aa06-4e0a-8f41-2c1f116cf160",
   "metadata": {},
   "source": [
    "- Customizability:\n",
    "    - Highly customizable with support for themes, templates, and annotations."
   ]
  },
  {
   "cell_type": "markdown",
   "id": "d456221d-27ed-4c92-b174-c11be6345945",
   "metadata": {},
   "source": [
    "### When to Use Plotly:"
   ]
  },
  {
   "cell_type": "markdown",
   "id": "7d4b694b-97fd-4fbf-bebc-e0973e169d4e",
   "metadata": {},
   "source": [
    "- When interactive charts are needed\n",
    "\n",
    "- When presenting insights to a non-technical audience\n",
    "\n",
    "- For building dashboards and reports"
   ]
  },
  {
   "cell_type": "markdown",
   "id": "b58d9042-278f-4f91-9811-f2409834468e",
   "metadata": {},
   "source": [
    "# 15. How does NumPy handle multidimensional arrays?"
   ]
  },
  {
   "cell_type": "markdown",
   "id": "0779577d-67ef-407b-aac6-e247759d3bc8",
   "metadata": {},
   "source": [
    "- NumPy handles multidimensional arrays through its core object called the ndarray (N-dimensional array). This allows NumPy to efficiently store and manipulate large amounts of numerical data in multiple dimensions."
   ]
  },
  {
   "cell_type": "markdown",
   "id": "6bc1a4a2-4f96-4958-86b2-bb6da0f51a24",
   "metadata": {},
   "source": [
    "### Key Points on NumPy and Multidimensional Arrays:"
   ]
  },
  {
   "cell_type": "markdown",
   "id": "ad743d70-8c65-491f-a675-ec212199d773",
   "metadata": {},
   "source": [
    "- N-dimensional Support:\n",
    "    - NumPy arrays can have any number of dimensions—1D, 2D, 3D, and beyond. Each dimension is called an axis."
   ]
  },
  {
   "cell_type": "markdown",
   "id": "5c5eb78d-2e78-4763-b72e-4df90b6c971a",
   "metadata": {},
   "source": [
    "- Shape Attribute:\n",
    "    - The .shape attribute shows the size along each dimension.\n",
    "    - Example: A 2D array with 3 rows and 4 columns will have .shape = (3, 4)."
   ]
  },
  {
   "cell_type": "markdown",
   "id": "54c483ce-f14b-4534-a130-659e92413005",
   "metadata": {},
   "source": [
    "- Efficient Storage:\n",
    "    - NumPy stores all data in a contiguous block of memory, which improves access speed and reduces memory usage."
   ]
  },
  {
   "cell_type": "markdown",
   "id": "5ce1d1f4-73dd-4b25-9715-79353c2a504d",
   "metadata": {},
   "source": [
    "- Indexing and Slicing:\n",
    "    - You can easily access or slice data across any axis.\n",
    "    - Example: array[0, 1] accesses the element in the first row, second column of a 2D array."
   ]
  },
  {
   "cell_type": "markdown",
   "id": "94315bf0-bb9b-4a1c-acbb-84ee81121e97",
   "metadata": {},
   "source": [
    "- Broadcasting:\n",
    "    - Operations between arrays of different shapes are supported using broadcasting rules, which stretch the arrays to match shapes during computation."
   ]
  },
  {
   "cell_type": "markdown",
   "id": "23e420d9-c8ce-493c-9687-f628dc2a4f11",
   "metadata": {},
   "source": [
    "- Reshaping Arrays:\n",
    "    - You can change the shape of an array using .reshape() without changing its data.\n",
    "    - Example: array.reshape(2, 3) turns a 1D array of 6 elements into a 2D array."
   ]
  },
  {
   "cell_type": "markdown",
   "id": "4b7013aa-533c-449e-82d5-ea3811ba5cbc",
   "metadata": {},
   "source": [
    "### Conclusion:"
   ]
  },
  {
   "cell_type": "markdown",
   "id": "b0b3cb2b-f3ce-4af9-973a-ae93a84e8096",
   "metadata": {},
   "source": [
    "- NumPy’s ability to handle multidimensional arrays makes it extremely powerful for scientific computing, machine learning, and data analysis. It simplifies working with matrices, tensors, and high-dimensional data with speed and clarity."
   ]
  },
  {
   "cell_type": "markdown",
   "id": "f6be014e-8181-4d54-b4ad-232b6d4153bf",
   "metadata": {},
   "source": [
    "# 16. What is the role of Bokeh in data visualization?"
   ]
  },
  {
   "cell_type": "markdown",
   "id": "fb4a2d18-0b3e-4f77-a0d0-8ab210436a31",
   "metadata": {},
   "source": [
    "- Bokeh is a powerful Python library used for interactive and web-based data visualization. It allows you to create rich, interactive plots that can be easily embedded into web applications or dashboards."
   ]
  },
  {
   "cell_type": "markdown",
   "id": "dd95a474-7f87-4eba-b469-0cd26268d2bc",
   "metadata": {},
   "source": [
    "### Key Roles of Bokeh:"
   ]
  },
  {
   "cell_type": "markdown",
   "id": "c93e784f-90b8-4237-a481-5d15b76f99ba",
   "metadata": {},
   "source": [
    "- Interactive Visualizations:\n",
    "    - Bokeh supports tools like zoom, pan, hover, and click, allowing users to explore data visually in real-time."
   ]
  },
  {
   "cell_type": "markdown",
   "id": "3874533f-6e81-483b-b135-7f71a5c13129",
   "metadata": {},
   "source": [
    "- Web Integration:\n",
    "    - It generates plots as HTML and JavaScript, which can be directly embedded in websites without needing extra tools."
   ]
  },
  {
   "cell_type": "markdown",
   "id": "6d6b4d3a-5ff9-4acd-a6bc-8fa292e05998",
   "metadata": {},
   "source": [
    "- Large Dataset Handling:\n",
    "    - Bokeh can handle streaming and large datasets efficiently, making it useful for real-time dashboards and monitoring."
   ]
  },
  {
   "cell_type": "markdown",
   "id": "5304d57f-af1b-46b8-be54-a7bde8497546",
   "metadata": {},
   "source": [
    "- Customizable Plots:\n",
    "    - You can create complex, layered plots such as bar charts, scatter plots, line graphs, heatmaps, and more, with high customization."
   ]
  },
  {
   "cell_type": "markdown",
   "id": "246d5308-99ea-4927-a2ca-09143b642b2d",
   "metadata": {},
   "source": [
    "- Server Capabilities:\n",
    "    - With Bokeh Server, you can build interactive web applications with Python callbacks that update plots dynamically."
   ]
  },
  {
   "cell_type": "markdown",
   "id": "2d972be9-d0c4-4b1e-8771-c1ba579a8a4e",
   "metadata": {},
   "source": [
    "### Conclusion:"
   ]
  },
  {
   "cell_type": "markdown",
   "id": "74521d93-31a7-43a9-8cfd-217397fffbbf",
   "metadata": {},
   "source": [
    "- Bokeh is ideal when your goal is to build interactive, visually appealing, and browser-friendly plots or dashboards using Python. It bridges the gap between the power of Python and modern web-based visualizations."
   ]
  },
  {
   "cell_type": "markdown",
   "id": "09e2b1f3-1d01-495c-9674-a671d72184eb",
   "metadata": {},
   "source": [
    "# 17. Explain the difference between apply() and map() in Pandas."
   ]
  },
  {
   "cell_type": "markdown",
   "id": "ecc1ee09-1dc7-405e-8b47-f83e1d4ad02f",
   "metadata": {},
   "source": [
    "- In Pandas, both apply() and map() are used to apply functions to data, but they are used in different contexts and have different capabilities."
   ]
  },
  {
   "cell_type": "markdown",
   "id": "186cec15-dd2a-4d5f-860d-00d60fd91003",
   "metadata": {},
   "source": [
    "###  map()"
   ]
  },
  {
   "cell_type": "markdown",
   "id": "eaba3ee5-ef6e-435f-aff6-9953a6bc7558",
   "metadata": {},
   "source": [
    "- Used With:\n",
    "    - Series (1D only)"
   ]
  },
  {
   "cell_type": "markdown",
   "id": "92959968-0a3e-40bb-93c0-3a4a8254c0bf",
   "metadata": {},
   "source": [
    "- Purpose:\n",
    "    - Used to transform or map values in a Series by applying a function or a mapping dictionary."
   ]
  },
  {
   "cell_type": "markdown",
   "id": "16fde782-49dc-44a8-94b1-59f9ad9f6822",
   "metadata": {},
   "source": [
    "### Example:"
   ]
  },
  {
   "cell_type": "code",
   "execution_count": 16,
   "id": "84c63ccb-c166-46b8-ad23-21e486d88b2a",
   "metadata": {},
   "outputs": [
    {
     "data": {
      "text/plain": [
       "0    2\n",
       "1    4\n",
       "2    6\n",
       "dtype: int64"
      ]
     },
     "execution_count": 16,
     "metadata": {},
     "output_type": "execute_result"
    }
   ],
   "source": [
    "import pandas as pd\n",
    "s = pd.Series([1, 2, 3])\n",
    "s.map(lambda x: x * 2)\n",
    "\n"
   ]
  },
  {
   "cell_type": "markdown",
   "id": "27d4954a-0c37-4555-b60e-318c7a2355d1",
   "metadata": {},
   "source": [
    "- Use Case:\n",
    "    - Simple operations on a single Series (like transforming values)."
   ]
  },
  {
   "cell_type": "markdown",
   "id": "55f17c26-2d85-479b-b303-76aab69d3a6c",
   "metadata": {},
   "source": [
    "### apply()"
   ]
  },
  {
   "cell_type": "markdown",
   "id": "b92d15c7-e5aa-4386-b96e-09815fa4df0d",
   "metadata": {},
   "source": [
    "- Used With:\n",
    "    - Both Series and DataFrame"
   ]
  },
  {
   "cell_type": "markdown",
   "id": "e6388c33-c06f-4c81-9b29-7c16b952e012",
   "metadata": {},
   "source": [
    "- Purpose:\n",
    "    - Applies a function along an axis of a DataFrame (rows or columns), or to each element of a Series."
   ]
  },
  {
   "cell_type": "markdown",
   "id": "0bb24201-6c2d-4d57-b833-506cc2940dc6",
   "metadata": {},
   "source": [
    "### Example with Series:"
   ]
  },
  {
   "cell_type": "code",
   "execution_count": 17,
   "id": "edee3e22-84a1-4c64-b319-93c8f72fa09b",
   "metadata": {},
   "outputs": [
    {
     "data": {
      "text/plain": [
       "0    2\n",
       "1    3\n",
       "2    4\n",
       "dtype: int64"
      ]
     },
     "execution_count": 17,
     "metadata": {},
     "output_type": "execute_result"
    }
   ],
   "source": [
    "s.apply(lambda x: x + 1)"
   ]
  },
  {
   "cell_type": "markdown",
   "id": "fdef4ba4-f3d0-425c-9b41-32ed10a61e14",
   "metadata": {},
   "source": [
    "### Example with DataFrame:"
   ]
  },
  {
   "cell_type": "code",
   "execution_count": 18,
   "id": "69167a28-48ff-4d93-825a-002b0c2a50ec",
   "metadata": {},
   "outputs": [
    {
     "data": {
      "text/plain": [
       "0    50023\n",
       "1    60045\n",
       "2    52031\n",
       "3    58035\n",
       "4    49022\n",
       "dtype: int64"
      ]
     },
     "execution_count": 18,
     "metadata": {},
     "output_type": "execute_result"
    }
   ],
   "source": [
    "df.apply(sum, axis=0)  \n",
    "df.apply(sum, axis=1)  "
   ]
  },
  {
   "cell_type": "markdown",
   "id": "95525dc3-2ca7-46b4-af57-11064a81d3e9",
   "metadata": {},
   "source": [
    "- Use Case:\n",
    "    - More powerful and flexible. Use when working with DataFrames or when more complex logic is needed."
   ]
  },
  {
   "cell_type": "markdown",
   "id": "f1ebc245-3020-4982-807f-4334864e8caf",
   "metadata": {},
   "source": [
    "### Summary:"
   ]
  },
  {
   "cell_type": "markdown",
   "id": "91705b81-7311-40b0-bf17-785c4e3f02c7",
   "metadata": {},
   "source": [
    "- Use map() when working with a single Series and doing simple transformations.\n",
    "\n",
    "- Use apply() when working with DataFrames or when you need to apply a function across rows or columns."
   ]
  },
  {
   "cell_type": "markdown",
   "id": "2d55270f-fa48-4a6a-ab7e-dee338b6dadd",
   "metadata": {},
   "source": [
    "# 18. What are some advanced features of NumPy?"
   ]
  },
  {
   "cell_type": "markdown",
   "id": "b705f2c6-6274-45f7-95ea-1a7886c392db",
   "metadata": {},
   "source": [
    "- NumPy, beyond basic array operations, offers many advanced features that make it powerful for scientific and analytical computing. Here are some of the key advanced features:"
   ]
  },
  {
   "cell_type": "markdown",
   "id": "cf25ac22-bbbe-4415-9127-f9c13655bc3d",
   "metadata": {},
   "source": [
    "1. Broadcasting\n",
    "\n",
    "    - Allows operations on arrays of different shapes.\n",
    "\n",
    "    - NumPy automatically stretches the smaller array to match the shape of the larger one."
   ]
  },
  {
   "cell_type": "markdown",
   "id": "be715d0c-3ac7-4a99-bda6-377c983ff38b",
   "metadata": {},
   "source": [
    "2. Vectorized Operations\n",
    "\n",
    "    - Perform operations on entire arrays without explicit loops.\n",
    "\n",
    "    - Much faster than standard Python loops."
   ]
  },
  {
   "cell_type": "markdown",
   "id": "7b2a80ed-50c6-41c8-804d-20f5598fa2f5",
   "metadata": {},
   "source": [
    "3. Masking and Boolean Indexing\n",
    "\n",
    "    - Enables selecting or modifying elements using conditions.\n",
    "\n",
    "    - Example: arr[arr > 5] selects all elements greater than 5."
   ]
  },
  {
   "cell_type": "markdown",
   "id": "f4f58b4f-a7e9-4670-b51f-55e0d053adc3",
   "metadata": {},
   "source": [
    "4. Advanced Slicing\n",
    "\n",
    "    - Allows multidimensional slicing using ranges, steps, or conditions."
   ]
  },
  {
   "cell_type": "markdown",
   "id": "f6502865-24b8-458d-9e54-8efd28d2b593",
   "metadata": {},
   "source": [
    "5. Memory Mapping\n",
    "\n",
    "    - Used for reading large binary files efficiently.\n",
    "\n",
    "    - Enables handling datasets larger than RAM."
   ]
  },
  {
   "cell_type": "markdown",
   "id": "997adf8b-4b0d-44ee-b414-cc8e9e7f3b24",
   "metadata": {},
   "source": [
    "6. Broadcasting with np.newaxis\n",
    "\n",
    "    - Reshapes arrays for broadcasting compatibility.\n",
    "\n",
    "    - Useful in reshaping 1D to 2D or higher dimensions."
   ]
  },
  {
   "cell_type": "markdown",
   "id": "bcb86595-251d-4df4-952e-de5499a7ce9d",
   "metadata": {},
   "source": [
    "7. Universal Functions (ufuncs)\n",
    "\n",
    "    - Optimized functions like np.add, np.sin, np.exp that work element-wise on arrays.\n",
    "\n",
    "    - Support broadcasting, type casting, and more."
   ]
  },
  {
   "cell_type": "markdown",
   "id": "1c64dc5e-8e87-4cce-93a8-8d3a1f16dfd6",
   "metadata": {},
   "source": [
    "8. Structured Arrays\n",
    "\n",
    "    - Arrays with compound data types (like records or structs).\n",
    "\n",
    "    - Useful for datasets with mixed data types."
   ]
  },
  {
   "cell_type": "markdown",
   "id": "0aca42d0-3e34-476f-ba22-e103224facb9",
   "metadata": {},
   "source": [
    "9. Linear Algebra Support\n",
    "\n",
    "    - Functions like dot(), inv(), eig(), svd(), etc., for advanced matrix operations.\n",
    "\n",
    "    - Found in numpy.linalg."
   ]
  },
  {
   "cell_type": "markdown",
   "id": "5ceb9d63-a2a2-4753-8d7c-0318ad6ba5eb",
   "metadata": {},
   "source": [
    "10. Random Module\n",
    "\n",
    "    - Powerful tools for generating random numbers, distributions, and simulations (numpy.random)."
   ]
  },
  {
   "cell_type": "markdown",
   "id": "cfd0d2f8-4bc0-44b5-9ae8-aa82367d82eb",
   "metadata": {},
   "source": [
    "- These advanced features make NumPy highly efficient and essential for large-scale data manipulation, numerical computing, and scientific analysis in Python."
   ]
  },
  {
   "cell_type": "markdown",
   "id": "fe088645-e967-440c-a939-e3c359ded836",
   "metadata": {},
   "source": [
    "# 19. How does Pandas simplify time series analysis?"
   ]
  },
  {
   "cell_type": "markdown",
   "id": "1d77b596-91e8-43bc-817b-464fd7b752aa",
   "metadata": {},
   "source": [
    "- Pandas provides powerful, flexible, and easy-to-use tools that make time series analysis straightforward and efficient. Here's how it simplifies the process:"
   ]
  },
  {
   "cell_type": "markdown",
   "id": "f7e01aca-2d84-40b6-9b71-39dda0240677",
   "metadata": {},
   "source": [
    "1. Date Parsing and Indexing\n",
    "\n",
    "    - Pandas can automatically recognize and parse dates when reading data (e.g., parse_dates=True in read_csv()).\n",
    "\n",
    "    - The DatetimeIndex allows easy indexing and slicing based on date/time."
   ]
  },
  {
   "cell_type": "markdown",
   "id": "50f054ab-3424-4726-8681-f49a055ff1f8",
   "metadata": {},
   "source": [
    " 2. Resampling\n",
    "\n",
    "    - With methods like .resample(), you can change the frequency of time series data (e.g., daily to monthly).\n",
    "\n",
    "    - Useful for aggregating or downsampling data using mean, sum, etc."
   ]
  },
  {
   "cell_type": "markdown",
   "id": "0222d2eb-7800-4074-a0af-2fe0d6c2a959",
   "metadata": {},
   "source": [
    "3. Frequency Conversion\n",
    "\n",
    "    - Convert between different time frequencies using simple syntax (e.g., 'M' for month, 'D' for day).\n",
    "\n",
    "    - Helps align data based on specific time intervals."
   ]
  },
  {
   "cell_type": "markdown",
   "id": "2a174148-10bc-4b60-9204-87cf649dd69d",
   "metadata": {},
   "source": [
    "4. Rolling and Expanding Windows\n",
    "\n",
    "    - Methods like .rolling() and .expanding() support moving average calculations and cumulative statistics.\n",
    "\n",
    "    - Ideal for smoothing time series and identifying trends."
   ]
  },
  {
   "cell_type": "markdown",
   "id": "fb9756f4-2f48-40f6-9016-6f1ff5a58b6b",
   "metadata": {},
   "source": [
    "5. Shifting and Lagging\n",
    "\n",
    "    - .shift() allows you to create lagged versions of a time series for trend analysis or prediction.\n",
    "\n",
    "    - Useful for calculating change over time."
   ]
  },
  {
   "cell_type": "markdown",
   "id": "c7ba43fe-eda8-44ca-92ee-33b31e252cca",
   "metadata": {},
   "source": [
    "6. Time Zone Handling\n",
    "\n",
    "    - Pandas supports conversion between time zones with .tz_convert() and localization with .tz_localize()."
   ]
  },
  {
   "cell_type": "markdown",
   "id": "60bb037b-0eb9-4792-9599-6ee1b55f1859",
   "metadata": {},
   "source": [
    "7. Date Range Generation\n",
    "\n",
    "    - Create custom time-based sequences using pd.date_range()."
   ]
  },
  {
   "cell_type": "markdown",
   "id": "48a4cac5-d721-4ce3-bffd-c11311349b5c",
   "metadata": {},
   "source": [
    " 8. Built-in Plotting\n",
    "\n",
    "    - Easily visualize trends with .plot() on time series data, with automatic date formatting on axes."
   ]
  },
  {
   "cell_type": "markdown",
   "id": "008c6e5f-4a14-42b4-a955-d45ea325c8d5",
   "metadata": {},
   "source": [
    "# 20. What is the role of a pivot table in Pandas?"
   ]
  },
  {
   "cell_type": "markdown",
   "id": "6be4ebca-75df-4874-898e-e50c4f4bac4b",
   "metadata": {},
   "source": [
    "- A pivot table in Pandas is a powerful tool that allows you to summarize, analyze, and reorganize data in a DataFrame. It is especially useful when working with large datasets that need to be grouped and aggregated meaningfully."
   ]
  },
  {
   "cell_type": "markdown",
   "id": "37c99674-35d6-42c6-9cdd-26106288facc",
   "metadata": {},
   "source": [
    "### Key Roles and Benefits:"
   ]
  },
  {
   "cell_type": "markdown",
   "id": "72ea1f61-7c71-4ced-853c-0ddd8c28f8a9",
   "metadata": {},
   "source": [
    "- Data Summarization:\n",
    "    - It helps in summarizing data by grouping rows and calculating aggregate values like sum, mean, count, etc."
   ]
  },
  {
   "cell_type": "markdown",
   "id": "278b42eb-b799-4c32-8fba-d7c6f9ee914d",
   "metadata": {},
   "source": [
    "- Reorganizing Data:\n",
    "    - It reshapes the data by turning unique values from one column into multiple columns (like in Excel)."
   ]
  },
  {
   "cell_type": "markdown",
   "id": "10c7a38a-cf29-40a4-a5fd-40ccd93e4528",
   "metadata": {},
   "source": [
    "- Improved Readability:\n",
    "    - By creating a compact table of grouped data, it becomes easier to analyze trends or patterns."
   ]
  },
  {
   "cell_type": "markdown",
   "id": "c1b046c3-f8e9-4334-895a-4775655e3678",
   "metadata": {},
   "source": [
    "- Custom Aggregation:\n",
    "    - You can apply different aggregation functions like sum, mean, count, min, max, etc., for different views of your data."
   ]
  },
  {
   "cell_type": "markdown",
   "id": "235cdde6-114a-4863-a4b2-c49b2d9403a8",
   "metadata": {},
   "source": [
    "- Filtering and Sorting:\n",
    "    - Pivot tables can be customized to include specific subsets of data or to sort rows/columns for better insights."
   ]
  },
  {
   "cell_type": "markdown",
   "id": "a4b375b1-8535-49d5-b8d1-48002bbb7322",
   "metadata": {},
   "source": [
    "### Example Usage:"
   ]
  },
  {
   "cell_type": "code",
   "execution_count": 19,
   "id": "008e7e58-cc69-4937-a058-e0436888fc7b",
   "metadata": {},
   "outputs": [
    {
     "name": "stdout",
     "output_type": "stream",
     "text": [
      "Month       Feb  Jan\n",
      "Department          \n",
      "HR          160  150\n",
      "IT          310  300\n",
      "Sales       220  200\n"
     ]
    }
   ],
   "source": [
    "import pandas as pd\n",
    "\n",
    "data = {\n",
    "    'Department': ['Sales', 'Sales', 'HR', 'HR', 'IT', 'IT'],\n",
    "    'Month': ['Jan', 'Feb', 'Jan', 'Feb', 'Jan', 'Feb'],\n",
    "    'Revenue': [200, 220, 150, 160, 300, 310]\n",
    "}\n",
    "\n",
    "df = pd.DataFrame(data)\n",
    "\n",
    "pivot = df.pivot_table(values='Revenue', index='Department', columns='Month', aggfunc='sum')\n",
    "print(pivot)\n"
   ]
  },
  {
   "cell_type": "markdown",
   "id": "7cf6a124-c067-44a6-82b6-630e2d1aa3e9",
   "metadata": {},
   "source": [
    "### In Summary:"
   ]
  },
  {
   "cell_type": "markdown",
   "id": "3e246fc9-86ce-4f52-9e73-c94bec642f04",
   "metadata": {},
   "source": [
    "- Pandas pivot tables are essential for data summarization and transformation, offering a concise and flexible way to analyze datasets — similar to Excel pivot tables but more powerful in code."
   ]
  },
  {
   "cell_type": "markdown",
   "id": "a9cef59c-6e2f-4a7b-ae3f-cf0122fefd76",
   "metadata": {},
   "source": [
    "# 21. Why is NumPy’s array slicing faster than Python’s list slicing?"
   ]
  },
  {
   "cell_type": "markdown",
   "id": "2ee55b82-cfb5-4d2b-b7a0-3ea301b7f651",
   "metadata": {},
   "source": [
    "- NumPy's array slicing is significantly faster than slicing standard Python lists due to several key reasons:"
   ]
  },
  {
   "cell_type": "markdown",
   "id": "9602e89a-65b9-437d-bd1e-1e8e7f5fae6a",
   "metadata": {},
   "source": [
    " 1. Fixed Data Types (Homogeneity)\n",
    "    - NumPy arrays store elements of the same data type in a contiguous block of memory. This uniformity allows for efficient memory management and faster data access."
   ]
  },
  {
   "cell_type": "markdown",
   "id": "3e9651f2-42fb-4f5b-9c5c-bdec6704c58c",
   "metadata": {},
   "source": [
    " 2. Contiguous Memory Allocation\n",
    "Unlike Python lists, which are pointers to objects scattered in memory, NumPy arrays store data in a single, continuous memory block. This improves CPU cache performance and speeds up data operations like slicing."
   ]
  },
  {
   "cell_type": "markdown",
   "id": "227349e1-2b9f-4743-8c4e-d53f7bab6e31",
   "metadata": {},
   "source": [
    " 3. Vectorized Operations\n",
    "NumPy uses vectorized operations (implemented in C), which operate at a lower level and avoid the overhead of Python loops. Slicing in NumPy doesn't copy data; it just creates a view on the original array, saving both time and memory."
   ]
  },
  {
   "cell_type": "markdown",
   "id": "8c740d38-c062-4448-aefc-5cc9430482f4",
   "metadata": {},
   "source": [
    "4. Optimized Internal Code (C/Fortran)\n",
    "NumPy is written in C and Fortran, which are much faster than Python’s interpreted nature. The slicing operations are performed using these low-level languages, making them far more efficient."
   ]
  },
  {
   "cell_type": "markdown",
   "id": "473b1627-6902-4646-822e-fcbcbc7df4b5",
   "metadata": {},
   "source": [
    "### Summary:"
   ]
  },
  {
   "cell_type": "markdown",
   "id": "1e6ed10d-32fa-49c1-b793-14d813bdd0c9",
   "metadata": {},
   "source": [
    "- NumPy’s array slicing is faster than Python list slicing because it uses contiguous memory blocks, fixed data types, and optimized C-based operations. This makes NumPy ideal for high-performance numerical computations."
   ]
  },
  {
   "cell_type": "markdown",
   "id": "9c608cbc-04d2-44f3-8843-0be3c855a02f",
   "metadata": {},
   "source": [
    "# 22. What are some common use cases for Seaborn?"
   ]
  },
  {
   "cell_type": "markdown",
   "id": "5e19bfb7-f421-4a0d-8ebd-393036ae60bf",
   "metadata": {},
   "source": [
    "- Seaborn is a powerful Python data visualization library built on top of Matplotlib. It is widely used in data science and analytics due to its ability to create informative and attractive statistical graphics with minimal code."
   ]
  },
  {
   "cell_type": "markdown",
   "id": "4590985f-afc2-4571-bedc-6393a8bf62cc",
   "metadata": {},
   "source": [
    "- Here are some common use cases:"
   ]
  },
  {
   "cell_type": "markdown",
   "id": "6da662c2-79d4-4434-81c3-b70d628a027a",
   "metadata": {},
   "source": [
    " 1. Exploratory Data Analysis (EDA)\n",
    "    - Seaborn is ideal for exploring datasets by visualizing distributions, relationships, and trends. It provides high-level interfaces for drawing attractive and informative charts."
   ]
  },
  {
   "cell_type": "markdown",
   "id": "df786e52-cd7f-4757-a30e-3fc13eba67b5",
   "metadata": {},
   "source": [
    " 2. Statistical Visualizations\n",
    "    - It comes with built-in functions to show distributions, regression lines, categorical comparisons, and confidence intervals, which are helpful in analyzing patterns."
   ]
  },
  {
   "cell_type": "markdown",
   "id": "6c2736f0-e52f-49ad-943e-364404f8a05f",
   "metadata": {},
   "source": [
    " 3. Heatmaps for Correlation Matrices\n",
    "    - A popular use of Seaborn is creating heatmaps to visualize correlation between features in a dataset, making it easy to spot strong or weak relationships."
   ]
  },
  {
   "cell_type": "markdown",
   "id": "16f0bf34-d1cc-4e12-b69a-b08d04bb1c57",
   "metadata": {},
   "source": [
    "4. Visualizing Grouped Data\n",
    "    - Using functions like boxplot(), violinplot(), and barplot(), Seaborn allows easy comparison between groups or categories."
   ]
  },
  {
   "cell_type": "markdown",
   "id": "7d2919c5-ed1f-4856-ad5a-dc4987bf917f",
   "metadata": {},
   "source": [
    "5. Pairwise Relationship Plots\n",
    "    - The pairplot() function creates a grid of scatter plots for each pair of numerical features, helping to understand relationships and distributions across multiple variables."
   ]
  },
  {
   "cell_type": "markdown",
   "id": "2f49f003-1443-4c35-8f8e-d04173a60596",
   "metadata": {},
   "source": [
    "6. Time Series Data Visualization\n",
    "    - With lineplot(), Seaborn can be used to show trends over time, which is useful for time series analysis."
   ]
  },
  {
   "cell_type": "markdown",
   "id": "174cc0e9-77c6-4d69-8cf4-bbe5bae3901f",
   "metadata": {},
   "source": [
    "### Summary:"
   ]
  },
  {
   "cell_type": "markdown",
   "id": "11a34b0c-c353-4d98-b71a-2109ad93aeda",
   "metadata": {},
   "source": [
    "- Seaborn is commonly used for EDA, statistical analysis, correlation heatmaps, group comparisons, and relationship visualizations. Its simplicity and beauty make it a go-to library for data scientists and analysts."
   ]
  },
  {
   "cell_type": "markdown",
   "id": "f3b61365-9183-4b2d-a3e3-9918286f075a",
   "metadata": {},
   "source": [
    "# Practical"
   ]
  },
  {
   "cell_type": "markdown",
   "id": "4584e16c-a08b-4a6b-afb1-8d4c95914e2a",
   "metadata": {},
   "source": [
    "# 1. How do you create a 2D NumPy array and calculate the sum of each row?"
   ]
  },
  {
   "cell_type": "code",
   "execution_count": 20,
   "id": "9bbdeb5a-7448-4ff7-82d4-fd97749ae694",
   "metadata": {},
   "outputs": [
    {
     "name": "stdout",
     "output_type": "stream",
     "text": [
      "Numpy array 2\n",
      "sum [ 6 15]\n"
     ]
    }
   ],
   "source": [
    "import numpy as np\n",
    "\n",
    "a = np.array([[1,2,3],[4,5,6]])\n",
    "\n",
    "print('Numpy array',a.ndim)\n",
    "\n",
    "print('sum',np.sum(a,axis=1))"
   ]
  },
  {
   "cell_type": "markdown",
   "id": "0ef81106-af56-49db-b5dc-1e13253b9c85",
   "metadata": {},
   "source": [
    "# 2. Write a Pandas script to find the mean of a specific column in a DataFrame."
   ]
  },
  {
   "cell_type": "code",
   "execution_count": 21,
   "id": "752bd592-efaf-4205-ab1c-ea6044d3c846",
   "metadata": {},
   "outputs": [
    {
     "name": "stdout",
     "output_type": "stream",
     "text": [
      "The mean of Score column 87.5\n"
     ]
    }
   ],
   "source": [
    "import pandas as pd\n",
    "\n",
    "data = {\n",
    "    'Name' : ['Vishal','Pratik','Jaysukh','Ravi'],\n",
    "    'Score' : [95,90,85,80]\n",
    "}\n",
    "\n",
    "df1 = pd.DataFrame(data)\n",
    "\n",
    "mean_score = df1['Score'].mean()\n",
    "\n",
    "print('The mean of Score column', mean_score)"
   ]
  },
  {
   "cell_type": "markdown",
   "id": "29fcfbb5-cc2c-47a3-b35d-d94ba9a5fc96",
   "metadata": {},
   "source": [
    "# 3. Create a scatter plot using Matplotlib"
   ]
  },
  {
   "cell_type": "code",
   "execution_count": 22,
   "id": "29b33802-cc46-4d61-8ed6-d5f231c02cf6",
   "metadata": {},
   "outputs": [
    {
     "data": {
      "image/png": "[encoded data removed]",
      "text/plain": [
       "<Figure size 640x480 with 1 Axes>"
      ]
     },
     "metadata": {},
     "output_type": "display_data"
    }
   ],
   "source": [
    "import matplotlib.pyplot as plt\n",
    "\n",
    "\n",
    "x = [1, 2, 3, 4, 5]\n",
    "y = [10, 8, 6, 4, 2]\n",
    "\n",
    "\n",
    "plt.scatter(x, y)\n",
    "\n",
    "\n",
    "plt.title(\"Simple Scatter Plot\")\n",
    "plt.xlabel(\"X Axis\")\n",
    "plt.ylabel(\"Y Axis\")\n",
    "\n",
    "\n",
    "plt.show()\n"
   ]
  },
  {
   "cell_type": "markdown",
   "id": "1b3fe444-fb95-487f-9c46-8f024fcd5495",
   "metadata": {},
   "source": [
    "# 4. How do you calculate the correlation matrix using Seaborn and visualize it with a heatmap?"
   ]
  },
  {
   "cell_type": "code",
   "execution_count": 23,
   "id": "c9459a15-918d-4ef5-9289-db679f8fd335",
   "metadata": {},
   "outputs": [
    {
     "data": {
      "image/png": "[encoded data removed]",
      "text/plain": [
       "<Figure size 640x480 with 2 Axes>"
      ]
     },
     "metadata": {},
     "output_type": "display_data"
    }
   ],
   "source": [
    "import pandas as pd\n",
    "import seaborn as sns\n",
    "import matplotlib.pyplot as plt\n",
    "\n",
    "\n",
    "data = {\n",
    "    'Math': [85, 90, 78, 92, 88],\n",
    "    'Science': [80, 85, 75, 95, 90],\n",
    "    'English': [78, 83, 85, 80, 82]\n",
    "}\n",
    "\n",
    "df = pd.DataFrame(data)\n",
    "\n",
    "\n",
    "correlation_matrix = df.corr()\n",
    "\n",
    "\n",
    "sns.heatmap(correlation_matrix, annot=True, cmap='coolwarm')\n",
    "\n",
    "\n",
    "plt.title(\"Correlation Matrix Heatmap\")\n",
    "plt.show()\n"
   ]
  },
  {
   "cell_type": "markdown",
   "id": "76983b17-7335-4334-bbb7-acb866bb8636",
   "metadata": {},
   "source": [
    "# 5. Generate a bar plot using Plotly"
   ]
  },
  {
   "cell_type": "code",
   "execution_count": 26,
   "id": "9e25182a-3b36-44d2-9fee-9e827b494e03",
   "metadata": {},
   "outputs": [
    {
     "data": {
      "application/vnd.plotly.v1+json": {
       "config": {
        "plotlyServerURL": "https://plot.ly"
       },
       "data": [
        {
         "alignmentgroup": "True",
         "hovertemplate": "Name=%{x}<br>Score=%{y}<extra></extra>",
         "legendgroup": "",
         "marker": {
          "color": "#636efa",
          "pattern": {
           "shape": ""
          }
         },
         "name": "",
         "offsetgroup": "",
         "orientation": "v",
         "showlegend": false,
         "textposition": "auto",
         "type": "bar",
         "x": [
          "Vishal",
          "Pratik",
          "Jaysukh",
          "Ravi"
         ],
         "xaxis": "x",
         "y": [
          95,
          90,
          85,
          80
         ],
         "yaxis": "y"
        }
       ],
       "layout": {
        "barmode": "relative",
        "legend": {
         "tracegroupgap": 0
        },
        "template": {
         "data": {
          "bar": [
           {
            "error_x": {
             "color": "#2a3f5f"
            },
            "error_y": {
             "color": "#2a3f5f"
            },
            "marker": {
             "line": {
              "color": "#E5ECF6",
              "width": 0.5
             },
             "pattern": {
              "fillmode": "overlay",
              "size": 10,
              "solidity": 0.2
             }
            },
            "type": "bar"
           }
          ],
          "barpolar": [
           {
            "marker": {
             "line": {
              "color": "#E5ECF6",
              "width": 0.5
             },
             "pattern": {
              "fillmode": "overlay",
              "size": 10,
              "solidity": 0.2
             }
            },
            "type": "barpolar"
           }
          ],
          "carpet": [
           {
            "aaxis": {
             "endlinecolor": "#2a3f5f",
             "gridcolor": "white",
             "linecolor": "white",
             "minorgridcolor": "white",
             "startlinecolor": "#2a3f5f"
            },
            "baxis": {
             "endlinecolor": "#2a3f5f",
             "gridcolor": "white",
             "linecolor": "white",
             "minorgridcolor": "white",
             "startlinecolor": "#2a3f5f"
            },
            "type": "carpet"
           }
          ],
          "choropleth": [
           {
            "colorbar": {
             "outlinewidth": 0,
             "ticks": ""
            },
            "type": "choropleth"
           }
          ],
          "contour": [
           {
            "colorbar": {
             "outlinewidth": 0,
             "ticks": ""
            },
            "colorscale": [
             [
              0,
              "#0d0887"
             ],
             [
              0.1111111111111111,
              "#46039f"
             ],
             [
              0.2222222222222222,
              "#7201a8"
             ],
             [
              0.3333333333333333,
              "#9c179e"
             ],
             [
              0.4444444444444444,
              "#bd3786"
             ],
             [
              0.5555555555555556,
              "#d8576b"
             ],
             [
              0.6666666666666666,
              "#ed7953"
             ],
             [
              0.7777777777777778,
              "#fb9f3a"
             ],
             [
              0.8888888888888888,
              "#fdca26"
             ],
             [
              1,
              "#f0f921"
             ]
            ],
            "type": "contour"
           }
          ],
          "contourcarpet": [
           {
            "colorbar": {
             "outlinewidth": 0,
             "ticks": ""
            },
            "type": "contourcarpet"
           }
          ],
          "heatmap": [
           {
            "colorbar": {
             "outlinewidth": 0,
             "ticks": ""
            },
            "colorscale": [
             [
              0,
              "#0d0887"
             ],
             [
              0.1111111111111111,
              "#46039f"
             ],
             [
              0.2222222222222222,
              "#7201a8"
             ],
             [
              0.3333333333333333,
              "#9c179e"
             ],
             [
              0.4444444444444444,
              "#bd3786"
             ],
             [
              0.5555555555555556,
              "#d8576b"
             ],
             [
              0.6666666666666666,
              "#ed7953"
             ],
             [
              0.7777777777777778,
              "#fb9f3a"
             ],
             [
              0.8888888888888888,
              "#fdca26"
             ],
             [
              1,
              "#f0f921"
             ]
            ],
            "type": "heatmap"
           }
          ],
          "heatmapgl": [
           {
            "colorbar": {
             "outlinewidth": 0,
             "ticks": ""
            },
            "colorscale": [
             [
              0,
              "#0d0887"
             ],
             [
              0.1111111111111111,
              "#46039f"
             ],
             [
              0.2222222222222222,
              "#7201a8"
             ],
             [
              0.3333333333333333,
              "#9c179e"
             ],
             [
              0.4444444444444444,
              "#bd3786"
             ],
             [
              0.5555555555555556,
              "#d8576b"
             ],
             [
              0.6666666666666666,
              "#ed7953"
             ],
             [
              0.7777777777777778,
              "#fb9f3a"
             ],
             [
              0.8888888888888888,
              "#fdca26"
             ],
             [
              1,
              "#f0f921"
             ]
            ],
            "type": "heatmapgl"
           }
          ],
          "histogram": [
           {
            "marker": {
             "pattern": {
              "fillmode": "overlay",
              "size": 10,
              "solidity": 0.2
             }
            },
            "type": "histogram"
           }
          ],
          "histogram2d": [
           {
            "colorbar": {
             "outlinewidth": 0,
             "ticks": ""
            },
            "colorscale": [
             [
              0,
              "#0d0887"
             ],
             [
              0.1111111111111111,
              "#46039f"
             ],
             [
              0.2222222222222222,
              "#7201a8"
             ],
             [
              0.3333333333333333,
              "#9c179e"
             ],
             [
              0.4444444444444444,
              "#bd3786"
             ],
             [
              0.5555555555555556,
              "#d8576b"
             ],
             [
              0.6666666666666666,
              "#ed7953"
             ],
             [
              0.7777777777777778,
              "#fb9f3a"
             ],
             [
              0.8888888888888888,
              "#fdca26"
             ],
             [
              1,
              "#f0f921"
             ]
            ],
            "type": "histogram2d"
           }
          ],
          "histogram2dcontour": [
           {
            "colorbar": {
             "outlinewidth": 0,
             "ticks": ""
            },
            "colorscale": [
             [
              0,
              "#0d0887"
             ],
             [
              0.1111111111111111,
              "#46039f"
             ],
             [
              0.2222222222222222,
              "#7201a8"
             ],
             [
              0.3333333333333333,
              "#9c179e"
             ],
             [
              0.4444444444444444,
              "#bd3786"
             ],
             [
              0.5555555555555556,
              "#d8576b"
             ],
             [
              0.6666666666666666,
              "#ed7953"
             ],
             [
              0.7777777777777778,
              "#fb9f3a"
             ],
             [
              0.8888888888888888,
              "#fdca26"
             ],
             [
              1,
              "#f0f921"
             ]
            ],
            "type": "histogram2dcontour"
           }
          ],
          "mesh3d": [
           {
            "colorbar": {
             "outlinewidth": 0,
             "ticks": ""
            },
            "type": "mesh3d"
           }
          ],
          "parcoords": [
           {
            "line": {
             "colorbar": {
              "outlinewidth": 0,
              "ticks": ""
             }
            },
            "type": "parcoords"
           }
          ],
          "pie": [
           {
            "automargin": true,
            "type": "pie"
           }
          ],
          "scatter": [
           {
            "fillpattern": {
             "fillmode": "overlay",
             "size": 10,
             "solidity": 0.2
            },
            "type": "scatter"
           }
          ],
          "scatter3d": [
           {
            "line": {
             "colorbar": {
              "outlinewidth": 0,
              "ticks": ""
             }
            },
            "marker": {
             "colorbar": {
              "outlinewidth": 0,
              "ticks": ""
             }
            },
            "type": "scatter3d"
           }
          ],
          "scattercarpet": [
           {
            "marker": {
             "colorbar": {
              "outlinewidth": 0,
              "ticks": ""
             }
            },
            "type": "scattercarpet"
           }
          ],
          "scattergeo": [
           {
            "marker": {
             "colorbar": {
              "outlinewidth": 0,
              "ticks": ""
             }
            },
            "type": "scattergeo"
           }
          ],
          "scattergl": [
           {
            "marker": {
             "colorbar": {
              "outlinewidth": 0,
              "ticks": ""
             }
            },
            "type": "scattergl"
           }
          ],
          "scattermapbox": [
           {
            "marker": {
             "colorbar": {
              "outlinewidth": 0,
              "ticks": ""
             }
            },
            "type": "scattermapbox"
           }
          ],
          "scatterpolar": [
           {
            "marker": {
             "colorbar": {
              "outlinewidth": 0,
              "ticks": ""
             }
            },
            "type": "scatterpolar"
           }
          ],
          "scatterpolargl": [
           {
            "marker": {
             "colorbar": {
              "outlinewidth": 0,
              "ticks": ""
             }
            },
            "type": "scatterpolargl"
           }
          ],
          "scatterternary": [
           {
            "marker": {
             "colorbar": {
              "outlinewidth": 0,
              "ticks": ""
             }
            },
            "type": "scatterternary"
           }
          ],
          "surface": [
           {
            "colorbar": {
             "outlinewidth": 0,
             "ticks": ""
            },
            "colorscale": [
             [
              0,
              "#0d0887"
             ],
             [
              0.1111111111111111,
              "#46039f"
             ],
             [
              0.2222222222222222,
              "#7201a8"
             ],
             [
              0.3333333333333333,
              "#9c179e"
             ],
             [
              0.4444444444444444,
              "#bd3786"
             ],
             [
              0.5555555555555556,
              "#d8576b"
             ],
             [
              0.6666666666666666,
              "#ed7953"
             ],
             [
              0.7777777777777778,
              "#fb9f3a"
             ],
             [
              0.8888888888888888,
              "#fdca26"
             ],
             [
              1,
              "#f0f921"
             ]
            ],
            "type": "surface"
           }
          ],
          "table": [
           {
            "cells": {
             "fill": {
              "color": "#EBF0F8"
             },
             "line": {
              "color": "white"
             }
            },
            "header": {
             "fill": {
              "color": "#C8D4E3"
             },
             "line": {
              "color": "white"
             }
            },
            "type": "table"
           }
          ]
         },
         "layout": {
          "annotationdefaults": {
           "arrowcolor": "#2a3f5f",
           "arrowhead": 0,
           "arrowwidth": 1
          },
          "autotypenumbers": "strict",
          "coloraxis": {
           "colorbar": {
            "outlinewidth": 0,
            "ticks": ""
           }
          },
          "colorscale": {
           "diverging": [
            [
             0,
             "#8e0152"
            ],
            [
             0.1,
             "#c51b7d"
            ],
            [
             0.2,
             "#de77ae"
            ],
            [
             0.3,
             "#f1b6da"
            ],
            [
             0.4,
             "#fde0ef"
            ],
            [
             0.5,
             "#f7f7f7"
            ],
            [
             0.6,
             "#e6f5d0"
            ],
            [
             0.7,
             "#b8e186"
            ],
            [
             0.8,
             "#7fbc41"
            ],
            [
             0.9,
             "#4d9221"
            ],
            [
             1,
             "#276419"
            ]
           ],
           "sequential": [
            [
             0,
             "#0d0887"
            ],
            [
             0.1111111111111111,
             "#46039f"
            ],
            [
             0.2222222222222222,
             "#7201a8"
            ],
            [
             0.3333333333333333,
             "#9c179e"
            ],
            [
             0.4444444444444444,
             "#bd3786"
            ],
            [
             0.5555555555555556,
             "#d8576b"
            ],
            [
             0.6666666666666666,
             "#ed7953"
            ],
            [
             0.7777777777777778,
             "#fb9f3a"
            ],
            [
             0.8888888888888888,
             "#fdca26"
            ],
            [
             1,
             "#f0f921"
            ]
           ],
           "sequentialminus": [
            [
             0,
             "#0d0887"
            ],
            [
             0.1111111111111111,
             "#46039f"
            ],
            [
             0.2222222222222222,
             "#7201a8"
            ],
            [
             0.3333333333333333,
             "#9c179e"
            ],
            [
             0.4444444444444444,
             "#bd3786"
            ],
            [
             0.5555555555555556,
             "#d8576b"
            ],
            [
             0.6666666666666666,
             "#ed7953"
            ],
            [
             0.7777777777777778,
             "#fb9f3a"
            ],
            [
             0.8888888888888888,
             "#fdca26"
            ],
            [
             1,
             "#f0f921"
            ]
           ]
          },
          "colorway": [
           "#636efa",
           "#EF553B",
           "#00cc96",
           "#ab63fa",
           "#FFA15A",
           "#19d3f3",
           "#FF6692",
           "#B6E880",
           "#FF97FF",
           "#FECB52"
          ],
          "font": {
           "color": "#2a3f5f"
          },
          "geo": {
           "bgcolor": "white",
           "lakecolor": "white",
           "landcolor": "#E5ECF6",
           "showlakes": true,
           "showland": true,
           "subunitcolor": "white"
          },
          "hoverlabel": {
           "align": "left"
          },
          "hovermode": "closest",
          "mapbox": {
           "style": "light"
          },
          "paper_bgcolor": "white",
          "plot_bgcolor": "#E5ECF6",
          "polar": {
           "angularaxis": {
            "gridcolor": "white",
            "linecolor": "white",
            "ticks": ""
           },
           "bgcolor": "#E5ECF6",
           "radialaxis": {
            "gridcolor": "white",
            "linecolor": "white",
            "ticks": ""
           }
          },
          "scene": {
           "xaxis": {
            "backgroundcolor": "#E5ECF6",
            "gridcolor": "white",
            "gridwidth": 2,
            "linecolor": "white",
            "showbackground": true,
            "ticks": "",
            "zerolinecolor": "white"
           },
           "yaxis": {
            "backgroundcolor": "#E5ECF6",
            "gridcolor": "white",
            "gridwidth": 2,
            "linecolor": "white",
            "showbackground": true,
            "ticks": "",
            "zerolinecolor": "white"
           },
           "zaxis": {
            "backgroundcolor": "#E5ECF6",
            "gridcolor": "white",
            "gridwidth": 2,
            "linecolor": "white",
            "showbackground": true,
            "ticks": "",
            "zerolinecolor": "white"
           }
          },
          "shapedefaults": {
           "line": {
            "color": "#2a3f5f"
           }
          },
          "ternary": {
           "aaxis": {
            "gridcolor": "white",
            "linecolor": "white",
            "ticks": ""
           },
           "baxis": {
            "gridcolor": "white",
            "linecolor": "white",
            "ticks": ""
           },
           "bgcolor": "#E5ECF6",
           "caxis": {
            "gridcolor": "white",
            "linecolor": "white",
            "ticks": ""
           }
          },
          "title": {
           "x": 0.05
          },
          "xaxis": {
           "automargin": true,
           "gridcolor": "white",
           "linecolor": "white",
           "ticks": "",
           "title": {
            "standoff": 15
           },
           "zerolinecolor": "white",
           "zerolinewidth": 2
          },
          "yaxis": {
           "automargin": true,
           "gridcolor": "white",
           "linecolor": "white",
           "ticks": "",
           "title": {
            "standoff": 15
           },
           "zerolinecolor": "white",
           "zerolinewidth": 2
          }
         }
        },
        "title": {
         "text": "Scores of Students"
        },
        "xaxis": {
         "anchor": "y",
         "domain": [
          0,
          1
         ],
         "title": {
          "text": "Name"
         }
        },
        "yaxis": {
         "anchor": "x",
         "domain": [
          0,
          1
         ],
         "title": {
          "text": "Score"
         }
        }
       }
      },
      "image/png": "[encoded data removed]",
      "text/html": [
       "<div>                            <div id=\"a86d2c12-708b-4200-8327-803135a26534\" class=\"plotly-graph-div\" style=\"height:525px; width:100%;\"></div>            <script type=\"text/javascript\">                require([\"plotly\"], function(Plotly) {                    window.PLOTLYENV=window.PLOTLYENV || {};                                    if (document.getElementById(\"a86d2c12-708b-4200-8327-803135a26534\")) {                    Plotly.newPlot(                        \"a86d2c12-708b-4200-8327-803135a26534\",                        [{\"alignmentgroup\":\"True\",\"hovertemplate\":\"Name=%{x}\\u003cbr\\u003eScore=%{y}\\u003cextra\\u003e\\u003c\\u002fextra\\u003e\",\"legendgroup\":\"\",\"marker\":{\"color\":\"#636efa\",\"pattern\":{\"shape\":\"\"}},\"name\":\"\",\"offsetgroup\":\"\",\"orientation\":\"v\",\"showlegend\":false,\"textposition\":\"auto\",\"x\":[\"Vishal\",\"Pratik\",\"Jaysukh\",\"Ravi\"],\"xaxis\":\"x\",\"y\":[95,90,85,80],\"yaxis\":\"y\",\"type\":\"bar\"}],                        {\"template\":{\"data\":{\"histogram2dcontour\":[{\"type\":\"histogram2dcontour\",\"colorbar\":{\"outlinewidth\":0,\"ticks\":\"\"},\"colorscale\":[[0.0,\"#0d0887\"],[0.1111111111111111,\"#46039f\"],[0.2222222222222222,\"#7201a8\"],[0.3333333333333333,\"#9c179e\"],[0.4444444444444444,\"#bd3786\"],[0.5555555555555556,\"#d8576b\"],[0.6666666666666666,\"#ed7953\"],[0.7777777777777778,\"#fb9f3a\"],[0.8888888888888888,\"#fdca26\"],[1.0,\"#f0f921\"]]}],\"choropleth\":[{\"type\":\"choropleth\",\"colorbar\":{\"outlinewidth\":0,\"ticks\":\"\"}}],\"histogram2d\":[{\"type\":\"histogram2d\",\"colorbar\":{\"outlinewidth\":0,\"ticks\":\"\"},\"colorscale\":[[0.0,\"#0d0887\"],[0.1111111111111111,\"#46039f\"],[0.2222222222222222,\"#7201a8\"],[0.3333333333333333,\"#9c179e\"],[0.4444444444444444,\"#bd3786\"],[0.5555555555555556,\"#d8576b\"],[0.6666666666666666,\"#ed7953\"],[0.7777777777777778,\"#fb9f3a\"],[0.8888888888888888,\"#fdca26\"],[1.0,\"#f0f921\"]]}],\"heatmap\":[{\"type\":\"heatmap\",\"colorbar\":{\"outlinewidth\":0,\"ticks\":\"\"},\"colorscale\":[[0.0,\"#0d0887\"],[0.1111111111111111,\"#46039f\"],[0.2222222222222222,\"#7201a8\"],[0.3333333333333333,\"#9c179e\"],[0.4444444444444444,\"#bd3786\"],[0.5555555555555556,\"#d8576b\"],[0.6666666666666666,\"#ed7953\"],[0.7777777777777778,\"#fb9f3a\"],[0.8888888888888888,\"#fdca26\"],[1.0,\"#f0f921\"]]}],\"heatmapgl\":[{\"type\":\"heatmapgl\",\"colorbar\":{\"outlinewidth\":0,\"ticks\":\"\"},\"colorscale\":[[0.0,\"#0d0887\"],[0.1111111111111111,\"#46039f\"],[0.2222222222222222,\"#7201a8\"],[0.3333333333333333,\"#9c179e\"],[0.4444444444444444,\"#bd3786\"],[0.5555555555555556,\"#d8576b\"],[0.6666666666666666,\"#ed7953\"],[0.7777777777777778,\"#fb9f3a\"],[0.8888888888888888,\"#fdca26\"],[1.0,\"#f0f921\"]]}],\"contourcarpet\":[{\"type\":\"contourcarpet\",\"colorbar\":{\"outlinewidth\":0,\"ticks\":\"\"}}],\"contour\":[{\"type\":\"contour\",\"colorbar\":{\"outlinewidth\":0,\"ticks\":\"\"},\"colorscale\":[[0.0,\"#0d0887\"],[0.1111111111111111,\"#46039f\"],[0.2222222222222222,\"#7201a8\"],[0.3333333333333333,\"#9c179e\"],[0.4444444444444444,\"#bd3786\"],[0.5555555555555556,\"#d8576b\"],[0.6666666666666666,\"#ed7953\"],[0.7777777777777778,\"#fb9f3a\"],[0.8888888888888888,\"#fdca26\"],[1.0,\"#f0f921\"]]}],\"surface\":[{\"type\":\"surface\",\"colorbar\":{\"outlinewidth\":0,\"ticks\":\"\"},\"colorscale\":[[0.0,\"#0d0887\"],[0.1111111111111111,\"#46039f\"],[0.2222222222222222,\"#7201a8\"],[0.3333333333333333,\"#9c179e\"],[0.4444444444444444,\"#bd3786\"],[0.5555555555555556,\"#d8576b\"],[0.6666666666666666,\"#ed7953\"],[0.7777777777777778,\"#fb9f3a\"],[0.8888888888888888,\"#fdca26\"],[1.0,\"#f0f921\"]]}],\"mesh3d\":[{\"type\":\"mesh3d\",\"colorbar\":{\"outlinewidth\":0,\"ticks\":\"\"}}],\"scatter\":[{\"fillpattern\":{\"fillmode\":\"overlay\",\"size\":10,\"solidity\":0.2},\"type\":\"scatter\"}],\"parcoords\":[{\"type\":\"parcoords\",\"line\":{\"colorbar\":{\"outlinewidth\":0,\"ticks\":\"\"}}}],\"scatterpolargl\":[{\"type\":\"scatterpolargl\",\"marker\":{\"colorbar\":{\"outlinewidth\":0,\"ticks\":\"\"}}}],\"bar\":[{\"error_x\":{\"color\":\"#2a3f5f\"},\"error_y\":{\"color\":\"#2a3f5f\"},\"marker\":{\"line\":{\"color\":\"#E5ECF6\",\"width\":0.5},\"pattern\":{\"fillmode\":\"overlay\",\"size\":10,\"solidity\":0.2}},\"type\":\"bar\"}],\"scattergeo\":[{\"type\":\"scattergeo\",\"marker\":{\"colorbar\":{\"outlinewidth\":0,\"ticks\":\"\"}}}],\"scatterpolar\":[{\"type\":\"scatterpolar\",\"marker\":{\"colorbar\":{\"outlinewidth\":0,\"ticks\":\"\"}}}],\"histogram\":[{\"marker\":{\"pattern\":{\"fillmode\":\"overlay\",\"size\":10,\"solidity\":0.2}},\"type\":\"histogram\"}],\"scattergl\":[{\"type\":\"scattergl\",\"marker\":{\"colorbar\":{\"outlinewidth\":0,\"ticks\":\"\"}}}],\"scatter3d\":[{\"type\":\"scatter3d\",\"line\":{\"colorbar\":{\"outlinewidth\":0,\"ticks\":\"\"}},\"marker\":{\"colorbar\":{\"outlinewidth\":0,\"ticks\":\"\"}}}],\"scattermapbox\":[{\"type\":\"scattermapbox\",\"marker\":{\"colorbar\":{\"outlinewidth\":0,\"ticks\":\"\"}}}],\"scatterternary\":[{\"type\":\"scatterternary\",\"marker\":{\"colorbar\":{\"outlinewidth\":0,\"ticks\":\"\"}}}],\"scattercarpet\":[{\"type\":\"scattercarpet\",\"marker\":{\"colorbar\":{\"outlinewidth\":0,\"ticks\":\"\"}}}],\"carpet\":[{\"aaxis\":{\"endlinecolor\":\"#2a3f5f\",\"gridcolor\":\"white\",\"linecolor\":\"white\",\"minorgridcolor\":\"white\",\"startlinecolor\":\"#2a3f5f\"},\"baxis\":{\"endlinecolor\":\"#2a3f5f\",\"gridcolor\":\"white\",\"linecolor\":\"white\",\"minorgridcolor\":\"white\",\"startlinecolor\":\"#2a3f5f\"},\"type\":\"carpet\"}],\"table\":[{\"cells\":{\"fill\":{\"color\":\"#EBF0F8\"},\"line\":{\"color\":\"white\"}},\"header\":{\"fill\":{\"color\":\"#C8D4E3\"},\"line\":{\"color\":\"white\"}},\"type\":\"table\"}],\"barpolar\":[{\"marker\":{\"line\":{\"color\":\"#E5ECF6\",\"width\":0.5},\"pattern\":{\"fillmode\":\"overlay\",\"size\":10,\"solidity\":0.2}},\"type\":\"barpolar\"}],\"pie\":[{\"automargin\":true,\"type\":\"pie\"}]},\"layout\":{\"autotypenumbers\":\"strict\",\"colorway\":[\"#636efa\",\"#EF553B\",\"#00cc96\",\"#ab63fa\",\"#FFA15A\",\"#19d3f3\",\"#FF6692\",\"#B6E880\",\"#FF97FF\",\"#FECB52\"],\"font\":{\"color\":\"#2a3f5f\"},\"hovermode\":\"closest\",\"hoverlabel\":{\"align\":\"left\"},\"paper_bgcolor\":\"white\",\"plot_bgcolor\":\"#E5ECF6\",\"polar\":{\"bgcolor\":\"#E5ECF6\",\"angularaxis\":{\"gridcolor\":\"white\",\"linecolor\":\"white\",\"ticks\":\"\"},\"radialaxis\":{\"gridcolor\":\"white\",\"linecolor\":\"white\",\"ticks\":\"\"}},\"ternary\":{\"bgcolor\":\"#E5ECF6\",\"aaxis\":{\"gridcolor\":\"white\",\"linecolor\":\"white\",\"ticks\":\"\"},\"baxis\":{\"gridcolor\":\"white\",\"linecolor\":\"white\",\"ticks\":\"\"},\"caxis\":{\"gridcolor\":\"white\",\"linecolor\":\"white\",\"ticks\":\"\"}},\"coloraxis\":{\"colorbar\":{\"outlinewidth\":0,\"ticks\":\"\"}},\"colorscale\":{\"sequential\":[[0.0,\"#0d0887\"],[0.1111111111111111,\"#46039f\"],[0.2222222222222222,\"#7201a8\"],[0.3333333333333333,\"#9c179e\"],[0.4444444444444444,\"#bd3786\"],[0.5555555555555556,\"#d8576b\"],[0.6666666666666666,\"#ed7953\"],[0.7777777777777778,\"#fb9f3a\"],[0.8888888888888888,\"#fdca26\"],[1.0,\"#f0f921\"]],\"sequentialminus\":[[0.0,\"#0d0887\"],[0.1111111111111111,\"#46039f\"],[0.2222222222222222,\"#7201a8\"],[0.3333333333333333,\"#9c179e\"],[0.4444444444444444,\"#bd3786\"],[0.5555555555555556,\"#d8576b\"],[0.6666666666666666,\"#ed7953\"],[0.7777777777777778,\"#fb9f3a\"],[0.8888888888888888,\"#fdca26\"],[1.0,\"#f0f921\"]],\"diverging\":[[0,\"#8e0152\"],[0.1,\"#c51b7d\"],[0.2,\"#de77ae\"],[0.3,\"#f1b6da\"],[0.4,\"#fde0ef\"],[0.5,\"#f7f7f7\"],[0.6,\"#e6f5d0\"],[0.7,\"#b8e186\"],[0.8,\"#7fbc41\"],[0.9,\"#4d9221\"],[1,\"#276419\"]]},\"xaxis\":{\"gridcolor\":\"white\",\"linecolor\":\"white\",\"ticks\":\"\",\"title\":{\"standoff\":15},\"zerolinecolor\":\"white\",\"automargin\":true,\"zerolinewidth\":2},\"yaxis\":{\"gridcolor\":\"white\",\"linecolor\":\"white\",\"ticks\":\"\",\"title\":{\"standoff\":15},\"zerolinecolor\":\"white\",\"automargin\":true,\"zerolinewidth\":2},\"scene\":{\"xaxis\":{\"backgroundcolor\":\"#E5ECF6\",\"gridcolor\":\"white\",\"linecolor\":\"white\",\"showbackground\":true,\"ticks\":\"\",\"zerolinecolor\":\"white\",\"gridwidth\":2},\"yaxis\":{\"backgroundcolor\":\"#E5ECF6\",\"gridcolor\":\"white\",\"linecolor\":\"white\",\"showbackground\":true,\"ticks\":\"\",\"zerolinecolor\":\"white\",\"gridwidth\":2},\"zaxis\":{\"backgroundcolor\":\"#E5ECF6\",\"gridcolor\":\"white\",\"linecolor\":\"white\",\"showbackground\":true,\"ticks\":\"\",\"zerolinecolor\":\"white\",\"gridwidth\":2}},\"shapedefaults\":{\"line\":{\"color\":\"#2a3f5f\"}},\"annotationdefaults\":{\"arrowcolor\":\"#2a3f5f\",\"arrowhead\":0,\"arrowwidth\":1},\"geo\":{\"bgcolor\":\"white\",\"landcolor\":\"#E5ECF6\",\"subunitcolor\":\"white\",\"showland\":true,\"showlakes\":true,\"lakecolor\":\"white\"},\"title\":{\"x\":0.05},\"mapbox\":{\"style\":\"light\"}}},\"xaxis\":{\"anchor\":\"y\",\"domain\":[0.0,1.0],\"title\":{\"text\":\"Name\"}},\"yaxis\":{\"anchor\":\"x\",\"domain\":[0.0,1.0],\"title\":{\"text\":\"Score\"}},\"legend\":{\"tracegroupgap\":0},\"title\":{\"text\":\"Scores of Students\"},\"barmode\":\"relative\"},                        {\"responsive\": true}                    ).then(function(){\n",
       "                            \n",
       "var gd = document.getElementById('a86d2c12-708b-4200-8327-803135a26534');\n",
       "var x = new MutationObserver(function (mutations, observer) {{\n",
       "        var display = window.getComputedStyle(gd).display;\n",
       "        if (!display || display === 'none') {{\n",
       "            console.log([gd, 'removed!']);\n",
       "            Plotly.purge(gd);\n",
       "            observer.disconnect();\n",
       "        }}\n",
       "}});\n",
       "\n",
       "// Listen for the removal of the full notebook cells\n",
       "var notebookContainer = gd.closest('#notebook-container');\n",
       "if (notebookContainer) {{\n",
       "    x.observe(notebookContainer, {childList: true});\n",
       "}}\n",
       "\n",
       "// Listen for the clearing of the current output cell\n",
       "var outputEl = gd.closest('.output');\n",
       "if (outputEl) {{\n",
       "    x.observe(outputEl, {childList: true});\n",
       "}}\n",
       "\n",
       "                        })                };                });            </script>        </div>"
      ]
     },
     "metadata": {},
     "output_type": "display_data"
    }
   ],
   "source": [
    "import plotly.express as px\n",
    "\n",
    "\n",
    "data = {\n",
    "    'Name': ['Vishal', 'Pratik', 'Jaysukh', 'Ravi'],\n",
    "    'Score': [95, 90, 85, 80]\n",
    "}\n",
    "\n",
    "\n",
    "fig = px.bar(data, x='Name', y='Score', title='Scores of Students')\n",
    "\n",
    "\n",
    "fig.show()\n"
   ]
  },
  {
   "cell_type": "markdown",
   "id": "76ad2762-25f3-40e4-9297-7b353b8464e8",
   "metadata": {},
   "source": [
    "# 6. Create a DataFrame and add a new column based on an existing column"
   ]
  },
  {
   "cell_type": "code",
   "execution_count": 27,
   "id": "80eb68fd-dd13-4bb8-89fe-7a16dcd64f97",
   "metadata": {},
   "outputs": [
    {
     "name": "stdout",
     "output_type": "stream",
     "text": [
      "      Name  Score Result\n",
      "0   Vishal     95   Pass\n",
      "1   Pratik     90   Pass\n",
      "2  Jaysukh     85   Pass\n",
      "3     Ravi     80   Fail\n"
     ]
    }
   ],
   "source": [
    "import pandas as pd\n",
    "\n",
    "\n",
    "data = {\n",
    "    'Name': ['Vishal', 'Pratik', 'Jaysukh', 'Ravi'],\n",
    "    'Score': [95, 90, 85, 80]\n",
    "}\n",
    "\n",
    "df = pd.DataFrame(data)\n",
    "\n",
    "\n",
    "df['Result'] = df['Score'].apply(lambda x: 'Pass' if x >= 85 else 'Fail')\n",
    "\n",
    "\n",
    "print(df)\n"
   ]
  },
  {
   "cell_type": "markdown",
   "id": "7cc0214e-1777-4a18-b3d8-2aea2a5a916e",
   "metadata": {},
   "source": [
    "# 7. Write a program to perform element-wise multiplication of two NumPy arrays"
   ]
  },
  {
   "cell_type": "code",
   "execution_count": 28,
   "id": "55f89b05-0077-44c2-ba88-bfcb283b8521",
   "metadata": {},
   "outputs": [
    {
     "name": "stdout",
     "output_type": "stream",
     "text": [
      "Result of element-wise multiplication: [ 4 10 18]\n"
     ]
    }
   ],
   "source": [
    "import numpy as np\n",
    "\n",
    "\n",
    "a = np.array([1, 2, 3])\n",
    "b = np.array([4, 5, 6])\n",
    "\n",
    "\n",
    "result = a * b\n",
    "\n",
    "\n",
    "print(\"Result of element-wise multiplication:\", result)\n"
   ]
  },
  {
   "cell_type": "markdown",
   "id": "01901b92-8e41-4452-bf17-f96aa8536633",
   "metadata": {},
   "source": [
    "# 8. Create a line plot with multiple lines using Matplotlib"
   ]
  },
  {
   "cell_type": "code",
   "execution_count": 29,
   "id": "090821f7-540f-4073-844f-026440132fc2",
   "metadata": {},
   "outputs": [
    {
     "data": {
      "image/png": "[encoded data removed]",
      "text/plain": [
       "<Figure size 640x480 with 1 Axes>"
      ]
     },
     "metadata": {},
     "output_type": "display_data"
    }
   ],
   "source": [
    "import matplotlib.pyplot as plt\n",
    "\n",
    "\n",
    "x = [1, 2, 3, 4, 5]\n",
    "y1 = [10, 15, 20, 25, 30]\n",
    "y2 = [5, 10, 15, 10, 5]\n",
    "\n",
    "\n",
    "plt.plot(x, y1, label='Line 1', color='blue', marker='o')\n",
    "plt.plot(x, y2, label='Line 2', color='green', marker='x')\n",
    "\n",
    "\n",
    "plt.title('Multiple Line Plot')\n",
    "plt.xlabel('X-axis')\n",
    "plt.ylabel('Y-axis')\n",
    "\n",
    "\n",
    "plt.legend()\n",
    "\n",
    "\n",
    "plt.show()\n"
   ]
  },
  {
   "cell_type": "markdown",
   "id": "479acad1-ccbb-44da-9ad0-06820aeb95f4",
   "metadata": {},
   "source": [
    "# 9. Generate a Pandas DataFrame and filter rows where a column value is greater than a threshold"
   ]
  },
  {
   "cell_type": "code",
   "execution_count": 30,
   "id": "46f12cd4-48ee-47ac-bb59-763b7a24d520",
   "metadata": {},
   "outputs": [
    {
     "name": "stdout",
     "output_type": "stream",
     "text": [
      "     Name  Score\n",
      "0  Vishal     95\n",
      "1  Pratik     90\n"
     ]
    }
   ],
   "source": [
    "import pandas as pd\n",
    "\n",
    "\n",
    "data = {\n",
    "    'Name': ['Vishal', 'Pratik', 'Jaysukh', 'Ravi'],\n",
    "    'Score': [95, 90, 85, 80]\n",
    "}\n",
    "\n",
    "df = pd.DataFrame(data)\n",
    "\n",
    "\n",
    "filtered_df = df[df['Score'] > 85]\n",
    "\n",
    "\n",
    "print(filtered_df)\n"
   ]
  },
  {
   "cell_type": "markdown",
   "id": "e11beb2c-bfc0-49d4-8e16-d9d8df3137a7",
   "metadata": {},
   "source": [
    "# 10. Create a histogram using Seaborn to visualize a distribution"
   ]
  },
  {
   "cell_type": "code",
   "execution_count": 34,
   "id": "6c77c05f-e351-4fa8-bad6-22ff76c23675",
   "metadata": {},
   "outputs": [
    {
     "data": {
      "image/png": "[encoded data removed]",
      "text/plain": [
       "<Figure size 640x480 with 1 Axes>"
      ]
     },
     "metadata": {},
     "output_type": "display_data"
    }
   ],
   "source": [
    "import seaborn as sns\n",
    "import matplotlib.pyplot as plt\n",
    "\n",
    "\n",
    "data = [12, 15, 14, 10, 13, 17, 15, 18, 14, 16, 12, 14, 13, 15, 16]\n",
    "\n",
    "\n",
    "sns.histplot(data, bins=5, kde=False)\n",
    "\n",
    "\n",
    "plt.show()\n"
   ]
  },
  {
   "cell_type": "markdown",
   "id": "53f037a2-8d52-4bef-be00-5ba5fbd36865",
   "metadata": {},
   "source": [
    "# 11. Perform matrix multiplication using NumPy"
   ]
  },
  {
   "cell_type": "code",
   "execution_count": 35,
   "id": "059b8c49-4405-4f24-8ba2-480e02008252",
   "metadata": {},
   "outputs": [
    {
     "name": "stdout",
     "output_type": "stream",
     "text": [
      "[[19 22]\n",
      " [43 50]]\n"
     ]
    }
   ],
   "source": [
    "import numpy as np\n",
    "\n",
    "\n",
    "A = np.array([[1, 2],\n",
    "              [3, 4]])\n",
    "\n",
    "B = np.array([[5, 6],\n",
    "              [7, 8]])\n",
    "\n",
    "\n",
    "C = np.dot(A, B)\n",
    "\n",
    "\n",
    "print(C)\n"
   ]
  },
  {
   "cell_type": "markdown",
   "id": "32cf78d8-3a18-4a50-9deb-fdbabccc8b8a",
   "metadata": {},
   "source": [
    "# 12. Use Pandas to load a CSV file and display its first 5 rows"
   ]
  },
  {
   "cell_type": "code",
   "execution_count": 37,
   "id": "a9db10d0-2cea-4745-8eef-5b279cdb68b0",
   "metadata": {},
   "outputs": [
    {
     "ename": "FileNotFoundError",
     "evalue": "[Errno 2] No such file or directory: 'sample_data.csv'",
     "output_type": "error",
     "traceback": [
      "\u001b[1;31m---------------------------------------------------------------------------\u001b[0m",
      "\u001b[1;31mFileNotFoundError\u001b[0m                         Traceback (most recent call last)",
      "Cell \u001b[1;32mIn[37], line 2\u001b[0m\n\u001b[0;32m      1\u001b[0m \u001b[38;5;28;01mimport\u001b[39;00m\u001b[38;5;250m \u001b[39m\u001b[38;5;21;01mpandas\u001b[39;00m\u001b[38;5;250m \u001b[39m\u001b[38;5;28;01mas\u001b[39;00m\u001b[38;5;250m \u001b[39m\u001b[38;5;21;01mpd\u001b[39;00m\n\u001b[1;32m----> 2\u001b[0m df \u001b[38;5;241m=\u001b[39m pd\u001b[38;5;241m.\u001b[39mread_csv(\u001b[38;5;124m'\u001b[39m\u001b[38;5;124msample_data.csv\u001b[39m\u001b[38;5;124m'\u001b[39m)\n\u001b[0;32m      3\u001b[0m \u001b[38;5;28mprint\u001b[39m(df\u001b[38;5;241m.\u001b[39mhead())\n",
      "File \u001b[1;32mC:\\ProgramData\\anaconda3\\Lib\\site-packages\\pandas\\io\\parsers\\readers.py:1026\u001b[0m, in \u001b[0;36mread_csv\u001b[1;34m(filepath_or_buffer, sep, delimiter, header, names, index_col, usecols, dtype, engine, converters, true_values, false_values, skipinitialspace, skiprows, skipfooter, nrows, na_values, keep_default_na, na_filter, verbose, skip_blank_lines, parse_dates, infer_datetime_format, keep_date_col, date_parser, date_format, dayfirst, cache_dates, iterator, chunksize, compression, thousands, decimal, lineterminator, quotechar, quoting, doublequote, escapechar, comment, encoding, encoding_errors, dialect, on_bad_lines, delim_whitespace, low_memory, memory_map, float_precision, storage_options, dtype_backend)\u001b[0m\n\u001b[0;32m   1013\u001b[0m kwds_defaults \u001b[38;5;241m=\u001b[39m _refine_defaults_read(\n\u001b[0;32m   1014\u001b[0m     dialect,\n\u001b[0;32m   1015\u001b[0m     delimiter,\n\u001b[1;32m   (...)\u001b[0m\n\u001b[0;32m   1022\u001b[0m     dtype_backend\u001b[38;5;241m=\u001b[39mdtype_backend,\n\u001b[0;32m   1023\u001b[0m )\n\u001b[0;32m   1024\u001b[0m kwds\u001b[38;5;241m.\u001b[39mupdate(kwds_defaults)\n\u001b[1;32m-> 1026\u001b[0m \u001b[38;5;28;01mreturn\u001b[39;00m _read(filepath_or_buffer, kwds)\n",
      "File \u001b[1;32mC:\\ProgramData\\anaconda3\\Lib\\site-packages\\pandas\\io\\parsers\\readers.py:620\u001b[0m, in \u001b[0;36m_read\u001b[1;34m(filepath_or_buffer, kwds)\u001b[0m\n\u001b[0;32m    617\u001b[0m _validate_names(kwds\u001b[38;5;241m.\u001b[39mget(\u001b[38;5;124m\"\u001b[39m\u001b[38;5;124mnames\u001b[39m\u001b[38;5;124m\"\u001b[39m, \u001b[38;5;28;01mNone\u001b[39;00m))\n\u001b[0;32m    619\u001b[0m \u001b[38;5;66;03m# Create the parser.\u001b[39;00m\n\u001b[1;32m--> 620\u001b[0m parser \u001b[38;5;241m=\u001b[39m TextFileReader(filepath_or_buffer, \u001b[38;5;241m*\u001b[39m\u001b[38;5;241m*\u001b[39mkwds)\n\u001b[0;32m    622\u001b[0m \u001b[38;5;28;01mif\u001b[39;00m chunksize \u001b[38;5;129;01mor\u001b[39;00m iterator:\n\u001b[0;32m    623\u001b[0m     \u001b[38;5;28;01mreturn\u001b[39;00m parser\n",
      "File \u001b[1;32mC:\\ProgramData\\anaconda3\\Lib\\site-packages\\pandas\\io\\parsers\\readers.py:1620\u001b[0m, in \u001b[0;36mTextFileReader.__init__\u001b[1;34m(self, f, engine, **kwds)\u001b[0m\n\u001b[0;32m   1617\u001b[0m     \u001b[38;5;28mself\u001b[39m\u001b[38;5;241m.\u001b[39moptions[\u001b[38;5;124m\"\u001b[39m\u001b[38;5;124mhas_index_names\u001b[39m\u001b[38;5;124m\"\u001b[39m] \u001b[38;5;241m=\u001b[39m kwds[\u001b[38;5;124m\"\u001b[39m\u001b[38;5;124mhas_index_names\u001b[39m\u001b[38;5;124m\"\u001b[39m]\n\u001b[0;32m   1619\u001b[0m \u001b[38;5;28mself\u001b[39m\u001b[38;5;241m.\u001b[39mhandles: IOHandles \u001b[38;5;241m|\u001b[39m \u001b[38;5;28;01mNone\u001b[39;00m \u001b[38;5;241m=\u001b[39m \u001b[38;5;28;01mNone\u001b[39;00m\n\u001b[1;32m-> 1620\u001b[0m \u001b[38;5;28mself\u001b[39m\u001b[38;5;241m.\u001b[39m_engine \u001b[38;5;241m=\u001b[39m \u001b[38;5;28mself\u001b[39m\u001b[38;5;241m.\u001b[39m_make_engine(f, \u001b[38;5;28mself\u001b[39m\u001b[38;5;241m.\u001b[39mengine)\n",
      "File \u001b[1;32mC:\\ProgramData\\anaconda3\\Lib\\site-packages\\pandas\\io\\parsers\\readers.py:1880\u001b[0m, in \u001b[0;36mTextFileReader._make_engine\u001b[1;34m(self, f, engine)\u001b[0m\n\u001b[0;32m   1878\u001b[0m     \u001b[38;5;28;01mif\u001b[39;00m \u001b[38;5;124m\"\u001b[39m\u001b[38;5;124mb\u001b[39m\u001b[38;5;124m\"\u001b[39m \u001b[38;5;129;01mnot\u001b[39;00m \u001b[38;5;129;01min\u001b[39;00m mode:\n\u001b[0;32m   1879\u001b[0m         mode \u001b[38;5;241m+\u001b[39m\u001b[38;5;241m=\u001b[39m \u001b[38;5;124m\"\u001b[39m\u001b[38;5;124mb\u001b[39m\u001b[38;5;124m\"\u001b[39m\n\u001b[1;32m-> 1880\u001b[0m \u001b[38;5;28mself\u001b[39m\u001b[38;5;241m.\u001b[39mhandles \u001b[38;5;241m=\u001b[39m get_handle(\n\u001b[0;32m   1881\u001b[0m     f,\n\u001b[0;32m   1882\u001b[0m     mode,\n\u001b[0;32m   1883\u001b[0m     encoding\u001b[38;5;241m=\u001b[39m\u001b[38;5;28mself\u001b[39m\u001b[38;5;241m.\u001b[39moptions\u001b[38;5;241m.\u001b[39mget(\u001b[38;5;124m\"\u001b[39m\u001b[38;5;124mencoding\u001b[39m\u001b[38;5;124m\"\u001b[39m, \u001b[38;5;28;01mNone\u001b[39;00m),\n\u001b[0;32m   1884\u001b[0m     compression\u001b[38;5;241m=\u001b[39m\u001b[38;5;28mself\u001b[39m\u001b[38;5;241m.\u001b[39moptions\u001b[38;5;241m.\u001b[39mget(\u001b[38;5;124m\"\u001b[39m\u001b[38;5;124mcompression\u001b[39m\u001b[38;5;124m\"\u001b[39m, \u001b[38;5;28;01mNone\u001b[39;00m),\n\u001b[0;32m   1885\u001b[0m     memory_map\u001b[38;5;241m=\u001b[39m\u001b[38;5;28mself\u001b[39m\u001b[38;5;241m.\u001b[39moptions\u001b[38;5;241m.\u001b[39mget(\u001b[38;5;124m\"\u001b[39m\u001b[38;5;124mmemory_map\u001b[39m\u001b[38;5;124m\"\u001b[39m, \u001b[38;5;28;01mFalse\u001b[39;00m),\n\u001b[0;32m   1886\u001b[0m     is_text\u001b[38;5;241m=\u001b[39mis_text,\n\u001b[0;32m   1887\u001b[0m     errors\u001b[38;5;241m=\u001b[39m\u001b[38;5;28mself\u001b[39m\u001b[38;5;241m.\u001b[39moptions\u001b[38;5;241m.\u001b[39mget(\u001b[38;5;124m\"\u001b[39m\u001b[38;5;124mencoding_errors\u001b[39m\u001b[38;5;124m\"\u001b[39m, \u001b[38;5;124m\"\u001b[39m\u001b[38;5;124mstrict\u001b[39m\u001b[38;5;124m\"\u001b[39m),\n\u001b[0;32m   1888\u001b[0m     storage_options\u001b[38;5;241m=\u001b[39m\u001b[38;5;28mself\u001b[39m\u001b[38;5;241m.\u001b[39moptions\u001b[38;5;241m.\u001b[39mget(\u001b[38;5;124m\"\u001b[39m\u001b[38;5;124mstorage_options\u001b[39m\u001b[38;5;124m\"\u001b[39m, \u001b[38;5;28;01mNone\u001b[39;00m),\n\u001b[0;32m   1889\u001b[0m )\n\u001b[0;32m   1890\u001b[0m \u001b[38;5;28;01massert\u001b[39;00m \u001b[38;5;28mself\u001b[39m\u001b[38;5;241m.\u001b[39mhandles \u001b[38;5;129;01mis\u001b[39;00m \u001b[38;5;129;01mnot\u001b[39;00m \u001b[38;5;28;01mNone\u001b[39;00m\n\u001b[0;32m   1891\u001b[0m f \u001b[38;5;241m=\u001b[39m \u001b[38;5;28mself\u001b[39m\u001b[38;5;241m.\u001b[39mhandles\u001b[38;5;241m.\u001b[39mhandle\n",
      "File \u001b[1;32mC:\\ProgramData\\anaconda3\\Lib\\site-packages\\pandas\\io\\common.py:873\u001b[0m, in \u001b[0;36mget_handle\u001b[1;34m(path_or_buf, mode, encoding, compression, memory_map, is_text, errors, storage_options)\u001b[0m\n\u001b[0;32m    868\u001b[0m \u001b[38;5;28;01melif\u001b[39;00m \u001b[38;5;28misinstance\u001b[39m(handle, \u001b[38;5;28mstr\u001b[39m):\n\u001b[0;32m    869\u001b[0m     \u001b[38;5;66;03m# Check whether the filename is to be opened in binary mode.\u001b[39;00m\n\u001b[0;32m    870\u001b[0m     \u001b[38;5;66;03m# Binary mode does not support 'encoding' and 'newline'.\u001b[39;00m\n\u001b[0;32m    871\u001b[0m     \u001b[38;5;28;01mif\u001b[39;00m ioargs\u001b[38;5;241m.\u001b[39mencoding \u001b[38;5;129;01mand\u001b[39;00m \u001b[38;5;124m\"\u001b[39m\u001b[38;5;124mb\u001b[39m\u001b[38;5;124m\"\u001b[39m \u001b[38;5;129;01mnot\u001b[39;00m \u001b[38;5;129;01min\u001b[39;00m ioargs\u001b[38;5;241m.\u001b[39mmode:\n\u001b[0;32m    872\u001b[0m         \u001b[38;5;66;03m# Encoding\u001b[39;00m\n\u001b[1;32m--> 873\u001b[0m         handle \u001b[38;5;241m=\u001b[39m \u001b[38;5;28mopen\u001b[39m(\n\u001b[0;32m    874\u001b[0m             handle,\n\u001b[0;32m    875\u001b[0m             ioargs\u001b[38;5;241m.\u001b[39mmode,\n\u001b[0;32m    876\u001b[0m             encoding\u001b[38;5;241m=\u001b[39mioargs\u001b[38;5;241m.\u001b[39mencoding,\n\u001b[0;32m    877\u001b[0m             errors\u001b[38;5;241m=\u001b[39merrors,\n\u001b[0;32m    878\u001b[0m             newline\u001b[38;5;241m=\u001b[39m\u001b[38;5;124m\"\u001b[39m\u001b[38;5;124m\"\u001b[39m,\n\u001b[0;32m    879\u001b[0m         )\n\u001b[0;32m    880\u001b[0m     \u001b[38;5;28;01melse\u001b[39;00m:\n\u001b[0;32m    881\u001b[0m         \u001b[38;5;66;03m# Binary mode\u001b[39;00m\n\u001b[0;32m    882\u001b[0m         handle \u001b[38;5;241m=\u001b[39m \u001b[38;5;28mopen\u001b[39m(handle, ioargs\u001b[38;5;241m.\u001b[39mmode)\n",
      "\u001b[1;31mFileNotFoundError\u001b[0m: [Errno 2] No such file or directory: 'sample_data.csv'"
     ]
    }
   ],
   "source": [
    "import pandas as pd\n",
    "df = pd.read_csv('sample_data.csv')\n",
    "print(df.head())"
   ]
  },
  {
   "cell_type": "markdown",
   "id": "78f393de-bd7c-4b61-bf5d-40fa768db913",
   "metadata": {},
   "source": [
    "# 13. Create a 3D scatter plot using Plotly."
   ]
  },
  {
   "cell_type": "code",
   "execution_count": 38,
   "id": "11b74084-1350-4e9e-8d72-9b521af06c83",
   "metadata": {},
   "outputs": [
    {
     "data": {
      "application/vnd.plotly.v1+json": {
       "config": {
        "plotlyServerURL": "https://plot.ly"
       },
       "data": [
        {
         "marker": {
          "color": [
           5,
           6,
           7,
           8,
           9
          ],
          "colorscale": [
           [
            0,
            "#440154"
           ],
           [
            0.1111111111111111,
            "#482878"
           ],
           [
            0.2222222222222222,
            "#3e4989"
           ],
           [
            0.3333333333333333,
            "#31688e"
           ],
           [
            0.4444444444444444,
            "#26828e"
           ],
           [
            0.5555555555555556,
            "#1f9e89"
           ],
           [
            0.6666666666666666,
            "#35b779"
           ],
           [
            0.7777777777777778,
            "#6ece58"
           ],
           [
            0.8888888888888888,
            "#b5de2b"
           ],
           [
            1,
            "#fde725"
           ]
          ],
          "opacity": 0.8,
          "size": 8
         },
         "mode": "markers",
         "type": "scatter3d",
         "x": [
          1,
          2,
          3,
          4,
          5
         ],
         "y": [
          10,
          11,
          12,
          13,
          14
         ],
         "z": [
          5,
          6,
          7,
          8,
          9
         ]
        }
       ],
       "layout": {
        "template": {
         "data": {
          "bar": [
           {
            "error_x": {
             "color": "#2a3f5f"
            },
            "error_y": {
             "color": "#2a3f5f"
            },
            "marker": {
             "line": {
              "color": "#E5ECF6",
              "width": 0.5
             },
             "pattern": {
              "fillmode": "overlay",
              "size": 10,
              "solidity": 0.2
             }
            },
            "type": "bar"
           }
          ],
          "barpolar": [
           {
            "marker": {
             "line": {
              "color": "#E5ECF6",
              "width": 0.5
             },
             "pattern": {
              "fillmode": "overlay",
              "size": 10,
              "solidity": 0.2
             }
            },
            "type": "barpolar"
           }
          ],
          "carpet": [
           {
            "aaxis": {
             "endlinecolor": "#2a3f5f",
             "gridcolor": "white",
             "linecolor": "white",
             "minorgridcolor": "white",
             "startlinecolor": "#2a3f5f"
            },
            "baxis": {
             "endlinecolor": "#2a3f5f",
             "gridcolor": "white",
             "linecolor": "white",
             "minorgridcolor": "white",
             "startlinecolor": "#2a3f5f"
            },
            "type": "carpet"
           }
          ],
          "choropleth": [
           {
            "colorbar": {
             "outlinewidth": 0,
             "ticks": ""
            },
            "type": "choropleth"
           }
          ],
          "contour": [
           {
            "colorbar": {
             "outlinewidth": 0,
             "ticks": ""
            },
            "colorscale": [
             [
              0,
              "#0d0887"
             ],
             [
              0.1111111111111111,
              "#46039f"
             ],
             [
              0.2222222222222222,
              "#7201a8"
             ],
             [
              0.3333333333333333,
              "#9c179e"
             ],
             [
              0.4444444444444444,
              "#bd3786"
             ],
             [
              0.5555555555555556,
              "#d8576b"
             ],
             [
              0.6666666666666666,
              "#ed7953"
             ],
             [
              0.7777777777777778,
              "#fb9f3a"
             ],
             [
              0.8888888888888888,
              "#fdca26"
             ],
             [
              1,
              "#f0f921"
             ]
            ],
            "type": "contour"
           }
          ],
          "contourcarpet": [
           {
            "colorbar": {
             "outlinewidth": 0,
             "ticks": ""
            },
            "type": "contourcarpet"
           }
          ],
          "heatmap": [
           {
            "colorbar": {
             "outlinewidth": 0,
             "ticks": ""
            },
            "colorscale": [
             [
              0,
              "#0d0887"
             ],
             [
              0.1111111111111111,
              "#46039f"
             ],
             [
              0.2222222222222222,
              "#7201a8"
             ],
             [
              0.3333333333333333,
              "#9c179e"
             ],
             [
              0.4444444444444444,
              "#bd3786"
             ],
             [
              0.5555555555555556,
              "#d8576b"
             ],
             [
              0.6666666666666666,
              "#ed7953"
             ],
             [
              0.7777777777777778,
              "#fb9f3a"
             ],
             [
              0.8888888888888888,
              "#fdca26"
             ],
             [
              1,
              "#f0f921"
             ]
            ],
            "type": "heatmap"
           }
          ],
          "heatmapgl": [
           {
            "colorbar": {
             "outlinewidth": 0,
             "ticks": ""
            },
            "colorscale": [
             [
              0,
              "#0d0887"
             ],
             [
              0.1111111111111111,
              "#46039f"
             ],
             [
              0.2222222222222222,
              "#7201a8"
             ],
             [
              0.3333333333333333,
              "#9c179e"
             ],
             [
              0.4444444444444444,
              "#bd3786"
             ],
             [
              0.5555555555555556,
              "#d8576b"
             ],
             [
              0.6666666666666666,
              "#ed7953"
             ],
             [
              0.7777777777777778,
              "#fb9f3a"
             ],
             [
              0.8888888888888888,
              "#fdca26"
             ],
             [
              1,
              "#f0f921"
             ]
            ],
            "type": "heatmapgl"
           }
          ],
          "histogram": [
           {
            "marker": {
             "pattern": {
              "fillmode": "overlay",
              "size": 10,
              "solidity": 0.2
             }
            },
            "type": "histogram"
           }
          ],
          "histogram2d": [
           {
            "colorbar": {
             "outlinewidth": 0,
             "ticks": ""
            },
            "colorscale": [
             [
              0,
              "#0d0887"
             ],
             [
              0.1111111111111111,
              "#46039f"
             ],
             [
              0.2222222222222222,
              "#7201a8"
             ],
             [
              0.3333333333333333,
              "#9c179e"
             ],
             [
              0.4444444444444444,
              "#bd3786"
             ],
             [
              0.5555555555555556,
              "#d8576b"
             ],
             [
              0.6666666666666666,
              "#ed7953"
             ],
             [
              0.7777777777777778,
              "#fb9f3a"
             ],
             [
              0.8888888888888888,
              "#fdca26"
             ],
             [
              1,
              "#f0f921"
             ]
            ],
            "type": "histogram2d"
           }
          ],
          "histogram2dcontour": [
           {
            "colorbar": {
             "outlinewidth": 0,
             "ticks": ""
            },
            "colorscale": [
             [
              0,
              "#0d0887"
             ],
             [
              0.1111111111111111,
              "#46039f"
             ],
             [
              0.2222222222222222,
              "#7201a8"
             ],
             [
              0.3333333333333333,
              "#9c179e"
             ],
             [
              0.4444444444444444,
              "#bd3786"
             ],
             [
              0.5555555555555556,
              "#d8576b"
             ],
             [
              0.6666666666666666,
              "#ed7953"
             ],
             [
              0.7777777777777778,
              "#fb9f3a"
             ],
             [
              0.8888888888888888,
              "#fdca26"
             ],
             [
              1,
              "#f0f921"
             ]
            ],
            "type": "histogram2dcontour"
           }
          ],
          "mesh3d": [
           {
            "colorbar": {
             "outlinewidth": 0,
             "ticks": ""
            },
            "type": "mesh3d"
           }
          ],
          "parcoords": [
           {
            "line": {
             "colorbar": {
              "outlinewidth": 0,
              "ticks": ""
             }
            },
            "type": "parcoords"
           }
          ],
          "pie": [
           {
            "automargin": true,
            "type": "pie"
           }
          ],
          "scatter": [
           {
            "fillpattern": {
             "fillmode": "overlay",
             "size": 10,
             "solidity": 0.2
            },
            "type": "scatter"
           }
          ],
          "scatter3d": [
           {
            "line": {
             "colorbar": {
              "outlinewidth": 0,
              "ticks": ""
             }
            },
            "marker": {
             "colorbar": {
              "outlinewidth": 0,
              "ticks": ""
             }
            },
            "type": "scatter3d"
           }
          ],
          "scattercarpet": [
           {
            "marker": {
             "colorbar": {
              "outlinewidth": 0,
              "ticks": ""
             }
            },
            "type": "scattercarpet"
           }
          ],
          "scattergeo": [
           {
            "marker": {
             "colorbar": {
              "outlinewidth": 0,
              "ticks": ""
             }
            },
            "type": "scattergeo"
           }
          ],
          "scattergl": [
           {
            "marker": {
             "colorbar": {
              "outlinewidth": 0,
              "ticks": ""
             }
            },
            "type": "scattergl"
           }
          ],
          "scattermapbox": [
           {
            "marker": {
             "colorbar": {
              "outlinewidth": 0,
              "ticks": ""
             }
            },
            "type": "scattermapbox"
           }
          ],
          "scatterpolar": [
           {
            "marker": {
             "colorbar": {
              "outlinewidth": 0,
              "ticks": ""
             }
            },
            "type": "scatterpolar"
           }
          ],
          "scatterpolargl": [
           {
            "marker": {
             "colorbar": {
              "outlinewidth": 0,
              "ticks": ""
             }
            },
            "type": "scatterpolargl"
           }
          ],
          "scatterternary": [
           {
            "marker": {
             "colorbar": {
              "outlinewidth": 0,
              "ticks": ""
             }
            },
            "type": "scatterternary"
           }
          ],
          "surface": [
           {
            "colorbar": {
             "outlinewidth": 0,
             "ticks": ""
            },
            "colorscale": [
             [
              0,
              "#0d0887"
             ],
             [
              0.1111111111111111,
              "#46039f"
             ],
             [
              0.2222222222222222,
              "#7201a8"
             ],
             [
              0.3333333333333333,
              "#9c179e"
             ],
             [
              0.4444444444444444,
              "#bd3786"
             ],
             [
              0.5555555555555556,
              "#d8576b"
             ],
             [
              0.6666666666666666,
              "#ed7953"
             ],
             [
              0.7777777777777778,
              "#fb9f3a"
             ],
             [
              0.8888888888888888,
              "#fdca26"
             ],
             [
              1,
              "#f0f921"
             ]
            ],
            "type": "surface"
           }
          ],
          "table": [
           {
            "cells": {
             "fill": {
              "color": "#EBF0F8"
             },
             "line": {
              "color": "white"
             }
            },
            "header": {
             "fill": {
              "color": "#C8D4E3"
             },
             "line": {
              "color": "white"
             }
            },
            "type": "table"
           }
          ]
         },
         "layout": {
          "annotationdefaults": {
           "arrowcolor": "#2a3f5f",
           "arrowhead": 0,
           "arrowwidth": 1
          },
          "autotypenumbers": "strict",
          "coloraxis": {
           "colorbar": {
            "outlinewidth": 0,
            "ticks": ""
           }
          },
          "colorscale": {
           "diverging": [
            [
             0,
             "#8e0152"
            ],
            [
             0.1,
             "#c51b7d"
            ],
            [
             0.2,
             "#de77ae"
            ],
            [
             0.3,
             "#f1b6da"
            ],
            [
             0.4,
             "#fde0ef"
            ],
            [
             0.5,
             "#f7f7f7"
            ],
            [
             0.6,
             "#e6f5d0"
            ],
            [
             0.7,
             "#b8e186"
            ],
            [
             0.8,
             "#7fbc41"
            ],
            [
             0.9,
             "#4d9221"
            ],
            [
             1,
             "#276419"
            ]
           ],
           "sequential": [
            [
             0,
             "#0d0887"
            ],
            [
             0.1111111111111111,
             "#46039f"
            ],
            [
             0.2222222222222222,
             "#7201a8"
            ],
            [
             0.3333333333333333,
             "#9c179e"
            ],
            [
             0.4444444444444444,
             "#bd3786"
            ],
            [
             0.5555555555555556,
             "#d8576b"
            ],
            [
             0.6666666666666666,
             "#ed7953"
            ],
            [
             0.7777777777777778,
             "#fb9f3a"
            ],
            [
             0.8888888888888888,
             "#fdca26"
            ],
            [
             1,
             "#f0f921"
            ]
           ],
           "sequentialminus": [
            [
             0,
             "#0d0887"
            ],
            [
             0.1111111111111111,
             "#46039f"
            ],
            [
             0.2222222222222222,
             "#7201a8"
            ],
            [
             0.3333333333333333,
             "#9c179e"
            ],
            [
             0.4444444444444444,
             "#bd3786"
            ],
            [
             0.5555555555555556,
             "#d8576b"
            ],
            [
             0.6666666666666666,
             "#ed7953"
            ],
            [
             0.7777777777777778,
             "#fb9f3a"
            ],
            [
             0.8888888888888888,
             "#fdca26"
            ],
            [
             1,
             "#f0f921"
            ]
           ]
          },
          "colorway": [
           "#636efa",
           "#EF553B",
           "#00cc96",
           "#ab63fa",
           "#FFA15A",
           "#19d3f3",
           "#FF6692",
           "#B6E880",
           "#FF97FF",
           "#FECB52"
          ],
          "font": {
           "color": "#2a3f5f"
          },
          "geo": {
           "bgcolor": "white",
           "lakecolor": "white",
           "landcolor": "#E5ECF6",
           "showlakes": true,
           "showland": true,
           "subunitcolor": "white"
          },
          "hoverlabel": {
           "align": "left"
          },
          "hovermode": "closest",
          "mapbox": {
           "style": "light"
          },
          "paper_bgcolor": "white",
          "plot_bgcolor": "#E5ECF6",
          "polar": {
           "angularaxis": {
            "gridcolor": "white",
            "linecolor": "white",
            "ticks": ""
           },
           "bgcolor": "#E5ECF6",
           "radialaxis": {
            "gridcolor": "white",
            "linecolor": "white",
            "ticks": ""
           }
          },
          "scene": {
           "xaxis": {
            "backgroundcolor": "#E5ECF6",
            "gridcolor": "white",
            "gridwidth": 2,
            "linecolor": "white",
            "showbackground": true,
            "ticks": "",
            "zerolinecolor": "white"
           },
           "yaxis": {
            "backgroundcolor": "#E5ECF6",
            "gridcolor": "white",
            "gridwidth": 2,
            "linecolor": "white",
            "showbackground": true,
            "ticks": "",
            "zerolinecolor": "white"
           },
           "zaxis": {
            "backgroundcolor": "#E5ECF6",
            "gridcolor": "white",
            "gridwidth": 2,
            "linecolor": "white",
            "showbackground": true,
            "ticks": "",
            "zerolinecolor": "white"
           }
          },
          "shapedefaults": {
           "line": {
            "color": "#2a3f5f"
           }
          },
          "ternary": {
           "aaxis": {
            "gridcolor": "white",
            "linecolor": "white",
            "ticks": ""
           },
           "baxis": {
            "gridcolor": "white",
            "linecolor": "white",
            "ticks": ""
           },
           "bgcolor": "#E5ECF6",
           "caxis": {
            "gridcolor": "white",
            "linecolor": "white",
            "ticks": ""
           }
          },
          "title": {
           "x": 0.05
          },
          "xaxis": {
           "automargin": true,
           "gridcolor": "white",
           "linecolor": "white",
           "ticks": "",
           "title": {
            "standoff": 15
           },
           "zerolinecolor": "white",
           "zerolinewidth": 2
          },
          "yaxis": {
           "automargin": true,
           "gridcolor": "white",
           "linecolor": "white",
           "ticks": "",
           "title": {
            "standoff": 15
           },
           "zerolinecolor": "white",
           "zerolinewidth": 2
          }
         }
        }
       }
      },
      "image/png": "[encoded data removed]",
      "text/html": [
       "<div>                            <div id=\"747743c7-edc3-4171-8fa6-37a7b992f74b\" class=\"plotly-graph-div\" style=\"height:525px; width:100%;\"></div>            <script type=\"text/javascript\">                require([\"plotly\"], function(Plotly) {                    window.PLOTLYENV=window.PLOTLYENV || {};                                    if (document.getElementById(\"747743c7-edc3-4171-8fa6-37a7b992f74b\")) {                    Plotly.newPlot(                        \"747743c7-edc3-4171-8fa6-37a7b992f74b\",                        [{\"marker\":{\"color\":[5,6,7,8,9],\"colorscale\":[[0.0,\"#440154\"],[0.1111111111111111,\"#482878\"],[0.2222222222222222,\"#3e4989\"],[0.3333333333333333,\"#31688e\"],[0.4444444444444444,\"#26828e\"],[0.5555555555555556,\"#1f9e89\"],[0.6666666666666666,\"#35b779\"],[0.7777777777777778,\"#6ece58\"],[0.8888888888888888,\"#b5de2b\"],[1.0,\"#fde725\"]],\"opacity\":0.8,\"size\":8},\"mode\":\"markers\",\"x\":[1,2,3,4,5],\"y\":[10,11,12,13,14],\"z\":[5,6,7,8,9],\"type\":\"scatter3d\"}],                        {\"template\":{\"data\":{\"histogram2dcontour\":[{\"type\":\"histogram2dcontour\",\"colorbar\":{\"outlinewidth\":0,\"ticks\":\"\"},\"colorscale\":[[0.0,\"#0d0887\"],[0.1111111111111111,\"#46039f\"],[0.2222222222222222,\"#7201a8\"],[0.3333333333333333,\"#9c179e\"],[0.4444444444444444,\"#bd3786\"],[0.5555555555555556,\"#d8576b\"],[0.6666666666666666,\"#ed7953\"],[0.7777777777777778,\"#fb9f3a\"],[0.8888888888888888,\"#fdca26\"],[1.0,\"#f0f921\"]]}],\"choropleth\":[{\"type\":\"choropleth\",\"colorbar\":{\"outlinewidth\":0,\"ticks\":\"\"}}],\"histogram2d\":[{\"type\":\"histogram2d\",\"colorbar\":{\"outlinewidth\":0,\"ticks\":\"\"},\"colorscale\":[[0.0,\"#0d0887\"],[0.1111111111111111,\"#46039f\"],[0.2222222222222222,\"#7201a8\"],[0.3333333333333333,\"#9c179e\"],[0.4444444444444444,\"#bd3786\"],[0.5555555555555556,\"#d8576b\"],[0.6666666666666666,\"#ed7953\"],[0.7777777777777778,\"#fb9f3a\"],[0.8888888888888888,\"#fdca26\"],[1.0,\"#f0f921\"]]}],\"heatmap\":[{\"type\":\"heatmap\",\"colorbar\":{\"outlinewidth\":0,\"ticks\":\"\"},\"colorscale\":[[0.0,\"#0d0887\"],[0.1111111111111111,\"#46039f\"],[0.2222222222222222,\"#7201a8\"],[0.3333333333333333,\"#9c179e\"],[0.4444444444444444,\"#bd3786\"],[0.5555555555555556,\"#d8576b\"],[0.6666666666666666,\"#ed7953\"],[0.7777777777777778,\"#fb9f3a\"],[0.8888888888888888,\"#fdca26\"],[1.0,\"#f0f921\"]]}],\"heatmapgl\":[{\"type\":\"heatmapgl\",\"colorbar\":{\"outlinewidth\":0,\"ticks\":\"\"},\"colorscale\":[[0.0,\"#0d0887\"],[0.1111111111111111,\"#46039f\"],[0.2222222222222222,\"#7201a8\"],[0.3333333333333333,\"#9c179e\"],[0.4444444444444444,\"#bd3786\"],[0.5555555555555556,\"#d8576b\"],[0.6666666666666666,\"#ed7953\"],[0.7777777777777778,\"#fb9f3a\"],[0.8888888888888888,\"#fdca26\"],[1.0,\"#f0f921\"]]}],\"contourcarpet\":[{\"type\":\"contourcarpet\",\"colorbar\":{\"outlinewidth\":0,\"ticks\":\"\"}}],\"contour\":[{\"type\":\"contour\",\"colorbar\":{\"outlinewidth\":0,\"ticks\":\"\"},\"colorscale\":[[0.0,\"#0d0887\"],[0.1111111111111111,\"#46039f\"],[0.2222222222222222,\"#7201a8\"],[0.3333333333333333,\"#9c179e\"],[0.4444444444444444,\"#bd3786\"],[0.5555555555555556,\"#d8576b\"],[0.6666666666666666,\"#ed7953\"],[0.7777777777777778,\"#fb9f3a\"],[0.8888888888888888,\"#fdca26\"],[1.0,\"#f0f921\"]]}],\"surface\":[{\"type\":\"surface\",\"colorbar\":{\"outlinewidth\":0,\"ticks\":\"\"},\"colorscale\":[[0.0,\"#0d0887\"],[0.1111111111111111,\"#46039f\"],[0.2222222222222222,\"#7201a8\"],[0.3333333333333333,\"#9c179e\"],[0.4444444444444444,\"#bd3786\"],[0.5555555555555556,\"#d8576b\"],[0.6666666666666666,\"#ed7953\"],[0.7777777777777778,\"#fb9f3a\"],[0.8888888888888888,\"#fdca26\"],[1.0,\"#f0f921\"]]}],\"mesh3d\":[{\"type\":\"mesh3d\",\"colorbar\":{\"outlinewidth\":0,\"ticks\":\"\"}}],\"scatter\":[{\"fillpattern\":{\"fillmode\":\"overlay\",\"size\":10,\"solidity\":0.2},\"type\":\"scatter\"}],\"parcoords\":[{\"type\":\"parcoords\",\"line\":{\"colorbar\":{\"outlinewidth\":0,\"ticks\":\"\"}}}],\"scatterpolargl\":[{\"type\":\"scatterpolargl\",\"marker\":{\"colorbar\":{\"outlinewidth\":0,\"ticks\":\"\"}}}],\"bar\":[{\"error_x\":{\"color\":\"#2a3f5f\"},\"error_y\":{\"color\":\"#2a3f5f\"},\"marker\":{\"line\":{\"color\":\"#E5ECF6\",\"width\":0.5},\"pattern\":{\"fillmode\":\"overlay\",\"size\":10,\"solidity\":0.2}},\"type\":\"bar\"}],\"scattergeo\":[{\"type\":\"scattergeo\",\"marker\":{\"colorbar\":{\"outlinewidth\":0,\"ticks\":\"\"}}}],\"scatterpolar\":[{\"type\":\"scatterpolar\",\"marker\":{\"colorbar\":{\"outlinewidth\":0,\"ticks\":\"\"}}}],\"histogram\":[{\"marker\":{\"pattern\":{\"fillmode\":\"overlay\",\"size\":10,\"solidity\":0.2}},\"type\":\"histogram\"}],\"scattergl\":[{\"type\":\"scattergl\",\"marker\":{\"colorbar\":{\"outlinewidth\":0,\"ticks\":\"\"}}}],\"scatter3d\":[{\"type\":\"scatter3d\",\"line\":{\"colorbar\":{\"outlinewidth\":0,\"ticks\":\"\"}},\"marker\":{\"colorbar\":{\"outlinewidth\":0,\"ticks\":\"\"}}}],\"scattermapbox\":[{\"type\":\"scattermapbox\",\"marker\":{\"colorbar\":{\"outlinewidth\":0,\"ticks\":\"\"}}}],\"scatterternary\":[{\"type\":\"scatterternary\",\"marker\":{\"colorbar\":{\"outlinewidth\":0,\"ticks\":\"\"}}}],\"scattercarpet\":[{\"type\":\"scattercarpet\",\"marker\":{\"colorbar\":{\"outlinewidth\":0,\"ticks\":\"\"}}}],\"carpet\":[{\"aaxis\":{\"endlinecolor\":\"#2a3f5f\",\"gridcolor\":\"white\",\"linecolor\":\"white\",\"minorgridcolor\":\"white\",\"startlinecolor\":\"#2a3f5f\"},\"baxis\":{\"endlinecolor\":\"#2a3f5f\",\"gridcolor\":\"white\",\"linecolor\":\"white\",\"minorgridcolor\":\"white\",\"startlinecolor\":\"#2a3f5f\"},\"type\":\"carpet\"}],\"table\":[{\"cells\":{\"fill\":{\"color\":\"#EBF0F8\"},\"line\":{\"color\":\"white\"}},\"header\":{\"fill\":{\"color\":\"#C8D4E3\"},\"line\":{\"color\":\"white\"}},\"type\":\"table\"}],\"barpolar\":[{\"marker\":{\"line\":{\"color\":\"#E5ECF6\",\"width\":0.5},\"pattern\":{\"fillmode\":\"overlay\",\"size\":10,\"solidity\":0.2}},\"type\":\"barpolar\"}],\"pie\":[{\"automargin\":true,\"type\":\"pie\"}]},\"layout\":{\"autotypenumbers\":\"strict\",\"colorway\":[\"#636efa\",\"#EF553B\",\"#00cc96\",\"#ab63fa\",\"#FFA15A\",\"#19d3f3\",\"#FF6692\",\"#B6E880\",\"#FF97FF\",\"#FECB52\"],\"font\":{\"color\":\"#2a3f5f\"},\"hovermode\":\"closest\",\"hoverlabel\":{\"align\":\"left\"},\"paper_bgcolor\":\"white\",\"plot_bgcolor\":\"#E5ECF6\",\"polar\":{\"bgcolor\":\"#E5ECF6\",\"angularaxis\":{\"gridcolor\":\"white\",\"linecolor\":\"white\",\"ticks\":\"\"},\"radialaxis\":{\"gridcolor\":\"white\",\"linecolor\":\"white\",\"ticks\":\"\"}},\"ternary\":{\"bgcolor\":\"#E5ECF6\",\"aaxis\":{\"gridcolor\":\"white\",\"linecolor\":\"white\",\"ticks\":\"\"},\"baxis\":{\"gridcolor\":\"white\",\"linecolor\":\"white\",\"ticks\":\"\"},\"caxis\":{\"gridcolor\":\"white\",\"linecolor\":\"white\",\"ticks\":\"\"}},\"coloraxis\":{\"colorbar\":{\"outlinewidth\":0,\"ticks\":\"\"}},\"colorscale\":{\"sequential\":[[0.0,\"#0d0887\"],[0.1111111111111111,\"#46039f\"],[0.2222222222222222,\"#7201a8\"],[0.3333333333333333,\"#9c179e\"],[0.4444444444444444,\"#bd3786\"],[0.5555555555555556,\"#d8576b\"],[0.6666666666666666,\"#ed7953\"],[0.7777777777777778,\"#fb9f3a\"],[0.8888888888888888,\"#fdca26\"],[1.0,\"#f0f921\"]],\"sequentialminus\":[[0.0,\"#0d0887\"],[0.1111111111111111,\"#46039f\"],[0.2222222222222222,\"#7201a8\"],[0.3333333333333333,\"#9c179e\"],[0.4444444444444444,\"#bd3786\"],[0.5555555555555556,\"#d8576b\"],[0.6666666666666666,\"#ed7953\"],[0.7777777777777778,\"#fb9f3a\"],[0.8888888888888888,\"#fdca26\"],[1.0,\"#f0f921\"]],\"diverging\":[[0,\"#8e0152\"],[0.1,\"#c51b7d\"],[0.2,\"#de77ae\"],[0.3,\"#f1b6da\"],[0.4,\"#fde0ef\"],[0.5,\"#f7f7f7\"],[0.6,\"#e6f5d0\"],[0.7,\"#b8e186\"],[0.8,\"#7fbc41\"],[0.9,\"#4d9221\"],[1,\"#276419\"]]},\"xaxis\":{\"gridcolor\":\"white\",\"linecolor\":\"white\",\"ticks\":\"\",\"title\":{\"standoff\":15},\"zerolinecolor\":\"white\",\"automargin\":true,\"zerolinewidth\":2},\"yaxis\":{\"gridcolor\":\"white\",\"linecolor\":\"white\",\"ticks\":\"\",\"title\":{\"standoff\":15},\"zerolinecolor\":\"white\",\"automargin\":true,\"zerolinewidth\":2},\"scene\":{\"xaxis\":{\"backgroundcolor\":\"#E5ECF6\",\"gridcolor\":\"white\",\"linecolor\":\"white\",\"showbackground\":true,\"ticks\":\"\",\"zerolinecolor\":\"white\",\"gridwidth\":2},\"yaxis\":{\"backgroundcolor\":\"#E5ECF6\",\"gridcolor\":\"white\",\"linecolor\":\"white\",\"showbackground\":true,\"ticks\":\"\",\"zerolinecolor\":\"white\",\"gridwidth\":2},\"zaxis\":{\"backgroundcolor\":\"#E5ECF6\",\"gridcolor\":\"white\",\"linecolor\":\"white\",\"showbackground\":true,\"ticks\":\"\",\"zerolinecolor\":\"white\",\"gridwidth\":2}},\"shapedefaults\":{\"line\":{\"color\":\"#2a3f5f\"}},\"annotationdefaults\":{\"arrowcolor\":\"#2a3f5f\",\"arrowhead\":0,\"arrowwidth\":1},\"geo\":{\"bgcolor\":\"white\",\"landcolor\":\"#E5ECF6\",\"subunitcolor\":\"white\",\"showland\":true,\"showlakes\":true,\"lakecolor\":\"white\"},\"title\":{\"x\":0.05},\"mapbox\":{\"style\":\"light\"}}}},                        {\"responsive\": true}                    ).then(function(){\n",
       "                            \n",
       "var gd = document.getElementById('747743c7-edc3-4171-8fa6-37a7b992f74b');\n",
       "var x = new MutationObserver(function (mutations, observer) {{\n",
       "        var display = window.getComputedStyle(gd).display;\n",
       "        if (!display || display === 'none') {{\n",
       "            console.log([gd, 'removed!']);\n",
       "            Plotly.purge(gd);\n",
       "            observer.disconnect();\n",
       "        }}\n",
       "}});\n",
       "\n",
       "// Listen for the removal of the full notebook cells\n",
       "var notebookContainer = gd.closest('#notebook-container');\n",
       "if (notebookContainer) {{\n",
       "    x.observe(notebookContainer, {childList: true});\n",
       "}}\n",
       "\n",
       "// Listen for the clearing of the current output cell\n",
       "var outputEl = gd.closest('.output');\n",
       "if (outputEl) {{\n",
       "    x.observe(outputEl, {childList: true});\n",
       "}}\n",
       "\n",
       "                        })                };                });            </script>        </div>"
      ]
     },
     "metadata": {},
     "output_type": "display_data"
    }
   ],
   "source": [
    "import plotly.graph_objs as go\n",
    "\n",
    "\n",
    "x = [1, 2, 3, 4, 5]\n",
    "y = [10, 11, 12, 13, 14]\n",
    "z = [5, 6, 7, 8, 9]\n",
    "\n",
    "\n",
    "fig = go.Figure(data=[go.Scatter3d(\n",
    "    x=x,\n",
    "    y=y,\n",
    "    z=z,\n",
    "    mode='markers',\n",
    "    marker=dict(\n",
    "        size=8,\n",
    "        color=z,               \n",
    "        colorscale='Viridis',   \n",
    "        opacity=0.8\n",
    "    )\n",
    ")])\n",
    "\n",
    "\n",
    "fig.show()\n"
   ]
  },
  {
   "cell_type": "code",
   "execution_count": null,
   "id": "865139c3-c29b-4cc3-b686-1f7370041462",
   "metadata": {},
   "outputs": [],
   "source": []
  }
 ],
 "metadata": {
  "kernelspec": {
   "display_name": "Python 3 (ipykernel)",
   "language": "python",
   "name": "python3"
  },
  "language_info": {
   "codemirror_mode": {
    "name": "ipython",
    "version": 3
   },
   "file_extension": ".py",
   "mimetype": "text/x-python",
   "name": "python",
   "nbconvert_exporter": "python",
   "pygments_lexer": "ipython3",
   "version": "3.13.5"
  },
  "widgets": {
   "application/vnd.jupyter.widget-state+json": {
    "state": {},
    "version_major": 2,
    "version_minor": 0
   }
  }
 },
 "nbformat": 4,
 "nbformat_minor": 5
}
